{
 "cells": [
  {
   "cell_type": "markdown",
   "id": "207cb8b5",
   "metadata": {},
   "source": [
    "1. 주어진 바닐라 데이터를 가지고 `이미지와 해당하는 클래스 Label` (18개의 클래스 중 하나)을 생성할 수 있는 `Pytorch Dataset Class`를 직접 생성해보세요.<br>\n",
    "만약 이런 과정을 직접 만들어보는게 처음이시라면 생각보다 시간이 오래 걸릴 것이라 예상합니다. 하지만 이 과정은 캠퍼분들 스스로 반드시 해보길 권장합니다. <br>\n",
    "18개의 클래스를 만드셨다면, 그 타겟 클래스의 분포도 다시 한번 확인해보면 좋겠습니다.\n",
    "\n",
    "<br><br>\n",
    "\n",
    "2. 강의때 보여드렸던 torchvision에 내장된 여러 Augmentation 함수와 albumentation 라이브러리의 여러 transform 기법을 적용해보세요. <br>적용해 보신 뒤에 실제로 어떻게 변환되어 나오는지 확인해보세요. <br>아마 plot형태로 그려서 확인해야 할거에요. <br>그리고 이러한 Transforms를  추가한 Dataset이 과연 어느 정도의 성능을 가지는지 체크해보세요. <br>혹여 너무 무거운 프로세스라면 생각보다 느리게 동작하겠죠? "
   ]
  },
  {
   "cell_type": "code",
   "execution_count": null,
   "id": "4ea86058",
   "metadata": {
    "ExecuteTime": {
     "end_time": "2022-02-26T13:55:31.313504Z",
     "start_time": "2022-02-26T13:55:31.023531Z"
    }
   },
   "outputs": [],
   "source": [
    "import os\n",
    "from enum import Enum\n",
    "import torch\n",
    "from torch.utils.data import Dataset, DataLoader\n",
    "import torchvision\n",
    "from PIL import Image"
   ]
  },
  {
   "cell_type": "code",
   "execution_count": null,
   "id": "fc0a5026",
   "metadata": {
    "ExecuteTime": {
     "end_time": "2022-02-26T10:31:02.071002Z",
     "start_time": "2022-02-26T10:31:02.059004Z"
    }
   },
   "outputs": [],
   "source": [
    "PATH = 'my/train/train'\n",
    "CSV_PATH = os.path.join(PATH, 'train.csv')\n",
    "IMAGE_PATH = os.path.join(PATH, 'images')"
   ]
  },
  {
   "cell_type": "markdown",
   "id": "eba422c9",
   "metadata": {},
   "source": [
    "# Augmentation class\n",
    "- torch vision을 사용해 Augmentation "
   ]
  },
  {
   "cell_type": "code",
   "execution_count": null,
   "id": "3b69a198",
   "metadata": {
    "ExecuteTime": {
     "end_time": "2022-02-26T17:50:23.937195Z",
     "start_time": "2022-02-26T17:50:23.925168Z"
    }
   },
   "outputs": [],
   "source": [
    "from torchvision.transforms import Resize, ToTensor, Normalize, Compose, CenterCrop, ColorJitter, RandomRotation\n",
    "\n",
    "class CustonAugmentation:\n",
    "    \"\"\"\n",
    "    Augmentation을 위한 trainsformer를 정의 \n",
    "    여기선 어떻게 바꿀지만 정의 한다.\n",
    "    실제 Augmentation이 진행되는 곳은?\n",
    "    \n",
    "    \"\"\"\n",
    "    def __init__(self, train = True, resize = [512, 384]):\n",
    "        self.triansformation = {}\n",
    "        if train:\n",
    "            self.transformer['train'] = Compose([\n",
    "                CenterCrop((320, 256)),\n",
    "                Resize(resize, Image.BILINEAR), # resize 크기로 줄이거나 늘릴건데 보간법은 Image.BILINEAR\n",
    "                RandomRotation([-10,10])\n",
    "            ])\n",
    "            \n",
    "        else:\n",
    "            self.transformer['val'] = Compose([\n",
    "                CenterCrop((320, 256)),\n",
    "                Resize(resize, Image.BILINEAR),\n",
    "                RandomRotation([-10,10])\n",
    "            ])\n",
    "    \n",
    "    "
   ]
  },
  {
   "cell_type": "markdown",
   "id": "5643e2dc",
   "metadata": {},
   "source": [
    "# Label Calss\n",
    "- 그냥 ipynb라면 일반 변수로 둘 수 있지만\n",
    "- .py 로 변경을 생각하고 만들었기 때문에 class화 한 것이다."
   ]
  },
  {
   "cell_type": "code",
   "execution_count": null,
   "id": "72be15fa",
   "metadata": {
    "ExecuteTime": {
     "end_time": "2022-02-26T17:23:38.150209Z",
     "start_time": "2022-02-26T17:23:38.141207Z"
    }
   },
   "outputs": [],
   "source": [
    "\n",
    "class MaskLabels(int, Enum):\n",
    "    MASK = 0\n",
    "    INCORRECT = 1\n",
    "    NORMAL = 2\n",
    "    \n",
    "class GenderLabels(int, Enum):\n",
    "    MALE = 0\n",
    "    FEMALE = 1\n",
    "    \n",
    "    # 객체 생성 없이 class명으로 바로 접근하기 위한 classmethod 선언\n",
    "    @classmethod\n",
    "    def from_str(cls, value):\n",
    "        value = value.lower()\n",
    "        if value == 'male':\n",
    "            return cls.MALE\n",
    "        elif value == 'female':\n",
    "            return cls.FEMALE\n",
    "        else:\n",
    "            raise ValueError(f\"value must be 'male' or 'female', not {value}\")\n",
    "            \n",
    "class AgeLabels(int, Enum):\n",
    "    # 클래스 변수\n",
    "    YOUNG = 0\n",
    "    MID = 1\n",
    "    OLD = 2\n",
    "    \n",
    "    @classmethod\n",
    "    def from_int(cls, value):\n",
    "        try:\n",
    "            value = int(value)\n",
    "        except:\n",
    "            raise ValueError(f\"value type must be 'int' not {value}:{type(value)}\")\n",
    "        \n",
    "        if value<30:\n",
    "            return cls.YOUNG\n",
    "        elif value>=30 and value<60:\n",
    "            return cls.MID\n",
    "        else:\n",
    "            return cls.OLD\n",
    "        "
   ]
  },
  {
   "cell_type": "markdown",
   "id": "c6f90913",
   "metadata": {},
   "source": [
    "# Mask Base Dataset\n",
    "- init 을 위해 setup(path를 읽고, labeling) 함수 추가\n",
    "- 포인트는 pandas를 쓰지 않고 접근해본 점"
   ]
  },
  {
   "cell_type": "code",
   "execution_count": null,
   "id": "be9aff68",
   "metadata": {
    "ExecuteTime": {
     "end_time": "2022-02-26T13:42:13.342446Z",
     "start_time": "2022-02-26T13:42:13.331446Z"
    }
   },
   "outputs": [],
   "source": [
    "class MaskBaseDataset(Dataset):\n",
    "    num_classse = 3*2*3\n",
    "    \n",
    "    _file_name = {\n",
    "        \"mask1\":MaskLabels.MASK,\n",
    "        \"mask2\":MaskLabels.MASK,\n",
    "        \"mask3\":MaskLabels.MASK,\n",
    "        \"mask4\":MaskLabels.MASK,\n",
    "        \"mask5\":MaskLabels.MASK,\n",
    "        \"incorrect_maks\":MaskLabels.INCORRECT,\n",
    "        \"normal\":MaskLabels.NORMAL\n",
    "    }  \n",
    "    image_paths=[]\n",
    "    mask_labels=[]\n",
    "    gender_labels=[]\n",
    "    age_labels=[]\n",
    "    \n",
    "    def __init__(self, image_dir, transform = None):\n",
    "        super(CustomDataset,self).__init__()\n",
    "        \n",
    "        self.img_dir = img_dir\n",
    "        self.setup()\n",
    "    \n",
    "        self.transform = transform\n",
    "    \n",
    "    # class 변수 setup\n",
    "    def setup(self):\n",
    "        # image_path / mask / gender / age\n",
    "        image_dir_list = os.listdir(self.img_dir)\n",
    "        \n",
    "        for image_dir_name in image_dir_list:\n",
    "            if image_dir_name.startswith('.'): # . 시작 폴더 제외\n",
    "                continue\n",
    "                \n",
    "            id_, gender, _, age = folder_name.split('_') \n",
    "            age = AgeLabels.from_int(age)\n",
    "            gender = GenderLabels.from_str(gender)\n",
    "            \n",
    "            image_files = os.listdir(image_dir_name)\n",
    "            \n",
    "            for file_name in image_files:\n",
    "                \n",
    "                img_name ,ext = os.path.splitext(file_name)\n",
    "                \n",
    "                if img_name not in _file_name: # . 시작 파일 제외\n",
    "                    continue\n",
    "                \n",
    "                img_path = os.path.join(self.img_dir, image_dir_name, file_name)\n",
    "                mask = _filename(img_name)\n",
    "                \n",
    "                self.image_paths.append(img_path)\n",
    "                self.mask_labels.append(mask)\n",
    "                self.age_labels.append(age)\n",
    "                self.gender_labels.append(gender)\n",
    "    \n",
    "    def __len__(self):\n",
    "        return len(self.image_paths)\n",
    "    \n",
    "    def __getitem__(self, index):\n",
    "        image = Image.open(self.image_paths[index])\n",
    "        mask = self.mask_labels[index]\n",
    "        age = self.age_labels[index]\n",
    "        gender = self.gender_laels[index]\n",
    "        \n",
    "        label = mask*6 + age*3 + gender*1\n",
    "        \n",
    "        # transformation을 통한 Augmentation\n",
    "        image_transform = self.transform(image = np.array(image))['image']\n",
    "        return image_transform, label\n",
    "        "
   ]
  },
  {
   "cell_type": "code",
   "execution_count": null,
   "id": "a8cd16fe",
   "metadata": {},
   "outputs": [],
   "source": []
  }
 ],
 "metadata": {
  "hide_input": false,
  "kernelspec": {
   "display_name": "Python 3 (ipykernel)",
   "language": "python",
   "name": "python3"
  },
  "language_info": {
   "codemirror_mode": {
    "name": "ipython",
    "version": 3
   },
   "file_extension": ".py",
   "mimetype": "text/x-python",
   "name": "python",
   "nbconvert_exporter": "python",
   "pygments_lexer": "ipython3",
   "version": "3.8.5"
  },
  "latex_envs": {
   "LaTeX_envs_menu_present": true,
   "autoclose": false,
   "autocomplete": true,
   "bibliofile": "biblio.bib",
   "cite_by": "apalike",
   "current_citInitial": 1,
   "eqLabelWithNumbers": true,
   "eqNumInitial": 1,
   "hotkeys": {
    "equation": "Ctrl-E",
    "itemize": "Ctrl-I"
   },
   "labels_anchors": false,
   "latex_user_defs": false,
   "report_style_numbering": false,
   "user_envs_cfg": false
  },
  "toc": {
   "base_numbering": 1,
   "nav_menu": {},
   "number_sections": true,
   "sideBar": true,
   "skip_h1_title": false,
   "title_cell": "Table of Contents",
   "title_sidebar": "Contents",
   "toc_cell": false,
   "toc_position": {},
   "toc_section_display": true,
   "toc_window_display": true
  },
  "varInspector": {
   "cols": {
    "lenName": 16,
    "lenType": 16,
    "lenVar": 40
   },
   "kernels_config": {
    "python": {
     "delete_cmd_postfix": "",
     "delete_cmd_prefix": "del ",
     "library": "var_list.py",
     "varRefreshCmd": "print(var_dic_list())"
    },
    "r": {
     "delete_cmd_postfix": ") ",
     "delete_cmd_prefix": "rm(",
     "library": "var_list.r",
     "varRefreshCmd": "cat(var_dic_list()) "
    }
   },
   "types_to_exclude": [
    "module",
    "function",
    "builtin_function_or_method",
    "instance",
    "_Feature"
   ],
   "window_display": false
  }
 },
 "nbformat": 4,
 "nbformat_minor": 5
}
