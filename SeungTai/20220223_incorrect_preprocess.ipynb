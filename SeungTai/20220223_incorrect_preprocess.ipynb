{
 "cells": [
  {
   "cell_type": "code",
   "execution_count": null,
   "id": "fa546dc8-eb72-45c2-be4a-462da8ac8deb",
   "metadata": {},
   "outputs": [],
   "source": [
    "import os\n",
    "import pandas as pd\n",
    "import numpy as np\n",
    "import random\n",
    "import glob\n",
    "import shutil\n",
    "from PIL import Image\n",
    "\n",
    "\n",
    "from tqdm import tqdm\n",
    "\n",
    "data_dir = '../input/data/train/'\n",
    "test_dir = '../input/data/eval/'\n",
    "submission_dir = './submission/'\n",
    "image_data_dir = data_dir + 'images/'"
   ]
  },
  {
   "cell_type": "markdown",
   "id": "8f22d4fc-a254-49b6-9653-0939937304fa",
   "metadata": {},
   "source": [
    "## 데이터 전처리"
   ]
  },
  {
   "cell_type": "code",
   "execution_count": null,
   "id": "46ee572e-f128-4ac1-88bb-603ffb646c01",
   "metadata": {},
   "outputs": [],
   "source": [
    "train_df = pd.read_csv(data_dir + 'train.csv')\n",
    "submission = pd.read_csv(test_dir + 'info.csv')"
   ]
  },
  {
   "cell_type": "markdown",
   "id": "5d75324f-e580-4945-8d14-dbbe60df846c",
   "metadata": {},
   "source": [
    "### 이상치 처리"
   ]
  },
  {
   "cell_type": "code",
   "execution_count": null,
   "id": "6ccd59aa-cd78-4880-8e22-3645e9bd087e",
   "metadata": {},
   "outputs": [],
   "source": [
    "'''\n",
    "정시현님 코드 참고\n",
    "\n",
    "'''\n",
    "\n",
    "# def incorrect_image_change(data_dir): \n",
    "\n",
    "#     wrong_folders = [folder for folder in [\"000020_female_Asian_50\", \"004418_male_Asian_20\", \"005227_male_Asian_22\"]]\n",
    "    \n",
    "#     file_names = [\"incorrect_mask.jpg\", \"normal.jpg\", \"temp.jpg\"]\n",
    "\n",
    "\n",
    "#     for folder in wrong_folders:\n",
    "#         image_dir = os.path.join(data_dir, folder)\n",
    "\n",
    "#         incorrect_file = os.path.join(image_dir, file_names[0])\n",
    "#         normal_file = os.path.join(image_dir, file_names[1])\n",
    "\n",
    "\n",
    "#         temp = os.path.join(image_dir, file_names[2])\n",
    "\n",
    "#         os.rename(incorrect_file, temp)\n",
    "#         os.rename(normal_file, incorrect_file)\n",
    "#         os.rename(temp, normal_file)  # temp img is not created in this folder, only for rename\n",
    "\n",
    "#         print(\"Changed File Names\")\n",
    "\n",
    "# incorrect_image_change(image_data_dir)"
   ]
  },
  {
   "cell_type": "code",
   "execution_count": null,
   "id": "3a0dcdf4-602c-4f2f-8f87-f6af7da0285c",
   "metadata": {},
   "outputs": [],
   "source": [
    "'''\n",
    "구창회님 정보 참고\n",
    "\n",
    "'''\n",
    "\n",
    "# def incorrect_label_change(data_dir): \n",
    "\n",
    "#     wrong_folders = [data_dir + folder + \"*\" for folder in  [\"001498-1\", \"004432\"] + [\"00\" + str(i) for i in range(6359, 6365)]]\n",
    "\n",
    "#     print(wrong_folders)\n",
    "    \n",
    "#     for folder in wrong_folders:\n",
    "#         wrong_folder = glob.glob(folder)[0]\n",
    "#         folder_name = wrong_folder.split('/')[-1]\n",
    "        \n",
    "#         if \"female\" in folder_name:\n",
    "#             correct_folder = wrong_folder.replace(\"male\", \"female\")\n",
    "#             shutil.move(wrong_folder, correct_folder) \n",
    "        \n",
    "#         elif \"male\" in folder_name:\n",
    "#             correct_folder = wrong_folder.replace(\"female\", \"male\")\n",
    "#             shutil.move(wrong_folder, correct_folder) \n",
    "\n",
    "#         print(\"Changed Folder Names\")\n",
    "\n",
    "# incorrect_label_change(image_data_dir)"
   ]
  }
 ],
 "metadata": {
  "kernelspec": {
   "display_name": "Python 3 (ipykernel)",
   "language": "python",
   "name": "python3"
  },
  "language_info": {
   "codemirror_mode": {
    "name": "ipython",
    "version": 3
   },
   "file_extension": ".py",
   "mimetype": "text/x-python",
   "name": "python",
   "nbconvert_exporter": "python",
   "pygments_lexer": "ipython3",
   "version": "3.8.5"
  }
 },
 "nbformat": 4,
 "nbformat_minor": 5
}
