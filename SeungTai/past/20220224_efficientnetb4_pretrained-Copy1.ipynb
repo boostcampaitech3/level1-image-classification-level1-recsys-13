{
 "cells": [
  {
   "cell_type": "code",
   "execution_count": null,
   "id": "2484966d-3666-4b58-89d6-de35384fe84e",
   "metadata": {},
   "outputs": [],
   "source": [
    "import os\n",
    "import pandas as pd\n",
    "import numpy as np\n",
    "import random\n",
    "import glob\n",
    "import shutil\n",
    "from PIL import Image\n",
    "from tqdm import tqdm\n",
    "\n",
    "# 모델 관련 모듈\n",
    "import torch\n",
    "import torch.nn as nn\n",
    "import torch.nn.functional as F\n",
    "import torch.backends.cudnn as cudnn\n",
    "import torch.optim as optim\n",
    "\n",
    "from torch.utils.data import Dataset, DataLoader\n",
    "from torchvision import transforms\n",
    "from torchvision.transforms import Resize, ToTensor, Normalize\n",
    "import torchvision.models as models\n",
    "\n",
    "from sklearn.model_selection import train_test_split\n",
    "from sklearn.model_selection import StratifiedKFold\n",
    "from sklearn.metrics import f1_score\n",
    "from sklearn.metrics import confusion_matrix\n",
    "from sklearn.metrics import accuracy_score"
   ]
  },
  {
   "cell_type": "code",
   "execution_count": null,
   "id": "c5c62f87-667b-4136-abd8-5c31d716b50b",
   "metadata": {},
   "outputs": [],
   "source": [
    "# 경로 설정\n",
    "\n",
    "data_dir = '../input/data/train/'\n",
    "test_dir = '../input/data/eval/'\n",
    "submission_dir = './submission/'\n",
    "model_dir = './model/'\n",
    "image_data_dir = data_dir + 'images/'"
   ]
  },
  {
   "cell_type": "markdown",
   "id": "289d4d39-f938-408f-9c90-98d91617ea72",
   "metadata": {},
   "source": [
    "## Seed 고정"
   ]
  },
  {
   "cell_type": "code",
   "execution_count": null,
   "id": "0ed7fa41-1010-4e33-b496-2593661e8a95",
   "metadata": {},
   "outputs": [],
   "source": [
    "'''\n",
    "정인식님 코드 참고\n",
    "\n",
    "'''\n",
    "\n",
    "random_seed = 42\n",
    "\n",
    "#pytorch의 random seed 고정\n",
    "\n",
    "torch.manual_seed(random_seed)\n",
    "\n",
    "# CuDNN 부분고정\n",
    "\n",
    "torch.backends.cudnn.deterministic = True # 고정하면 학습이 느려진다고 합니다.\n",
    "\n",
    "torch.backends.cudnn.benchmark = False\n",
    "\n",
    "# Numpy 부분\n",
    "\n",
    "np.random.seed(random_seed)\n",
    "\n",
    "# transforms에서 random 라이브러리를 사용하기 때문에 random 라이브러리를 불러서 고정\n",
    "\n",
    "random.seed(random_seed)\n",
    "\n",
    "# GPU 에서 사용하는 난수 생성 시드 고정\n",
    "\n",
    "torch.cuda.manual_seed(random_seed)"
   ]
  },
  {
   "cell_type": "markdown",
   "id": "8c25f72a-1358-4f70-a8cf-41fbfc63675a",
   "metadata": {},
   "source": [
    "## 데이터 전처리"
   ]
  },
  {
   "cell_type": "code",
   "execution_count": null,
   "id": "6cd17fab-28a1-43c0-bda0-0e4572ef6e26",
   "metadata": {},
   "outputs": [],
   "source": [
    "train_df = pd.read_csv(data_dir + 'train.csv')\n",
    "submission = pd.read_csv(test_dir + 'info.csv')"
   ]
  },
  {
   "cell_type": "code",
   "execution_count": null,
   "id": "bece0af8-cd0f-438e-a87e-91b1b975f4da",
   "metadata": {},
   "outputs": [],
   "source": [
    "'''\n",
    "신규범님 코드 참고\n",
    "\n",
    "학습 데이터 구축\n",
    "'''\n",
    "def age_group(x):\n",
    "    if x < 30: return 0\n",
    "    elif x < 60: return 1\n",
    "    else: return 2\n",
    "\n",
    "\n",
    "df = []\n",
    "\n",
    "for idx, line in tqdm(enumerate(train_df.iloc)):\n",
    "    for file in list(os.listdir(os.path.join(image_data_dir, line['path']))):\n",
    "        if file[0] == '.':\n",
    "            continue\n",
    "        if file.split('.')[0] == 'normal':\n",
    "            mask = 2\n",
    "        elif file.split('.')[0] == 'incorrect_mask':\n",
    "            mask = 1\n",
    "        else:\n",
    "            mask = 0\n",
    "        gender = 0 if line['gender'] == 'male' else 1\n",
    "        data = {\n",
    "            'id' : line['id'],\n",
    "            'gender' : line['gender'],\n",
    "            'age_group' : age_group(line['age']),\n",
    "            'mask' : mask,\n",
    "            'path': os.path.join(image_data_dir, line['path'], file),\n",
    "            'label': mask * 6 + gender * 3 + age_group(line['age'])\n",
    "        }\n",
    "        df.append(data)\n",
    "\n",
    "df = pd.DataFrame(df)"
   ]
  },
  {
   "cell_type": "code",
   "execution_count": null,
   "id": "be99e535-bfef-4ac0-b761-604da6aa2ce6",
   "metadata": {},
   "outputs": [],
   "source": [
    "'''\n",
    "데이터셋 분리\n",
    "'''\n",
    "\n",
    "train_idx, val_idx = train_test_split(df['label'], train_size = 0.8, random_state = 22, stratify = df['label'])\n",
    "                                      \n",
    "train_set, val_set = df.iloc[train_idx.index, :], df.iloc[val_idx.index, :]"
   ]
  },
  {
   "cell_type": "markdown",
   "id": "0a3f4bf2-13a5-42ac-a693-2d43d91186bd",
   "metadata": {},
   "source": [
    "## 데이터셋 구축"
   ]
  },
  {
   "cell_type": "code",
   "execution_count": null,
   "id": "2fcd8690-6d91-4e99-8984-3872dc266bd9",
   "metadata": {},
   "outputs": [],
   "source": [
    "'''\n",
    "Sample_submission 코드 참고\n",
    "\n",
    "데이터 셋 구축\n",
    "'''\n",
    "\n",
    "class CustomDataset(Dataset):\n",
    "    def __init__(self, df, transform, train = True):\n",
    "        \n",
    "        image_dir = '../input/data/eval/images'\n",
    "        \n",
    "        self.train = train\n",
    "        self.df = df\n",
    "        if self.train:\n",
    "            self.img_paths = self.df['path'].tolist()\n",
    "            self.labels = self.df['label'].tolist()\n",
    "        else:\n",
    "            self.img_paths = [os.path.join(image_dir, img_id) for img_id in self.df.ImageID]\n",
    "        self.transform = transform\n",
    "\n",
    "    def __getitem__(self, index):\n",
    "        image = Image.open(self.img_paths[index])\n",
    "        if self.transform:\n",
    "            image = self.transform(image)\n",
    "            \n",
    "        if self.train: return image, torch.tensor(self.labels[index])\n",
    "        else: return image\n",
    "\n",
    "    def __len__(self):\n",
    "        return len(self.img_paths)"
   ]
  },
  {
   "cell_type": "markdown",
   "id": "7bd23ff4-e95a-4227-aa8d-e8abfd8089f4",
   "metadata": {},
   "source": [
    "## 학습 설정"
   ]
  },
  {
   "cell_type": "code",
   "execution_count": null,
   "id": "1d4900c6-4f60-42f9-9b17-600560163d3d",
   "metadata": {},
   "outputs": [],
   "source": [
    "'''\n",
    "학습 함수 설정\n",
    "'''\n",
    "\n",
    "def train(model, data_loader, optimizer, scheduler, criterion):\n",
    "    model.train()\n",
    "    train_loss = 0\n",
    "    correct = 0\n",
    "    total = 0\n",
    "    f1 = 0\n",
    "    \n",
    "    for batch_idx, (images, targets) in enumerate(data_loader):\n",
    "        images, targets = images.to(device), targets.to(device)\n",
    "        optimizer.zero_grad()\n",
    "\n",
    "        benign_outputs = model(images)\n",
    "        loss = criterion(benign_outputs, targets)\n",
    "        loss.backward()\n",
    "\n",
    "        optimizer.step()\n",
    "        train_loss += loss.item()\n",
    "        _, predicted = benign_outputs.max(1)\n",
    "\n",
    "        total += targets.size(0)\n",
    "        correct += predicted.eq(targets).sum().item()\n",
    "        f1 += f1_score(targets.cpu().tolist(), predicted.cpu().tolist(), average='macro')\n",
    "        \n",
    "    train_loss /= len(data_loader)\n",
    "    acc = correct / total\n",
    "    f1 /= len(data_loader)\n",
    "    \n",
    "    scheduler.step(train_loss)\n",
    "    \n",
    "    return train_loss, acc, f1\n",
    "\n",
    "\n",
    "def val(model, data_loader, criterion):\n",
    "    model.eval()\n",
    "    val_loss = 0\n",
    "    correct = 0\n",
    "    total = 0\n",
    "    f1 = 0\n",
    "    \n",
    "    for batch_idx, (images, targets) in enumerate(data_loader):\n",
    "        with torch.no_grad():\n",
    "            images, targets = images.to(device), targets.to(device)\n",
    "            benign_outputs = model(images)\n",
    "            loss = criterion(benign_outputs, targets)\n",
    "            val_loss += loss.item()\n",
    "            _, predicted = benign_outputs.max(1)\n",
    "\n",
    "            total += targets.size(0)\n",
    "            correct += predicted.eq(targets).sum().item()\n",
    "            f1 += f1_score(targets.cpu().tolist(), predicted.cpu().tolist(), average='macro')\n",
    "    \n",
    "    val_loss /= len(data_loader)\n",
    "    acc = correct / total\n",
    "    f1 /= len(data_loader)\n",
    "    \n",
    "    return val_loss, acc, f1\n",
    "\n",
    "def pred(model, data_loader):\n",
    "    model.eval()\n",
    "    all_predictions = []\n",
    "    for images in data_loader:\n",
    "        with torch.no_grad():\n",
    "            images = images.to(device)\n",
    "            pred = model(images)\n",
    "            pred = pred.argmax(dim=-1)\n",
    "            all_predictions.extend(pred.cpu().numpy())\n",
    "            \n",
    "    return all_predictions"
   ]
  },
  {
   "cell_type": "code",
   "execution_count": null,
   "id": "386d18c3-8ba8-4245-8745-8bf43f3b69b0",
   "metadata": {},
   "outputs": [],
   "source": [
    "'''\n",
    "학습 설정\n",
    "'''\n",
    "\n",
    "device = 'cuda' if torch.cuda.is_available() else 'cpu'\n",
    "lr = 0.001\n",
    "epochs = 30\n",
    "batch_size = 32"
   ]
  },
  {
   "cell_type": "markdown",
   "id": "c3e5b68e-746b-484e-bafd-34948e250d15",
   "metadata": {},
   "source": [
    "## 데이터 로더 생성"
   ]
  },
  {
   "cell_type": "code",
   "execution_count": null,
   "id": "4eebb7b9-d491-4503-ad05-6026e3baacf4",
   "metadata": {},
   "outputs": [],
   "source": [
    "'''\n",
    "데이터 로더 생성\n",
    "'''\n",
    "\n",
    "transform = transforms.Compose([\n",
    "    ToTensor(),\n",
    "    Normalize(mean= (0.485, 0.456, 0.406), std=(0.229, 0.224, 0.225)),\n",
    "#     Resize((512, 384), Image.BILINEAR),\n",
    "    transforms.CenterCrop(384),\n",
    "])\n",
    "\n",
    "train_customset = CustomDataset(df = train_set, transform = transform, train = True)\n",
    "val_customset = CustomDataset(df = val_set, transform = transform, train = True)\n",
    "test_customset = CustomDataset(df = submission, transform = transform, train = False)\n",
    "\n",
    "train_loader = DataLoader(\n",
    "    train_customset,\n",
    "    batch_size = batch_size,\n",
    "    shuffle=True,\n",
    "    num_workers = 2,\n",
    ")\n",
    "\n",
    "val_loader = DataLoader(\n",
    "    val_customset,\n",
    "    batch_size = batch_size,\n",
    "    shuffle=True,\n",
    "    num_workers = 2,\n",
    ")\n",
    "\n",
    "test_loader = DataLoader(\n",
    "    test_customset,\n",
    "    batch_size = batch_size,\n",
    "    shuffle=False,\n",
    "    num_workers = 2,\n",
    ")"
   ]
  },
  {
   "cell_type": "code",
   "execution_count": null,
   "id": "04b147b7-b5b8-4570-bc70-3c76925ff1a1",
   "metadata": {},
   "outputs": [],
   "source": [
    "'''\n",
    "모델 설정\n",
    "'''\n",
    "model = models.efficientnet_b4(pretrained=True).to(device)\n",
    "criterion = nn.CrossEntropyLoss()\n",
    "optimizer = optim.Adam(model.parameters(), lr=lr)\n",
    "scheduler = torch.optim.lr_scheduler.ReduceLROnPlateau(optimizer, 'min', factor = 0.1, eps = 1e-09, patience = 5)"
   ]
  },
  {
   "cell_type": "code",
   "execution_count": null,
   "id": "3da605dd-8652-4fcd-b91e-7c207393a644",
   "metadata": {},
   "outputs": [],
   "source": [
    "len(train_loader)"
   ]
  },
  {
   "cell_type": "code",
   "execution_count": null,
   "id": "516e7a82-9341-4e90-8f04-dbd8340329f1",
   "metadata": {},
   "outputs": [],
   "source": [
    "in_features = model.classifier[1].in_features\n",
    "model.classifier[1] = torch.nn.Linear(in_features=in_features, out_features=18, bias=True).to(device)"
   ]
  },
  {
   "cell_type": "markdown",
   "id": "48452261-dba3-497e-b963-53bb3743f8fe",
   "metadata": {},
   "source": [
    "## 학습"
   ]
  },
  {
   "cell_type": "code",
   "execution_count": null,
   "id": "d9471476-b22c-44a0-b381-c18e275d2ae9",
   "metadata": {
    "tags": []
   },
   "outputs": [],
   "source": [
    "torch.cuda.empty_cache()\n",
    "min_val_loss = float(\"inf\")\n",
    "early_stopping_count = 0\n",
    "\n",
    "for epoch in tqdm(range(1, epochs + 1)):\n",
    "    train_loss, train_acc, train_f1 = train(model = model, data_loader = train_loader, optimizer = optimizer, scheduler = scheduler, criterion = criterion)\n",
    "    val_loss, val_acc, val_f1 = val(model = model, data_loader = val_loader, criterion = criterion)\n",
    "    \n",
    "    print(f'epoch : {epoch}, train_loss : {train_loss}, train_acc : {train_acc}, train_f1 : {train_f1}, val_loss : {val_loss}, val_acc : {val_acc}, val_f1 : {val_f1}')\n",
    "    \n",
    "    # 모델 저장\n",
    "    if val_loss < min_val_loss:\n",
    "        min_val_loss = val_loss\n",
    "        torch.save(model.state_dict(), model_dir + f'best_efficientnet_b4.pt')\n",
    "        early_stopping_count = 0\n",
    "    else:\n",
    "        early_stopping_count += 1\n",
    "        if early_stopping_count == 5:\n",
    "            print('early_stopping')\n",
    "            break"
   ]
  },
  {
   "cell_type": "code",
   "execution_count": null,
   "id": "5aee7b39-b5bb-4df9-a4c1-03723c0189e7",
   "metadata": {},
   "outputs": [],
   "source": [
    "model = models.efficientnet_b4(pretrained=False).to(device)\n",
    "in_features = model.classifier[1].in_features\n",
    "model.classifier[1] = torch.nn.Linear(in_features=in_features, out_features=18, bias=True).to(device)\n",
    "model.load_state_dict(torch.load(model_dir + f'best_efficientnet_b4.pt', map_location = device))"
   ]
  },
  {
   "cell_type": "markdown",
   "id": "46c59ac7-00f9-4d76-949e-08d27c65c5fa",
   "metadata": {},
   "source": [
    "## 예측"
   ]
  },
  {
   "cell_type": "code",
   "execution_count": null,
   "id": "283014b4-8e99-4e47-8d3f-c1797c03128f",
   "metadata": {},
   "outputs": [],
   "source": [
    "# 모델이 테스트 데이터셋을 예측하고 결과를 저장합니다.\n",
    "all_predictions = pred(model = model, data_loader = test_loader)\n",
    "submission['ans'] = all_predictions"
   ]
  },
  {
   "cell_type": "code",
   "execution_count": null,
   "id": "4bcbca1b-c238-4f10-bb42-7ba36fe25de5",
   "metadata": {},
   "outputs": [],
   "source": [
    "def get_f1_score(y_true, y_pred):\n",
    "    return f1_score(y_true, y_pred, average='macro')\n",
    "\n",
    "def get_acc_score(y_true, y_pred):\n",
    "    return accuracy_score(y_true, y_pred)\n",
    "\n",
    "\n",
    "def val_pred(model, data_loader):\n",
    "    model.eval()\n",
    "    all_predictions = []\n",
    "    all_targets = []\n",
    "    for (images, targets) in data_loader:\n",
    "        with torch.no_grad():\n",
    "            images, targets = images.to(device), targets.to(device)\n",
    "            pred = model(images)\n",
    "            pred = pred.argmax(dim=-1)\n",
    "            all_predictions.extend(pred.cpu().numpy())\n",
    "            all_targets.extend(targets.cpu().numpy())\n",
    "            \n",
    "    return all_predictions, all_targets"
   ]
  },
  {
   "cell_type": "markdown",
   "id": "8b4196b7-7f40-436d-9877-df13109b8bdf",
   "metadata": {},
   "source": [
    "## confusion matrix"
   ]
  },
  {
   "cell_type": "code",
   "execution_count": null,
   "id": "7c14c540-0708-4193-bb26-c5e03d2f4b0e",
   "metadata": {},
   "outputs": [],
   "source": [
    "val_predictions, val_targets = val_pred(model = model, data_loader = val_loader)\n",
    "\n",
    "val_f1 = get_f1_score(y_true = val_targets, y_pred = val_predictions)\n",
    "val_acc = get_acc_score(y_true = val_targets, y_pred = val_predictions)\n",
    "\n",
    "val_confusion_matrix = pd.DataFrame((confusion_matrix(y_true = val_targets, y_pred = val_predictions)))\n",
    "print(f'val confusion_matrix')\n",
    "display(val_confusion_matrix.style.background_gradient(cmap='YlOrRd', axis = 0))\n",
    "print(f'val fi : {val_f1}, val acc: {val_acc} \\n')"
   ]
  },
  {
   "cell_type": "markdown",
   "id": "08e8c2ad-0bd3-4421-8c07-c06d819238a3",
   "metadata": {},
   "source": [
    "## 제출 파일 생성"
   ]
  },
  {
   "cell_type": "code",
   "execution_count": null,
   "id": "d3df5b40-9141-4641-9c20-6ec9623d5544",
   "metadata": {},
   "outputs": [],
   "source": [
    "# 제출할 파일을 저장합니다.\n",
    "submission.to_csv(os.path.join(submission_dir, 'efficientnetb4_pretrained.csv'), index=False)\n",
    "print('test inference is done!')"
   ]
  },
  {
   "cell_type": "code",
   "execution_count": null,
   "id": "f218c845-7bb3-4334-9eaf-b3b4c13252c9",
   "metadata": {},
   "outputs": [],
   "source": [
    "submission.head()"
   ]
  },
  {
   "cell_type": "code",
   "execution_count": null,
   "id": "04233024-211c-4869-9d25-ea2c6b01ffab",
   "metadata": {},
   "outputs": [],
   "source": []
  }
 ],
 "metadata": {
  "kernelspec": {
   "display_name": "Python 3 (ipykernel)",
   "language": "python",
   "name": "python3"
  },
  "language_info": {
   "codemirror_mode": {
    "name": "ipython",
    "version": 3
   },
   "file_extension": ".py",
   "mimetype": "text/x-python",
   "name": "python",
   "nbconvert_exporter": "python",
   "pygments_lexer": "ipython3",
   "version": "3.8.5"
  }
 },
 "nbformat": 4,
 "nbformat_minor": 5
}
