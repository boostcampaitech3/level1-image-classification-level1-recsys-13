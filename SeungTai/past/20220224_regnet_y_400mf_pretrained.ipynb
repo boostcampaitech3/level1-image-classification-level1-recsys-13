{
 "cells": [
  {
   "cell_type": "code",
   "execution_count": 1,
   "id": "2484966d-3666-4b58-89d6-de35384fe84e",
   "metadata": {},
   "outputs": [],
   "source": [
    "import os\n",
    "import pandas as pd\n",
    "import numpy as np\n",
    "import random\n",
    "import glob\n",
    "import shutil\n",
    "from PIL import Image\n",
    "from tqdm import tqdm\n",
    "\n",
    "# 모델 관련 모듈\n",
    "import torch\n",
    "import torch.nn as nn\n",
    "import torch.nn.functional as F\n",
    "import torch.backends.cudnn as cudnn\n",
    "import torch.optim as optim\n",
    "\n",
    "from torch.utils.data import Dataset, DataLoader\n",
    "from torchvision import transforms\n",
    "from torchvision.transforms import Resize, ToTensor, Normalize\n",
    "import torchvision.models as models\n",
    "\n",
    "from sklearn.model_selection import train_test_split\n",
    "from sklearn.model_selection import StratifiedKFold\n",
    "from sklearn.metrics import f1_score\n",
    "from sklearn.metrics import confusion_matrix\n",
    "from sklearn.metrics import accuracy_score"
   ]
  },
  {
   "cell_type": "code",
   "execution_count": 2,
   "id": "c5c62f87-667b-4136-abd8-5c31d716b50b",
   "metadata": {},
   "outputs": [],
   "source": [
    "# 경로 설정\n",
    "\n",
    "data_dir = '../input/data/train/'\n",
    "test_dir = '../input/data/eval/'\n",
    "submission_dir = './submission/'\n",
    "submission_image_dir = '../input/data/eval/images'\n",
    "model_dir = './model/'\n",
    "train_image_dir = data_dir + 'images/'\n"
   ]
  },
  {
   "cell_type": "markdown",
   "id": "289d4d39-f938-408f-9c90-98d91617ea72",
   "metadata": {},
   "source": [
    "## Seed 고정"
   ]
  },
  {
   "cell_type": "code",
   "execution_count": 3,
   "id": "0ed7fa41-1010-4e33-b496-2593661e8a95",
   "metadata": {},
   "outputs": [],
   "source": [
    "'''\n",
    "정인식님 코드 참고\n",
    "\n",
    "'''\n",
    "\n",
    "random_seed = 42\n",
    "\n",
    "#pytorch의 random seed 고정\n",
    "\n",
    "torch.manual_seed(random_seed)\n",
    "\n",
    "# CuDNN 부분고정\n",
    "\n",
    "torch.backends.cudnn.deterministic = True # 고정하면 학습이 느려진다고 합니다.\n",
    "\n",
    "torch.backends.cudnn.benchmark = False\n",
    "\n",
    "# Numpy 부분\n",
    "\n",
    "np.random.seed(random_seed)\n",
    "\n",
    "# transforms에서 random 라이브러리를 사용하기 때문에 random 라이브러리를 불러서 고정\n",
    "\n",
    "random.seed(random_seed)\n",
    "\n",
    "# GPU 에서 사용하는 난수 생성 시드 고정\n",
    "\n",
    "torch.cuda.manual_seed(random_seed)"
   ]
  },
  {
   "cell_type": "markdown",
   "id": "60e8128f-cb16-481a-bd8b-d851858c1f67",
   "metadata": {},
   "source": [
    "## 함수 정의"
   ]
  },
  {
   "cell_type": "code",
   "execution_count": 4,
   "id": "64c34b99-7895-47d1-966b-3f5da02672e8",
   "metadata": {},
   "outputs": [],
   "source": [
    "# 이상치 이미지 시각화\n",
    "def show_img(img_id_li, df, data_dir):\n",
    "    for img_id in img_id_li:\n",
    "        get_df = df[df['id'] == img_id]\n",
    "        \n",
    "        img_age = get_df['age'].tolist()[0]\n",
    "        img_gender = get_df['gender'].tolist()[0]\n",
    "        \n",
    "        img_path = get_df['path'].tolist()[0]\n",
    "        img_path = os.path.join(data_dir, img_path)\n",
    "        img_name_li = sorted(list(os.listdir(img_path)))\n",
    "        \n",
    "        fig, ax = plt.subplots(1, 7, figsize = (30, 15))\n",
    "        ax = ax.flatten()\n",
    "        \n",
    "        idx = 0\n",
    "        for _img_name in img_name_li:\n",
    "            if _img_name[0] == '.': continue\n",
    "            \n",
    "            if _img_name.split('.')[0] == 'normal': imag_name = 'normal'\n",
    "            elif _img_name.split('.')[0] == 'incorrect_mask': imag_name = 'incorrect_mask'\n",
    "            else: imag_name = 'mask'\n",
    "            \n",
    "            get_img_path = os.path.join(img_path, _img_name)\n",
    "            \n",
    "            img = Image.open(get_img_path)\n",
    "            img = np.array(img)\n",
    "            ax[idx].imshow(img)\n",
    "            ax[idx].set_title(f'{img_id} / {img_age} / {img_gender} / {imag_name}')\n",
    "            ax[idx].set_xticks([])\n",
    "            ax[idx].set_yticks([])\n",
    "            idx += 1\n",
    "            \n",
    "        plt.show()\n",
    "\n",
    "# image path로 이미지 시각화\n",
    "def path_li_show_img(path_li):\n",
    "    fig, ax = plt.subplots(1, 7, figsize = (30, 15))\n",
    "    ax = ax.flatten()\n",
    "    idx = 0\n",
    "    for path in path_li:\n",
    "        image_name = path.split('/')[-1]\n",
    "        img = Image.open(path)\n",
    "        img = np.array(img)\n",
    "        ax[idx].imshow(img)\n",
    "        ax[idx].set_title(f'{image_name}')\n",
    "        ax[idx].set_xticks([])\n",
    "        ax[idx].set_yticks([])\n",
    "        idx += 1\n",
    "    plt.show()\n",
    "\n",
    "# ages 생성\n",
    "def get_ages(x):\n",
    "    if x < 30: return 0\n",
    "    elif x < 60: return 1\n",
    "    else: return 2\n",
    "\n",
    "# genders 생성\n",
    "def get_genders(x):\n",
    "    if x == 'male': return 0\n",
    "    else: return 1\n",
    "\n",
    "# masks 생성\n",
    "def get_masks(x):\n",
    "    if x == 'normal': return 2\n",
    "    elif x == 'incorrect_mask': return 1\n",
    "    else: return 0\n",
    "\n",
    "# labels 생성\n",
    "def get_labels(masks, genders, ages):\n",
    "    return masks * 6 + genders * 3 + ages\n",
    "\n",
    "# train_df 생성\n",
    "def get_train_df(df):\n",
    "    train_df = []\n",
    "    train_data_dir = '../input/data/train/'\n",
    "    for line in df.iloc:\n",
    "        for file in list(os.listdir(os.path.join(train_image_dir, line['path']))):\n",
    "            if file[0] == '.':\n",
    "                continue\n",
    "                \n",
    "            mask = file.split('.')[0]\n",
    "            gender = line['gender']\n",
    "            age = line['age']\n",
    "            \n",
    "            masks = get_masks(mask)\n",
    "            genders = get_genders(gender)\n",
    "            ages = get_ages(age)\n",
    "            \n",
    "            data = {\n",
    "                'id' : line['id'],\n",
    "                'mask' : mask,\n",
    "                'gender' : gender,\n",
    "                'age' : age,\n",
    "                'masks' : masks,\n",
    "                'genders' : genders,\n",
    "                'ages' : ages,\n",
    "                'cv_target_col' : line['cv_target_col'],\n",
    "                'labels': get_labels(masks = masks, genders = genders, ages = ages),\n",
    "                'path': os.path.join(train_image_dir, line['path'], file),\n",
    "            }\n",
    "            train_df.append(data)\n",
    "            \n",
    "    train_df = pd.DataFrame(train_df)\n",
    "    train_df['idx'] = train_df.index\n",
    "    \n",
    "    return train_df\n",
    "\n",
    "# 성별 이상치 처리\n",
    "def swap_gender(swap_li, df):\n",
    "    swap_df = df.copy()\n",
    "    for swap in swap_li:\n",
    "        swap_id, swap_gender = swap\n",
    "        swap_df.loc[swap_df[swap_df['id'] == swap_id].index, 'gender'] = swap_gender\n",
    "    return swap_df\n",
    "        \n",
    "# 전처리된 df 생성 - 성별 결측치 처리, cv_target_col 생성\n",
    "def preprocessing_df(df, swap_gender_li):\n",
    "    '''\n",
    "    swap_gender_li = [['006359', 'male'], ['006360', 'male'], ['006361', 'male'], ['006362', 'male'], ['006363', 'male'], ['006364', 'male']]\n",
    "    '''\n",
    "    \n",
    "    preprocessing_df = df.copy()\n",
    "    preprocessing_df = swap_gender(swap_li = swap_gender_li, df = preprocessing_df)\n",
    "    \n",
    "    preprocessing_df['ages'] = preprocessing_df['age'].apply(lambda x : get_ages(x))\n",
    "    preprocessing_df['genders'] = preprocessing_df['gender'].apply(lambda x : get_genders(x))\n",
    "    \n",
    "    preprocessing_df['cv_target_col'] = 'ages' + '_' + preprocessing_df['ages'].astype(str) + '_' + 'genders' + '_' + preprocessing_df['genders'].astype(str)\n",
    "    \n",
    "    return preprocessing_df\n",
    "\n",
    "# val_idx 생성\n",
    "def get_val_idx(df, target_col):\n",
    "    skf = StratifiedKFold(n_splits = 5, shuffle = True, random_state = 22)\n",
    "    for trn_idx, val_idx in skf.split(df, df[target_col]):\n",
    "        yield val_idx\n",
    "\n",
    "# 마스크 이상치 변경\n",
    "def swap_mask(swap_li, df):\n",
    "    swap_df = df.copy()\n",
    "    for swap_id in swap_li:\n",
    "        _swap_df = swap_df[swap_df['id'] == swap_id]\n",
    "        \n",
    "        normal_swap_df = _swap_df[_swap_df['mask'] == 'normal']\n",
    "        incorrect_mask_swap_df = _swap_df[_swap_df['mask'] == 'incorrect_mask']\n",
    "        \n",
    "        normal_path = normal_swap_df['path'].values[0]\n",
    "        incorrect_mask_path = incorrect_mask_swap_df['path'].values[0]\n",
    "        \n",
    "        swap_df.loc[normal_swap_df.index, 'path'] = incorrect_mask_path\n",
    "        swap_df.loc[incorrect_mask_swap_df.index, 'path'] = normal_path\n",
    "    \n",
    "    return swap_df"
   ]
  },
  {
   "cell_type": "markdown",
   "id": "8c25f72a-1358-4f70-a8cf-41fbfc63675a",
   "metadata": {},
   "source": [
    "## 데이터 전처리"
   ]
  },
  {
   "cell_type": "code",
   "execution_count": 5,
   "id": "6cd17fab-28a1-43c0-bda0-0e4572ef6e26",
   "metadata": {},
   "outputs": [],
   "source": [
    "train_df = pd.read_csv(data_dir + 'train.csv')\n",
    "submission = pd.read_csv(test_dir + 'info.csv')"
   ]
  },
  {
   "cell_type": "code",
   "execution_count": 6,
   "id": "bece0af8-cd0f-438e-a87e-91b1b975f4da",
   "metadata": {},
   "outputs": [],
   "source": [
    "'''\n",
    "신규범님 코드 참고\n",
    "\n",
    "학습 데이터 구축\n",
    "'''\n",
    "swap_gender_li = [['006359', 'male'], ['006360', 'male'], ['006361', 'male'], ['006362', 'male'], ['006363', 'male'], ['006364', 'male']]\n",
    "swap_mask_li = ['000020', '004418', '005227']\n",
    "\n",
    "pre_df = preprocessing_df(df = train_df, swap_gender_li = swap_gender_li)\n",
    "train_df = get_train_df(df = pre_df)\n",
    "\n",
    "train_df = swap_mask(swap_li = swap_mask_li, df = train_df)\n",
    "\n",
    "train_idx, val_idx = train_test_split(train_df['cv_target_col'], train_size = 0.8, random_state = 42, stratify = train_df['cv_target_col'])\n",
    "                                      \n",
    "train_set, val_set = train_df.iloc[train_idx.index, :], train_df.iloc[val_idx.index, :]"
   ]
  },
  {
   "cell_type": "markdown",
   "id": "0a3f4bf2-13a5-42ac-a693-2d43d91186bd",
   "metadata": {},
   "source": [
    "## 데이터셋 구축"
   ]
  },
  {
   "cell_type": "code",
   "execution_count": 7,
   "id": "2fcd8690-6d91-4e99-8984-3872dc266bd9",
   "metadata": {},
   "outputs": [],
   "source": [
    "'''\n",
    "Sample_submission 코드 참고\n",
    "\n",
    "데이터 셋 구축\n",
    "'''\n",
    "\n",
    "class CustomDataset(Dataset):\n",
    "    def __init__(self, df, transform, train = True):\n",
    "        self.train = train\n",
    "        self.df = df\n",
    "        if self.train:\n",
    "            self.img_paths = self.df['path'].tolist()\n",
    "            self.targets = self.df['labels'].tolist()\n",
    "        else:\n",
    "            self.img_paths = [os.path.join(submission_image_dir, img_id) for img_id in self.df.ImageID]\n",
    "        self.transform = transform\n",
    "\n",
    "    def __getitem__(self, index):\n",
    "        image = Image.open(self.img_paths[index])\n",
    "        \n",
    "        if self.transform:\n",
    "            image = self.transform(image)\n",
    "        \n",
    "        # 이 부분에 해당 라벨에 따른 데이터 변환 여부 추가\n",
    "        # val 데이터의 경우 데이터 변환이 일어나면 안되기 때문에\n",
    "        # if self.데이터 변환해주는 transform:\n",
    "        #     if self.targets[index].data == labels: <- 확률적으로\n",
    "        #          image = self.데이터 변환해주는 transform(image)\n",
    "        # 데이터 변환\n",
    "        \n",
    "        if self.train:\n",
    "            targets = torch.tensor(self.targets[index])\n",
    "            return image, targets\n",
    "        \n",
    "        else: return image\n",
    "\n",
    "    def __len__(self):\n",
    "        return len(self.img_paths)"
   ]
  },
  {
   "cell_type": "markdown",
   "id": "7bd23ff4-e95a-4227-aa8d-e8abfd8089f4",
   "metadata": {},
   "source": [
    "## 학습 설정"
   ]
  },
  {
   "cell_type": "code",
   "execution_count": 8,
   "id": "1d4900c6-4f60-42f9-9b17-600560163d3d",
   "metadata": {},
   "outputs": [],
   "source": [
    "'''\n",
    "학습 함수 설정\n",
    "'''\n",
    "\n",
    "def train(model, data_loader, optimizer, scheduler, criterion):\n",
    "    model.train()\n",
    "    train_loss = 0\n",
    "    correct = 0\n",
    "    total = 0\n",
    "    f1 = 0\n",
    "    \n",
    "    for batch_idx, (images, targets) in enumerate(data_loader):\n",
    "        images, targets = images.to(device), targets.to(device)\n",
    "        optimizer.zero_grad()\n",
    "\n",
    "        benign_outputs = model(images)\n",
    "        loss = criterion(benign_outputs, targets)\n",
    "        loss.backward()\n",
    "\n",
    "        optimizer.step()\n",
    "        train_loss += loss.item()\n",
    "        _, predicted = benign_outputs.max(1)\n",
    "\n",
    "        total += targets.size(0)\n",
    "        correct += predicted.eq(targets).sum().item()\n",
    "        f1 += f1_score(targets.cpu().tolist(), predicted.cpu().tolist(), average='macro')\n",
    "        \n",
    "    train_loss /= len(data_loader)\n",
    "    acc = correct / total\n",
    "    f1 /= len(data_loader)\n",
    "    \n",
    "    scheduler.step(train_loss)\n",
    "    \n",
    "    return train_loss, acc, f1\n",
    "\n",
    "\n",
    "def val(model, data_loader, criterion):\n",
    "    model.eval()\n",
    "    val_loss = 0\n",
    "    correct = 0\n",
    "    total = 0\n",
    "    f1 = 0\n",
    "    \n",
    "    for batch_idx, (images, targets) in enumerate(data_loader):\n",
    "        with torch.no_grad():\n",
    "            images, targets = images.to(device), targets.to(device)\n",
    "            benign_outputs = model(images)\n",
    "            loss = criterion(benign_outputs, targets)\n",
    "            val_loss += loss.item()\n",
    "            _, predicted = benign_outputs.max(1)\n",
    "\n",
    "            total += targets.size(0)\n",
    "            correct += predicted.eq(targets).sum().item()\n",
    "            f1 += f1_score(targets.cpu().tolist(), predicted.cpu().tolist(), average='macro')\n",
    "    \n",
    "    val_loss /= len(data_loader)\n",
    "    acc = correct / total\n",
    "    f1 /= len(data_loader)\n",
    "    \n",
    "    return val_loss, acc, f1\n",
    "\n",
    "def pred(model, data_loader):\n",
    "    model.eval()\n",
    "    all_predictions = []\n",
    "    for images in data_loader:\n",
    "        with torch.no_grad():\n",
    "            images = images.to(device)\n",
    "            pred = model(images)\n",
    "            pred = pred.argmax(dim=-1)\n",
    "            all_predictions.extend(pred.cpu().numpy())\n",
    "            \n",
    "    return all_predictions"
   ]
  },
  {
   "cell_type": "code",
   "execution_count": 9,
   "id": "386d18c3-8ba8-4245-8745-8bf43f3b69b0",
   "metadata": {},
   "outputs": [],
   "source": [
    "'''\n",
    "학습 설정\n",
    "'''\n",
    "\n",
    "device = 'cuda' if torch.cuda.is_available() else 'cpu'\n",
    "lr = 0.001\n",
    "epochs = 30\n",
    "batch_size = 128\n",
    "num_workers = 3\n",
    "class_nums = 18"
   ]
  },
  {
   "cell_type": "markdown",
   "id": "c3e5b68e-746b-484e-bafd-34948e250d15",
   "metadata": {},
   "source": [
    "## 데이터 로더 생성"
   ]
  },
  {
   "cell_type": "code",
   "execution_count": 10,
   "id": "4eebb7b9-d491-4503-ad05-6026e3baacf4",
   "metadata": {},
   "outputs": [],
   "source": [
    "'''\n",
    "데이터 로더 생성\n",
    "'''\n",
    "\n",
    "image_size = (512, 384)\n",
    "image_normal_mean = (0.485, 0.456, 0.406)\n",
    "image_normal_std = (0.229, 0.224, 0.225)\n",
    "crop_size = 384\n",
    "\n",
    "transform = transforms.Compose([\n",
    "#     Resize(image_size, Image.BILINEAR),\n",
    "    ToTensor(),\n",
    "    transforms.CenterCrop(crop_size),\n",
    "    Normalize(mean=image_normal_mean, std=image_normal_std),\n",
    "])\n",
    "\n",
    "train_customset = CustomDataset(df = train_set, transform = transform, train = True)\n",
    "val_customset = CustomDataset(df = val_set, transform = transform, train = True)\n",
    "test_customset = CustomDataset(df = submission, transform = transform, train = False)\n",
    "\n",
    "train_loader = DataLoader(\n",
    "    train_customset,\n",
    "    batch_size = batch_size,\n",
    "    shuffle=True,\n",
    "    num_workers = num_workers,\n",
    ")\n",
    "\n",
    "val_loader = DataLoader(\n",
    "    val_customset,\n",
    "    batch_size = batch_size,\n",
    "    shuffle=True,\n",
    "    num_workers = num_workers,\n",
    ")\n",
    "\n",
    "test_loader = DataLoader(\n",
    "    test_customset,\n",
    "    batch_size = batch_size,\n",
    "    shuffle=False,\n",
    "    num_workers = num_workers,\n",
    ")\n",
    "\n",
    "# 사람 다르게 하는 col\n",
    "cv_taget_col = 'cv_taget_col'"
   ]
  },
  {
   "cell_type": "code",
   "execution_count": 11,
   "id": "04b147b7-b5b8-4570-bc70-3c76925ff1a1",
   "metadata": {},
   "outputs": [],
   "source": [
    "'''\n",
    "모델 설정\n",
    "'''\n",
    "model = models.regnet_y_400mf(pretrained=True).to(device)\n",
    "criterion = nn.CrossEntropyLoss()\n",
    "optimizer = optim.Adam(model.parameters(), lr=lr)\n",
    "scheduler = torch.optim.lr_scheduler.ReduceLROnPlateau(optimizer, 'min', factor = 0.1, eps = 1e-09, patience = 5)"
   ]
  },
  {
   "cell_type": "code",
   "execution_count": 12,
   "id": "3da605dd-8652-4fcd-b91e-7c207393a644",
   "metadata": {},
   "outputs": [
    {
     "data": {
      "text/plain": [
       "119"
      ]
     },
     "execution_count": 12,
     "metadata": {},
     "output_type": "execute_result"
    }
   ],
   "source": [
    "len(train_loader)"
   ]
  },
  {
   "cell_type": "code",
   "execution_count": 13,
   "id": "516e7a82-9341-4e90-8f04-dbd8340329f1",
   "metadata": {},
   "outputs": [],
   "source": [
    "in_features = model.fc.in_features\n",
    "model.fc = torch.nn.Linear(in_features=in_features, out_features=class_nums, bias=True).to(device)"
   ]
  },
  {
   "cell_type": "markdown",
   "id": "48452261-dba3-497e-b963-53bb3743f8fe",
   "metadata": {},
   "source": [
    "## 학습"
   ]
  },
  {
   "cell_type": "code",
   "execution_count": 14,
   "id": "d9471476-b22c-44a0-b381-c18e275d2ae9",
   "metadata": {
    "tags": []
   },
   "outputs": [
    {
     "name": "stderr",
     "output_type": "stream",
     "text": [
      "  3%|▎         | 1/30 [01:13<35:35, 73.63s/it]"
     ]
    },
    {
     "name": "stdout",
     "output_type": "stream",
     "text": [
      "epoch : 1, train_loss : 0.41322194665920836, train_acc : 0.8763888888888889, train_f1 : 0.7321914262855226, val_loss : 1.217762323220571, val_acc : 0.5706349206349206, val_f1 : 0.4903292407188757\n"
     ]
    },
    {
     "name": "stderr",
     "output_type": "stream",
     "text": [
      "  7%|▋         | 2/30 [02:27<34:26, 73.80s/it]"
     ]
    },
    {
     "name": "stdout",
     "output_type": "stream",
     "text": [
      "epoch : 2, train_loss : 0.1497242163334574, train_acc : 0.9519179894179894, train_f1 : 0.8895924168067216, val_loss : 0.44916200935840606, val_acc : 0.8449735449735449, val_f1 : 0.7526032243624019\n"
     ]
    },
    {
     "name": "stderr",
     "output_type": "stream",
     "text": [
      " 10%|█         | 3/30 [03:41<33:11, 73.77s/it]"
     ]
    },
    {
     "name": "stdout",
     "output_type": "stream",
     "text": [
      "epoch : 3, train_loss : 0.0930990175571011, train_acc : 0.969510582010582, train_f1 : 0.935723500698925, val_loss : 0.11928674317896366, val_acc : 0.9576719576719577, val_f1 : 0.8954063142244437\n"
     ]
    },
    {
     "name": "stderr",
     "output_type": "stream",
     "text": [
      " 13%|█▎        | 4/30 [04:55<31:59, 73.84s/it]"
     ]
    },
    {
     "name": "stdout",
     "output_type": "stream",
     "text": [
      "epoch : 4, train_loss : 0.053253727245042806, train_acc : 0.9832671957671958, train_f1 : 0.9561034587720695, val_loss : 0.11815351924548546, val_acc : 0.9621693121693121, val_f1 : 0.9222192632672457\n"
     ]
    },
    {
     "name": "stderr",
     "output_type": "stream",
     "text": [
      " 17%|█▋        | 5/30 [06:09<30:47, 73.91s/it]"
     ]
    },
    {
     "name": "stdout",
     "output_type": "stream",
     "text": [
      "epoch : 5, train_loss : 0.04812731821590863, train_acc : 0.9841269841269841, train_f1 : 0.9661950718031367, val_loss : 0.09993864661082626, val_acc : 0.9677248677248678, val_f1 : 0.9350907407348062\n"
     ]
    },
    {
     "name": "stderr",
     "output_type": "stream",
     "text": [
      " 20%|██        | 6/30 [07:23<29:33, 73.90s/it]"
     ]
    },
    {
     "name": "stdout",
     "output_type": "stream",
     "text": [
      "epoch : 6, train_loss : 0.0502054868579036, train_acc : 0.9839285714285714, train_f1 : 0.9610676025784515, val_loss : 0.08794612136359016, val_acc : 0.9701058201058201, val_f1 : 0.9457821727476708\n"
     ]
    },
    {
     "name": "stderr",
     "output_type": "stream",
     "text": [
      " 23%|██▎       | 7/30 [08:37<28:17, 73.81s/it]"
     ]
    },
    {
     "name": "stdout",
     "output_type": "stream",
     "text": [
      "epoch : 7, train_loss : 0.0409827258539613, train_acc : 0.9883597883597883, train_f1 : 0.9715666722272858, val_loss : 0.1597607786456744, val_acc : 0.9513227513227513, val_f1 : 0.8959117005454283\n"
     ]
    },
    {
     "name": "stderr",
     "output_type": "stream",
     "text": [
      " 27%|██▋       | 8/30 [09:50<27:01, 73.71s/it]"
     ]
    },
    {
     "name": "stdout",
     "output_type": "stream",
     "text": [
      "epoch : 8, train_loss : 0.04797590298562491, train_acc : 0.9855158730158731, train_f1 : 0.9701941676675286, val_loss : 0.1030796818435192, val_acc : 0.9645502645502646, val_f1 : 0.9412953571810426\n"
     ]
    },
    {
     "name": "stderr",
     "output_type": "stream",
     "text": [
      " 30%|███       | 9/30 [11:03<25:45, 73.59s/it]"
     ]
    },
    {
     "name": "stdout",
     "output_type": "stream",
     "text": [
      "epoch : 9, train_loss : 0.04734417627088162, train_acc : 0.9855158730158731, train_f1 : 0.9708167144502414, val_loss : 0.08790757392222683, val_acc : 0.9738095238095238, val_f1 : 0.9419179452166012\n"
     ]
    },
    {
     "name": "stderr",
     "output_type": "stream",
     "text": [
      " 33%|███▎      | 10/30 [12:17<24:31, 73.57s/it]"
     ]
    },
    {
     "name": "stdout",
     "output_type": "stream",
     "text": [
      "epoch : 10, train_loss : 0.021076389296888178, train_acc : 0.9935185185185185, train_f1 : 0.9851519984170352, val_loss : 0.08392848422129949, val_acc : 0.9735449735449735, val_f1 : 0.9400776491730126\n"
     ]
    },
    {
     "name": "stderr",
     "output_type": "stream",
     "text": [
      " 37%|███▋      | 11/30 [13:31<23:20, 73.72s/it]"
     ]
    },
    {
     "name": "stdout",
     "output_type": "stream",
     "text": [
      "epoch : 11, train_loss : 0.02251630330540459, train_acc : 0.9935185185185185, train_f1 : 0.9836406949638135, val_loss : 0.05292434305883944, val_acc : 0.9825396825396825, val_f1 : 0.968388816063984\n"
     ]
    },
    {
     "name": "stderr",
     "output_type": "stream",
     "text": [
      " 40%|████      | 12/30 [14:45<22:06, 73.67s/it]"
     ]
    },
    {
     "name": "stdout",
     "output_type": "stream",
     "text": [
      "epoch : 12, train_loss : 0.019231471178775356, train_acc : 0.9939814814814815, train_f1 : 0.9856096616276356, val_loss : 0.1807694257547458, val_acc : 0.9412698412698413, val_f1 : 0.8788958553976421\n"
     ]
    },
    {
     "name": "stderr",
     "output_type": "stream",
     "text": [
      " 43%|████▎     | 13/30 [15:58<20:53, 73.75s/it]"
     ]
    },
    {
     "name": "stdout",
     "output_type": "stream",
     "text": [
      "epoch : 13, train_loss : 0.03183129898217671, train_acc : 0.9917989417989418, train_f1 : 0.9807893176872103, val_loss : 0.16456888988614082, val_acc : 0.9513227513227513, val_f1 : 0.9248024679303336\n"
     ]
    },
    {
     "name": "stderr",
     "output_type": "stream",
     "text": [
      " 47%|████▋     | 14/30 [17:12<19:37, 73.59s/it]"
     ]
    },
    {
     "name": "stdout",
     "output_type": "stream",
     "text": [
      "epoch : 14, train_loss : 0.055561827018293514, train_acc : 0.982010582010582, train_f1 : 0.9580392243411814, val_loss : 0.13797571063041686, val_acc : 0.955026455026455, val_f1 : 0.9055376510110024\n"
     ]
    },
    {
     "name": "stderr",
     "output_type": "stream",
     "text": [
      " 50%|█████     | 15/30 [18:25<18:21, 73.45s/it]"
     ]
    },
    {
     "name": "stdout",
     "output_type": "stream",
     "text": [
      "epoch : 15, train_loss : 0.015790203559807182, train_acc : 0.995436507936508, train_f1 : 0.9874530785530475, val_loss : 0.05009801605095466, val_acc : 0.9830687830687831, val_f1 : 0.9603561161626247\n"
     ]
    },
    {
     "name": "stderr",
     "output_type": "stream",
     "text": [
      " 53%|█████▎    | 16/30 [19:39<17:10, 73.57s/it]"
     ]
    },
    {
     "name": "stdout",
     "output_type": "stream",
     "text": [
      "epoch : 16, train_loss : 0.035917795615411606, train_acc : 0.9892195767195767, train_f1 : 0.9789817006501491, val_loss : 0.12430305692056814, val_acc : 0.9656084656084656, val_f1 : 0.89836325737163\n"
     ]
    },
    {
     "name": "stderr",
     "output_type": "stream",
     "text": [
      " 57%|█████▋    | 17/30 [20:52<15:55, 73.49s/it]"
     ]
    },
    {
     "name": "stdout",
     "output_type": "stream",
     "text": [
      "epoch : 17, train_loss : 0.026147235551762918, train_acc : 0.9921296296296296, train_f1 : 0.9791624547763279, val_loss : 0.054056285849461955, val_acc : 0.9804232804232804, val_f1 : 0.9710869004366096\n"
     ]
    },
    {
     "name": "stderr",
     "output_type": "stream",
     "text": [
      " 60%|██████    | 18/30 [22:05<14:40, 73.38s/it]"
     ]
    },
    {
     "name": "stdout",
     "output_type": "stream",
     "text": [
      "epoch : 18, train_loss : 0.019876691289715656, train_acc : 0.9947089947089947, train_f1 : 0.9840845332206236, val_loss : 0.0511393685049067, val_acc : 0.9835978835978836, val_f1 : 0.9652934918625344\n"
     ]
    },
    {
     "name": "stderr",
     "output_type": "stream",
     "text": [
      " 63%|██████▎   | 19/30 [23:18<13:26, 73.28s/it]"
     ]
    },
    {
     "name": "stdout",
     "output_type": "stream",
     "text": [
      "epoch : 19, train_loss : 0.026009781911241345, train_acc : 0.9914021164021164, train_f1 : 0.982129215700121, val_loss : 0.04443264112342149, val_acc : 0.9851851851851852, val_f1 : 0.958648315610612\n"
     ]
    },
    {
     "name": "stderr",
     "output_type": "stream",
     "text": [
      " 67%|██████▋   | 20/30 [24:32<12:14, 73.44s/it]"
     ]
    },
    {
     "name": "stdout",
     "output_type": "stream",
     "text": [
      "epoch : 20, train_loss : 0.014997886675762153, train_acc : 0.9962301587301587, train_f1 : 0.9913077850809141, val_loss : 0.0915971454543372, val_acc : 0.9746031746031746, val_f1 : 0.9481616066102899\n"
     ]
    },
    {
     "name": "stderr",
     "output_type": "stream",
     "text": [
      " 70%|███████   | 21/30 [25:46<11:02, 73.59s/it]"
     ]
    },
    {
     "name": "stdout",
     "output_type": "stream",
     "text": [
      "epoch : 21, train_loss : 0.0074213046994854644, train_acc : 0.998478835978836, train_f1 : 0.9965937943372923, val_loss : 0.037503508587057394, val_acc : 0.9875661375661375, val_f1 : 0.9717056669688924\n"
     ]
    },
    {
     "name": "stderr",
     "output_type": "stream",
     "text": [
      " 73%|███████▎  | 22/30 [26:59<09:48, 73.59s/it]"
     ]
    },
    {
     "name": "stdout",
     "output_type": "stream",
     "text": [
      "epoch : 22, train_loss : 0.024517327513811842, train_acc : 0.9927248677248677, train_f1 : 0.986136071006235, val_loss : 0.11903180467585722, val_acc : 0.9664021164021164, val_f1 : 0.923443213590024\n"
     ]
    },
    {
     "name": "stderr",
     "output_type": "stream",
     "text": [
      " 77%|███████▋  | 23/30 [28:13<08:35, 73.65s/it]"
     ]
    },
    {
     "name": "stdout",
     "output_type": "stream",
     "text": [
      "epoch : 23, train_loss : 0.012739703903941265, train_acc : 0.9956349206349207, train_f1 : 0.9863520766166848, val_loss : 0.06968498714268208, val_acc : 0.9801587301587301, val_f1 : 0.9546209230759074\n"
     ]
    },
    {
     "name": "stderr",
     "output_type": "stream",
     "text": [
      " 80%|████████  | 24/30 [29:27<07:21, 73.63s/it]"
     ]
    },
    {
     "name": "stdout",
     "output_type": "stream",
     "text": [
      "epoch : 24, train_loss : 0.007360171841187481, train_acc : 0.9978174603174603, train_f1 : 0.9946399248238087, val_loss : 0.08539468071733912, val_acc : 0.976984126984127, val_f1 : 0.9484547419167041\n"
     ]
    },
    {
     "name": "stderr",
     "output_type": "stream",
     "text": [
      " 83%|████████▎ | 25/30 [30:41<06:09, 73.82s/it]"
     ]
    },
    {
     "name": "stdout",
     "output_type": "stream",
     "text": [
      "epoch : 25, train_loss : 0.009818749274851112, train_acc : 0.9969576719576719, train_f1 : 0.9942250590767739, val_loss : 0.044519954718028505, val_acc : 0.9846560846560847, val_f1 : 0.9697623282530593\n"
     ]
    },
    {
     "name": "stderr",
     "output_type": "stream",
     "text": [
      " 83%|████████▎ | 25/30 [31:54<06:22, 76.59s/it]"
     ]
    },
    {
     "name": "stdout",
     "output_type": "stream",
     "text": [
      "epoch : 26, train_loss : 0.012360475829483535, train_acc : 0.9957671957671957, train_f1 : 0.9905282072317934, val_loss : 0.29932025223970415, val_acc : 0.9116402116402117, val_f1 : 0.8469913159921681\n",
      "early_stopping\n"
     ]
    },
    {
     "name": "stderr",
     "output_type": "stream",
     "text": [
      "\n"
     ]
    }
   ],
   "source": [
    "torch.cuda.empty_cache()\n",
    "min_val_loss = float(\"inf\")\n",
    "early_stopping_count = 0\n",
    "\n",
    "for epoch in tqdm(range(1, epochs + 1)):\n",
    "    train_loss, train_acc, train_f1 = train(model = model, data_loader = train_loader, optimizer = optimizer, scheduler = scheduler, criterion = criterion)\n",
    "    val_loss, val_acc, val_f1 = val(model = model, data_loader = val_loader, criterion = criterion)\n",
    "    \n",
    "    print(f'epoch : {epoch}, train_loss : {train_loss}, train_acc : {train_acc}, train_f1 : {train_f1}, val_loss : {val_loss}, val_acc : {val_acc}, val_f1 : {val_f1}')\n",
    "    \n",
    "    # 모델 저장\n",
    "    if val_loss < min_val_loss:\n",
    "        min_val_loss = val_loss\n",
    "        torch.save(model.state_dict(), model_dir + f'best_regnet_y_400mf.pt')\n",
    "        early_stopping_count = 0\n",
    "    else:\n",
    "        early_stopping_count += 1\n",
    "        if early_stopping_count == 5:\n",
    "            print('early_stopping')\n",
    "            break"
   ]
  },
  {
   "cell_type": "code",
   "execution_count": 15,
   "id": "5aee7b39-b5bb-4df9-a4c1-03723c0189e7",
   "metadata": {},
   "outputs": [
    {
     "data": {
      "text/plain": [
       "<All keys matched successfully>"
      ]
     },
     "execution_count": 15,
     "metadata": {},
     "output_type": "execute_result"
    }
   ],
   "source": [
    "model = models.regnet_y_400mf(pretrained=False).to(device)\n",
    "in_features = model.fc.in_features\n",
    "model.fc = torch.nn.Linear(in_features=in_features, out_features=class_nums, bias=True).to(device)\n",
    "model.load_state_dict(torch.load(model_dir + f'best_regnet_y_400mf.pt', map_location = device))"
   ]
  },
  {
   "cell_type": "markdown",
   "id": "46c59ac7-00f9-4d76-949e-08d27c65c5fa",
   "metadata": {},
   "source": [
    "## 예측"
   ]
  },
  {
   "cell_type": "code",
   "execution_count": 16,
   "id": "283014b4-8e99-4e47-8d3f-c1797c03128f",
   "metadata": {},
   "outputs": [],
   "source": [
    "# 모델이 테스트 데이터셋을 예측하고 결과를 저장합니다.\n",
    "all_predictions = pred(model = model, data_loader = test_loader)\n",
    "submission['ans'] = all_predictions"
   ]
  },
  {
   "cell_type": "code",
   "execution_count": 17,
   "id": "4bcbca1b-c238-4f10-bb42-7ba36fe25de5",
   "metadata": {},
   "outputs": [],
   "source": [
    "def get_f1_score(y_true, y_pred):\n",
    "    return f1_score(y_true, y_pred, average='macro')\n",
    "\n",
    "def get_acc_score(y_true, y_pred):\n",
    "    return accuracy_score(y_true, y_pred)\n",
    "\n",
    "\n",
    "def val_pred(model, data_loader):\n",
    "    model.eval()\n",
    "    all_predictions = []\n",
    "    all_targets = []\n",
    "    for (images, targets) in data_loader:\n",
    "        with torch.no_grad():\n",
    "            images, targets = images.to(device), targets.to(device)\n",
    "            pred = model(images)\n",
    "            pred = pred.argmax(dim=-1)\n",
    "            all_predictions.extend(pred.cpu().numpy())\n",
    "            all_targets.extend(targets.cpu().numpy())\n",
    "            \n",
    "    return all_predictions, all_targets"
   ]
  },
  {
   "cell_type": "markdown",
   "id": "8b4196b7-7f40-436d-9877-df13109b8bdf",
   "metadata": {},
   "source": [
    "## confusion matrix"
   ]
  },
  {
   "cell_type": "code",
   "execution_count": 18,
   "id": "7c14c540-0708-4193-bb26-c5e03d2f4b0e",
   "metadata": {},
   "outputs": [
    {
     "name": "stdout",
     "output_type": "stream",
     "text": [
      "val confusion_matrix\n"
     ]
    },
    {
     "data": {
      "text/html": [
       "<style  type=\"text/css\" >\n",
       "#T_dae5c662_9592_11ec_89a4_0242ac110002row0_col0,#T_dae5c662_9592_11ec_89a4_0242ac110002row1_col1,#T_dae5c662_9592_11ec_89a4_0242ac110002row2_col2,#T_dae5c662_9592_11ec_89a4_0242ac110002row3_col3,#T_dae5c662_9592_11ec_89a4_0242ac110002row4_col4,#T_dae5c662_9592_11ec_89a4_0242ac110002row5_col5,#T_dae5c662_9592_11ec_89a4_0242ac110002row6_col6,#T_dae5c662_9592_11ec_89a4_0242ac110002row7_col7,#T_dae5c662_9592_11ec_89a4_0242ac110002row8_col8,#T_dae5c662_9592_11ec_89a4_0242ac110002row9_col9,#T_dae5c662_9592_11ec_89a4_0242ac110002row10_col10,#T_dae5c662_9592_11ec_89a4_0242ac110002row11_col11,#T_dae5c662_9592_11ec_89a4_0242ac110002row12_col12,#T_dae5c662_9592_11ec_89a4_0242ac110002row13_col13,#T_dae5c662_9592_11ec_89a4_0242ac110002row14_col14,#T_dae5c662_9592_11ec_89a4_0242ac110002row15_col15,#T_dae5c662_9592_11ec_89a4_0242ac110002row16_col16,#T_dae5c662_9592_11ec_89a4_0242ac110002row17_col17{\n",
       "            background-color:  #800026;\n",
       "            color:  #f1f1f1;\n",
       "        }#T_dae5c662_9592_11ec_89a4_0242ac110002row0_col1,#T_dae5c662_9592_11ec_89a4_0242ac110002row0_col2,#T_dae5c662_9592_11ec_89a4_0242ac110002row0_col3,#T_dae5c662_9592_11ec_89a4_0242ac110002row0_col4,#T_dae5c662_9592_11ec_89a4_0242ac110002row0_col5,#T_dae5c662_9592_11ec_89a4_0242ac110002row0_col6,#T_dae5c662_9592_11ec_89a4_0242ac110002row0_col7,#T_dae5c662_9592_11ec_89a4_0242ac110002row0_col8,#T_dae5c662_9592_11ec_89a4_0242ac110002row0_col9,#T_dae5c662_9592_11ec_89a4_0242ac110002row0_col10,#T_dae5c662_9592_11ec_89a4_0242ac110002row0_col11,#T_dae5c662_9592_11ec_89a4_0242ac110002row0_col12,#T_dae5c662_9592_11ec_89a4_0242ac110002row0_col13,#T_dae5c662_9592_11ec_89a4_0242ac110002row0_col14,#T_dae5c662_9592_11ec_89a4_0242ac110002row0_col15,#T_dae5c662_9592_11ec_89a4_0242ac110002row0_col16,#T_dae5c662_9592_11ec_89a4_0242ac110002row0_col17,#T_dae5c662_9592_11ec_89a4_0242ac110002row1_col0,#T_dae5c662_9592_11ec_89a4_0242ac110002row1_col3,#T_dae5c662_9592_11ec_89a4_0242ac110002row1_col4,#T_dae5c662_9592_11ec_89a4_0242ac110002row1_col5,#T_dae5c662_9592_11ec_89a4_0242ac110002row1_col6,#T_dae5c662_9592_11ec_89a4_0242ac110002row1_col7,#T_dae5c662_9592_11ec_89a4_0242ac110002row1_col8,#T_dae5c662_9592_11ec_89a4_0242ac110002row1_col9,#T_dae5c662_9592_11ec_89a4_0242ac110002row1_col10,#T_dae5c662_9592_11ec_89a4_0242ac110002row1_col11,#T_dae5c662_9592_11ec_89a4_0242ac110002row1_col12,#T_dae5c662_9592_11ec_89a4_0242ac110002row1_col13,#T_dae5c662_9592_11ec_89a4_0242ac110002row1_col14,#T_dae5c662_9592_11ec_89a4_0242ac110002row1_col15,#T_dae5c662_9592_11ec_89a4_0242ac110002row1_col16,#T_dae5c662_9592_11ec_89a4_0242ac110002row1_col17,#T_dae5c662_9592_11ec_89a4_0242ac110002row2_col0,#T_dae5c662_9592_11ec_89a4_0242ac110002row2_col3,#T_dae5c662_9592_11ec_89a4_0242ac110002row2_col4,#T_dae5c662_9592_11ec_89a4_0242ac110002row2_col5,#T_dae5c662_9592_11ec_89a4_0242ac110002row2_col6,#T_dae5c662_9592_11ec_89a4_0242ac110002row2_col7,#T_dae5c662_9592_11ec_89a4_0242ac110002row2_col8,#T_dae5c662_9592_11ec_89a4_0242ac110002row2_col9,#T_dae5c662_9592_11ec_89a4_0242ac110002row2_col10,#T_dae5c662_9592_11ec_89a4_0242ac110002row2_col11,#T_dae5c662_9592_11ec_89a4_0242ac110002row2_col12,#T_dae5c662_9592_11ec_89a4_0242ac110002row2_col13,#T_dae5c662_9592_11ec_89a4_0242ac110002row2_col14,#T_dae5c662_9592_11ec_89a4_0242ac110002row2_col15,#T_dae5c662_9592_11ec_89a4_0242ac110002row2_col16,#T_dae5c662_9592_11ec_89a4_0242ac110002row2_col17,#T_dae5c662_9592_11ec_89a4_0242ac110002row3_col0,#T_dae5c662_9592_11ec_89a4_0242ac110002row3_col1,#T_dae5c662_9592_11ec_89a4_0242ac110002row3_col2,#T_dae5c662_9592_11ec_89a4_0242ac110002row3_col4,#T_dae5c662_9592_11ec_89a4_0242ac110002row3_col5,#T_dae5c662_9592_11ec_89a4_0242ac110002row3_col6,#T_dae5c662_9592_11ec_89a4_0242ac110002row3_col7,#T_dae5c662_9592_11ec_89a4_0242ac110002row3_col8,#T_dae5c662_9592_11ec_89a4_0242ac110002row3_col10,#T_dae5c662_9592_11ec_89a4_0242ac110002row3_col11,#T_dae5c662_9592_11ec_89a4_0242ac110002row3_col12,#T_dae5c662_9592_11ec_89a4_0242ac110002row3_col13,#T_dae5c662_9592_11ec_89a4_0242ac110002row3_col14,#T_dae5c662_9592_11ec_89a4_0242ac110002row3_col15,#T_dae5c662_9592_11ec_89a4_0242ac110002row3_col16,#T_dae5c662_9592_11ec_89a4_0242ac110002row3_col17,#T_dae5c662_9592_11ec_89a4_0242ac110002row4_col0,#T_dae5c662_9592_11ec_89a4_0242ac110002row4_col1,#T_dae5c662_9592_11ec_89a4_0242ac110002row4_col2,#T_dae5c662_9592_11ec_89a4_0242ac110002row4_col3,#T_dae5c662_9592_11ec_89a4_0242ac110002row4_col5,#T_dae5c662_9592_11ec_89a4_0242ac110002row4_col6,#T_dae5c662_9592_11ec_89a4_0242ac110002row4_col7,#T_dae5c662_9592_11ec_89a4_0242ac110002row4_col8,#T_dae5c662_9592_11ec_89a4_0242ac110002row4_col9,#T_dae5c662_9592_11ec_89a4_0242ac110002row4_col11,#T_dae5c662_9592_11ec_89a4_0242ac110002row4_col12,#T_dae5c662_9592_11ec_89a4_0242ac110002row4_col13,#T_dae5c662_9592_11ec_89a4_0242ac110002row4_col14,#T_dae5c662_9592_11ec_89a4_0242ac110002row4_col15,#T_dae5c662_9592_11ec_89a4_0242ac110002row4_col16,#T_dae5c662_9592_11ec_89a4_0242ac110002row4_col17,#T_dae5c662_9592_11ec_89a4_0242ac110002row5_col0,#T_dae5c662_9592_11ec_89a4_0242ac110002row5_col1,#T_dae5c662_9592_11ec_89a4_0242ac110002row5_col2,#T_dae5c662_9592_11ec_89a4_0242ac110002row5_col3,#T_dae5c662_9592_11ec_89a4_0242ac110002row5_col6,#T_dae5c662_9592_11ec_89a4_0242ac110002row5_col7,#T_dae5c662_9592_11ec_89a4_0242ac110002row5_col8,#T_dae5c662_9592_11ec_89a4_0242ac110002row5_col9,#T_dae5c662_9592_11ec_89a4_0242ac110002row5_col10,#T_dae5c662_9592_11ec_89a4_0242ac110002row5_col11,#T_dae5c662_9592_11ec_89a4_0242ac110002row5_col12,#T_dae5c662_9592_11ec_89a4_0242ac110002row5_col13,#T_dae5c662_9592_11ec_89a4_0242ac110002row5_col14,#T_dae5c662_9592_11ec_89a4_0242ac110002row5_col15,#T_dae5c662_9592_11ec_89a4_0242ac110002row5_col16,#T_dae5c662_9592_11ec_89a4_0242ac110002row5_col17,#T_dae5c662_9592_11ec_89a4_0242ac110002row6_col0,#T_dae5c662_9592_11ec_89a4_0242ac110002row6_col1,#T_dae5c662_9592_11ec_89a4_0242ac110002row6_col2,#T_dae5c662_9592_11ec_89a4_0242ac110002row6_col3,#T_dae5c662_9592_11ec_89a4_0242ac110002row6_col4,#T_dae5c662_9592_11ec_89a4_0242ac110002row6_col5,#T_dae5c662_9592_11ec_89a4_0242ac110002row6_col7,#T_dae5c662_9592_11ec_89a4_0242ac110002row6_col8,#T_dae5c662_9592_11ec_89a4_0242ac110002row6_col9,#T_dae5c662_9592_11ec_89a4_0242ac110002row6_col10,#T_dae5c662_9592_11ec_89a4_0242ac110002row6_col11,#T_dae5c662_9592_11ec_89a4_0242ac110002row6_col12,#T_dae5c662_9592_11ec_89a4_0242ac110002row6_col13,#T_dae5c662_9592_11ec_89a4_0242ac110002row6_col14,#T_dae5c662_9592_11ec_89a4_0242ac110002row6_col15,#T_dae5c662_9592_11ec_89a4_0242ac110002row6_col16,#T_dae5c662_9592_11ec_89a4_0242ac110002row6_col17,#T_dae5c662_9592_11ec_89a4_0242ac110002row7_col0,#T_dae5c662_9592_11ec_89a4_0242ac110002row7_col1,#T_dae5c662_9592_11ec_89a4_0242ac110002row7_col2,#T_dae5c662_9592_11ec_89a4_0242ac110002row7_col3,#T_dae5c662_9592_11ec_89a4_0242ac110002row7_col4,#T_dae5c662_9592_11ec_89a4_0242ac110002row7_col5,#T_dae5c662_9592_11ec_89a4_0242ac110002row7_col6,#T_dae5c662_9592_11ec_89a4_0242ac110002row7_col9,#T_dae5c662_9592_11ec_89a4_0242ac110002row7_col10,#T_dae5c662_9592_11ec_89a4_0242ac110002row7_col11,#T_dae5c662_9592_11ec_89a4_0242ac110002row7_col12,#T_dae5c662_9592_11ec_89a4_0242ac110002row7_col13,#T_dae5c662_9592_11ec_89a4_0242ac110002row7_col14,#T_dae5c662_9592_11ec_89a4_0242ac110002row7_col15,#T_dae5c662_9592_11ec_89a4_0242ac110002row7_col16,#T_dae5c662_9592_11ec_89a4_0242ac110002row7_col17,#T_dae5c662_9592_11ec_89a4_0242ac110002row8_col0,#T_dae5c662_9592_11ec_89a4_0242ac110002row8_col1,#T_dae5c662_9592_11ec_89a4_0242ac110002row8_col2,#T_dae5c662_9592_11ec_89a4_0242ac110002row8_col3,#T_dae5c662_9592_11ec_89a4_0242ac110002row8_col4,#T_dae5c662_9592_11ec_89a4_0242ac110002row8_col5,#T_dae5c662_9592_11ec_89a4_0242ac110002row8_col6,#T_dae5c662_9592_11ec_89a4_0242ac110002row8_col7,#T_dae5c662_9592_11ec_89a4_0242ac110002row8_col9,#T_dae5c662_9592_11ec_89a4_0242ac110002row8_col10,#T_dae5c662_9592_11ec_89a4_0242ac110002row8_col11,#T_dae5c662_9592_11ec_89a4_0242ac110002row8_col12,#T_dae5c662_9592_11ec_89a4_0242ac110002row8_col13,#T_dae5c662_9592_11ec_89a4_0242ac110002row8_col14,#T_dae5c662_9592_11ec_89a4_0242ac110002row8_col15,#T_dae5c662_9592_11ec_89a4_0242ac110002row8_col16,#T_dae5c662_9592_11ec_89a4_0242ac110002row8_col17,#T_dae5c662_9592_11ec_89a4_0242ac110002row9_col0,#T_dae5c662_9592_11ec_89a4_0242ac110002row9_col1,#T_dae5c662_9592_11ec_89a4_0242ac110002row9_col2,#T_dae5c662_9592_11ec_89a4_0242ac110002row9_col3,#T_dae5c662_9592_11ec_89a4_0242ac110002row9_col4,#T_dae5c662_9592_11ec_89a4_0242ac110002row9_col5,#T_dae5c662_9592_11ec_89a4_0242ac110002row9_col6,#T_dae5c662_9592_11ec_89a4_0242ac110002row9_col7,#T_dae5c662_9592_11ec_89a4_0242ac110002row9_col8,#T_dae5c662_9592_11ec_89a4_0242ac110002row9_col11,#T_dae5c662_9592_11ec_89a4_0242ac110002row9_col12,#T_dae5c662_9592_11ec_89a4_0242ac110002row9_col13,#T_dae5c662_9592_11ec_89a4_0242ac110002row9_col14,#T_dae5c662_9592_11ec_89a4_0242ac110002row9_col16,#T_dae5c662_9592_11ec_89a4_0242ac110002row9_col17,#T_dae5c662_9592_11ec_89a4_0242ac110002row10_col0,#T_dae5c662_9592_11ec_89a4_0242ac110002row10_col1,#T_dae5c662_9592_11ec_89a4_0242ac110002row10_col2,#T_dae5c662_9592_11ec_89a4_0242ac110002row10_col3,#T_dae5c662_9592_11ec_89a4_0242ac110002row10_col4,#T_dae5c662_9592_11ec_89a4_0242ac110002row10_col5,#T_dae5c662_9592_11ec_89a4_0242ac110002row10_col6,#T_dae5c662_9592_11ec_89a4_0242ac110002row10_col7,#T_dae5c662_9592_11ec_89a4_0242ac110002row10_col8,#T_dae5c662_9592_11ec_89a4_0242ac110002row10_col9,#T_dae5c662_9592_11ec_89a4_0242ac110002row10_col11,#T_dae5c662_9592_11ec_89a4_0242ac110002row10_col12,#T_dae5c662_9592_11ec_89a4_0242ac110002row10_col13,#T_dae5c662_9592_11ec_89a4_0242ac110002row10_col14,#T_dae5c662_9592_11ec_89a4_0242ac110002row10_col15,#T_dae5c662_9592_11ec_89a4_0242ac110002row10_col16,#T_dae5c662_9592_11ec_89a4_0242ac110002row10_col17,#T_dae5c662_9592_11ec_89a4_0242ac110002row11_col0,#T_dae5c662_9592_11ec_89a4_0242ac110002row11_col1,#T_dae5c662_9592_11ec_89a4_0242ac110002row11_col2,#T_dae5c662_9592_11ec_89a4_0242ac110002row11_col3,#T_dae5c662_9592_11ec_89a4_0242ac110002row11_col4,#T_dae5c662_9592_11ec_89a4_0242ac110002row11_col5,#T_dae5c662_9592_11ec_89a4_0242ac110002row11_col6,#T_dae5c662_9592_11ec_89a4_0242ac110002row11_col7,#T_dae5c662_9592_11ec_89a4_0242ac110002row11_col8,#T_dae5c662_9592_11ec_89a4_0242ac110002row11_col9,#T_dae5c662_9592_11ec_89a4_0242ac110002row11_col10,#T_dae5c662_9592_11ec_89a4_0242ac110002row11_col12,#T_dae5c662_9592_11ec_89a4_0242ac110002row11_col13,#T_dae5c662_9592_11ec_89a4_0242ac110002row11_col14,#T_dae5c662_9592_11ec_89a4_0242ac110002row11_col15,#T_dae5c662_9592_11ec_89a4_0242ac110002row11_col16,#T_dae5c662_9592_11ec_89a4_0242ac110002row11_col17,#T_dae5c662_9592_11ec_89a4_0242ac110002row12_col0,#T_dae5c662_9592_11ec_89a4_0242ac110002row12_col1,#T_dae5c662_9592_11ec_89a4_0242ac110002row12_col2,#T_dae5c662_9592_11ec_89a4_0242ac110002row12_col3,#T_dae5c662_9592_11ec_89a4_0242ac110002row12_col4,#T_dae5c662_9592_11ec_89a4_0242ac110002row12_col5,#T_dae5c662_9592_11ec_89a4_0242ac110002row12_col6,#T_dae5c662_9592_11ec_89a4_0242ac110002row12_col7,#T_dae5c662_9592_11ec_89a4_0242ac110002row12_col8,#T_dae5c662_9592_11ec_89a4_0242ac110002row12_col9,#T_dae5c662_9592_11ec_89a4_0242ac110002row12_col10,#T_dae5c662_9592_11ec_89a4_0242ac110002row12_col11,#T_dae5c662_9592_11ec_89a4_0242ac110002row12_col14,#T_dae5c662_9592_11ec_89a4_0242ac110002row12_col15,#T_dae5c662_9592_11ec_89a4_0242ac110002row12_col16,#T_dae5c662_9592_11ec_89a4_0242ac110002row12_col17,#T_dae5c662_9592_11ec_89a4_0242ac110002row13_col0,#T_dae5c662_9592_11ec_89a4_0242ac110002row13_col1,#T_dae5c662_9592_11ec_89a4_0242ac110002row13_col2,#T_dae5c662_9592_11ec_89a4_0242ac110002row13_col3,#T_dae5c662_9592_11ec_89a4_0242ac110002row13_col4,#T_dae5c662_9592_11ec_89a4_0242ac110002row13_col5,#T_dae5c662_9592_11ec_89a4_0242ac110002row13_col6,#T_dae5c662_9592_11ec_89a4_0242ac110002row13_col7,#T_dae5c662_9592_11ec_89a4_0242ac110002row13_col8,#T_dae5c662_9592_11ec_89a4_0242ac110002row13_col9,#T_dae5c662_9592_11ec_89a4_0242ac110002row13_col10,#T_dae5c662_9592_11ec_89a4_0242ac110002row13_col11,#T_dae5c662_9592_11ec_89a4_0242ac110002row13_col12,#T_dae5c662_9592_11ec_89a4_0242ac110002row13_col15,#T_dae5c662_9592_11ec_89a4_0242ac110002row13_col16,#T_dae5c662_9592_11ec_89a4_0242ac110002row13_col17,#T_dae5c662_9592_11ec_89a4_0242ac110002row14_col0,#T_dae5c662_9592_11ec_89a4_0242ac110002row14_col1,#T_dae5c662_9592_11ec_89a4_0242ac110002row14_col2,#T_dae5c662_9592_11ec_89a4_0242ac110002row14_col3,#T_dae5c662_9592_11ec_89a4_0242ac110002row14_col4,#T_dae5c662_9592_11ec_89a4_0242ac110002row14_col5,#T_dae5c662_9592_11ec_89a4_0242ac110002row14_col6,#T_dae5c662_9592_11ec_89a4_0242ac110002row14_col7,#T_dae5c662_9592_11ec_89a4_0242ac110002row14_col8,#T_dae5c662_9592_11ec_89a4_0242ac110002row14_col9,#T_dae5c662_9592_11ec_89a4_0242ac110002row14_col10,#T_dae5c662_9592_11ec_89a4_0242ac110002row14_col11,#T_dae5c662_9592_11ec_89a4_0242ac110002row14_col12,#T_dae5c662_9592_11ec_89a4_0242ac110002row14_col15,#T_dae5c662_9592_11ec_89a4_0242ac110002row14_col16,#T_dae5c662_9592_11ec_89a4_0242ac110002row14_col17,#T_dae5c662_9592_11ec_89a4_0242ac110002row15_col0,#T_dae5c662_9592_11ec_89a4_0242ac110002row15_col1,#T_dae5c662_9592_11ec_89a4_0242ac110002row15_col2,#T_dae5c662_9592_11ec_89a4_0242ac110002row15_col3,#T_dae5c662_9592_11ec_89a4_0242ac110002row15_col4,#T_dae5c662_9592_11ec_89a4_0242ac110002row15_col5,#T_dae5c662_9592_11ec_89a4_0242ac110002row15_col6,#T_dae5c662_9592_11ec_89a4_0242ac110002row15_col7,#T_dae5c662_9592_11ec_89a4_0242ac110002row15_col8,#T_dae5c662_9592_11ec_89a4_0242ac110002row15_col9,#T_dae5c662_9592_11ec_89a4_0242ac110002row15_col10,#T_dae5c662_9592_11ec_89a4_0242ac110002row15_col11,#T_dae5c662_9592_11ec_89a4_0242ac110002row15_col12,#T_dae5c662_9592_11ec_89a4_0242ac110002row15_col13,#T_dae5c662_9592_11ec_89a4_0242ac110002row15_col14,#T_dae5c662_9592_11ec_89a4_0242ac110002row15_col17,#T_dae5c662_9592_11ec_89a4_0242ac110002row16_col0,#T_dae5c662_9592_11ec_89a4_0242ac110002row16_col1,#T_dae5c662_9592_11ec_89a4_0242ac110002row16_col2,#T_dae5c662_9592_11ec_89a4_0242ac110002row16_col3,#T_dae5c662_9592_11ec_89a4_0242ac110002row16_col4,#T_dae5c662_9592_11ec_89a4_0242ac110002row16_col5,#T_dae5c662_9592_11ec_89a4_0242ac110002row16_col6,#T_dae5c662_9592_11ec_89a4_0242ac110002row16_col7,#T_dae5c662_9592_11ec_89a4_0242ac110002row16_col8,#T_dae5c662_9592_11ec_89a4_0242ac110002row16_col9,#T_dae5c662_9592_11ec_89a4_0242ac110002row16_col10,#T_dae5c662_9592_11ec_89a4_0242ac110002row16_col11,#T_dae5c662_9592_11ec_89a4_0242ac110002row16_col12,#T_dae5c662_9592_11ec_89a4_0242ac110002row16_col13,#T_dae5c662_9592_11ec_89a4_0242ac110002row16_col14,#T_dae5c662_9592_11ec_89a4_0242ac110002row16_col17,#T_dae5c662_9592_11ec_89a4_0242ac110002row17_col0,#T_dae5c662_9592_11ec_89a4_0242ac110002row17_col1,#T_dae5c662_9592_11ec_89a4_0242ac110002row17_col2,#T_dae5c662_9592_11ec_89a4_0242ac110002row17_col3,#T_dae5c662_9592_11ec_89a4_0242ac110002row17_col4,#T_dae5c662_9592_11ec_89a4_0242ac110002row17_col5,#T_dae5c662_9592_11ec_89a4_0242ac110002row17_col6,#T_dae5c662_9592_11ec_89a4_0242ac110002row17_col7,#T_dae5c662_9592_11ec_89a4_0242ac110002row17_col8,#T_dae5c662_9592_11ec_89a4_0242ac110002row17_col9,#T_dae5c662_9592_11ec_89a4_0242ac110002row17_col10,#T_dae5c662_9592_11ec_89a4_0242ac110002row17_col11,#T_dae5c662_9592_11ec_89a4_0242ac110002row17_col12,#T_dae5c662_9592_11ec_89a4_0242ac110002row17_col13,#T_dae5c662_9592_11ec_89a4_0242ac110002row17_col15{\n",
       "            background-color:  #ffffcc;\n",
       "            color:  #000000;\n",
       "        }#T_dae5c662_9592_11ec_89a4_0242ac110002row1_col2,#T_dae5c662_9592_11ec_89a4_0242ac110002row9_col10{\n",
       "            background-color:  #fffcc4;\n",
       "            color:  #000000;\n",
       "        }#T_dae5c662_9592_11ec_89a4_0242ac110002row2_col1,#T_dae5c662_9592_11ec_89a4_0242ac110002row9_col15,#T_dae5c662_9592_11ec_89a4_0242ac110002row16_col15{\n",
       "            background-color:  #fffecb;\n",
       "            color:  #000000;\n",
       "        }#T_dae5c662_9592_11ec_89a4_0242ac110002row3_col9,#T_dae5c662_9592_11ec_89a4_0242ac110002row4_col10,#T_dae5c662_9592_11ec_89a4_0242ac110002row5_col4,#T_dae5c662_9592_11ec_89a4_0242ac110002row12_col13,#T_dae5c662_9592_11ec_89a4_0242ac110002row14_col13{\n",
       "            background-color:  #fffdc8;\n",
       "            color:  #000000;\n",
       "        }#T_dae5c662_9592_11ec_89a4_0242ac110002row7_col8{\n",
       "            background-color:  #fff4b2;\n",
       "            color:  #000000;\n",
       "        }#T_dae5c662_9592_11ec_89a4_0242ac110002row13_col14{\n",
       "            background-color:  #ffeea3;\n",
       "            color:  #000000;\n",
       "        }#T_dae5c662_9592_11ec_89a4_0242ac110002row15_col16,#T_dae5c662_9592_11ec_89a4_0242ac110002row17_col16{\n",
       "            background-color:  #fffdc6;\n",
       "            color:  #000000;\n",
       "        }#T_dae5c662_9592_11ec_89a4_0242ac110002row17_col14{\n",
       "            background-color:  #fff7b7;\n",
       "            color:  #000000;\n",
       "        }</style><table id=\"T_dae5c662_9592_11ec_89a4_0242ac110002\" ><thead>    <tr>        <th class=\"blank level0\" ></th>        <th class=\"col_heading level0 col0\" >0</th>        <th class=\"col_heading level0 col1\" >1</th>        <th class=\"col_heading level0 col2\" >2</th>        <th class=\"col_heading level0 col3\" >3</th>        <th class=\"col_heading level0 col4\" >4</th>        <th class=\"col_heading level0 col5\" >5</th>        <th class=\"col_heading level0 col6\" >6</th>        <th class=\"col_heading level0 col7\" >7</th>        <th class=\"col_heading level0 col8\" >8</th>        <th class=\"col_heading level0 col9\" >9</th>        <th class=\"col_heading level0 col10\" >10</th>        <th class=\"col_heading level0 col11\" >11</th>        <th class=\"col_heading level0 col12\" >12</th>        <th class=\"col_heading level0 col13\" >13</th>        <th class=\"col_heading level0 col14\" >14</th>        <th class=\"col_heading level0 col15\" >15</th>        <th class=\"col_heading level0 col16\" >16</th>        <th class=\"col_heading level0 col17\" >17</th>    </tr></thead><tbody>\n",
       "                <tr>\n",
       "                        <th id=\"T_dae5c662_9592_11ec_89a4_0242ac110002level0_row0\" class=\"row_heading level0 row0\" >0</th>\n",
       "                        <td id=\"T_dae5c662_9592_11ec_89a4_0242ac110002row0_col0\" class=\"data row0 col0\" >557</td>\n",
       "                        <td id=\"T_dae5c662_9592_11ec_89a4_0242ac110002row0_col1\" class=\"data row0 col1\" >1</td>\n",
       "                        <td id=\"T_dae5c662_9592_11ec_89a4_0242ac110002row0_col2\" class=\"data row0 col2\" >0</td>\n",
       "                        <td id=\"T_dae5c662_9592_11ec_89a4_0242ac110002row0_col3\" class=\"data row0 col3\" >0</td>\n",
       "                        <td id=\"T_dae5c662_9592_11ec_89a4_0242ac110002row0_col4\" class=\"data row0 col4\" >1</td>\n",
       "                        <td id=\"T_dae5c662_9592_11ec_89a4_0242ac110002row0_col5\" class=\"data row0 col5\" >0</td>\n",
       "                        <td id=\"T_dae5c662_9592_11ec_89a4_0242ac110002row0_col6\" class=\"data row0 col6\" >0</td>\n",
       "                        <td id=\"T_dae5c662_9592_11ec_89a4_0242ac110002row0_col7\" class=\"data row0 col7\" >0</td>\n",
       "                        <td id=\"T_dae5c662_9592_11ec_89a4_0242ac110002row0_col8\" class=\"data row0 col8\" >0</td>\n",
       "                        <td id=\"T_dae5c662_9592_11ec_89a4_0242ac110002row0_col9\" class=\"data row0 col9\" >0</td>\n",
       "                        <td id=\"T_dae5c662_9592_11ec_89a4_0242ac110002row0_col10\" class=\"data row0 col10\" >0</td>\n",
       "                        <td id=\"T_dae5c662_9592_11ec_89a4_0242ac110002row0_col11\" class=\"data row0 col11\" >0</td>\n",
       "                        <td id=\"T_dae5c662_9592_11ec_89a4_0242ac110002row0_col12\" class=\"data row0 col12\" >0</td>\n",
       "                        <td id=\"T_dae5c662_9592_11ec_89a4_0242ac110002row0_col13\" class=\"data row0 col13\" >0</td>\n",
       "                        <td id=\"T_dae5c662_9592_11ec_89a4_0242ac110002row0_col14\" class=\"data row0 col14\" >0</td>\n",
       "                        <td id=\"T_dae5c662_9592_11ec_89a4_0242ac110002row0_col15\" class=\"data row0 col15\" >0</td>\n",
       "                        <td id=\"T_dae5c662_9592_11ec_89a4_0242ac110002row0_col16\" class=\"data row0 col16\" >0</td>\n",
       "                        <td id=\"T_dae5c662_9592_11ec_89a4_0242ac110002row0_col17\" class=\"data row0 col17\" >0</td>\n",
       "            </tr>\n",
       "            <tr>\n",
       "                        <th id=\"T_dae5c662_9592_11ec_89a4_0242ac110002level0_row1\" class=\"row_heading level0 row1\" >1</th>\n",
       "                        <td id=\"T_dae5c662_9592_11ec_89a4_0242ac110002row1_col0\" class=\"data row1 col0\" >1</td>\n",
       "                        <td id=\"T_dae5c662_9592_11ec_89a4_0242ac110002row1_col1\" class=\"data row1 col1\" >402</td>\n",
       "                        <td id=\"T_dae5c662_9592_11ec_89a4_0242ac110002row1_col2\" class=\"data row1 col2\" >2</td>\n",
       "                        <td id=\"T_dae5c662_9592_11ec_89a4_0242ac110002row1_col3\" class=\"data row1 col3\" >0</td>\n",
       "                        <td id=\"T_dae5c662_9592_11ec_89a4_0242ac110002row1_col4\" class=\"data row1 col4\" >0</td>\n",
       "                        <td id=\"T_dae5c662_9592_11ec_89a4_0242ac110002row1_col5\" class=\"data row1 col5\" >0</td>\n",
       "                        <td id=\"T_dae5c662_9592_11ec_89a4_0242ac110002row1_col6\" class=\"data row1 col6\" >0</td>\n",
       "                        <td id=\"T_dae5c662_9592_11ec_89a4_0242ac110002row1_col7\" class=\"data row1 col7\" >0</td>\n",
       "                        <td id=\"T_dae5c662_9592_11ec_89a4_0242ac110002row1_col8\" class=\"data row1 col8\" >0</td>\n",
       "                        <td id=\"T_dae5c662_9592_11ec_89a4_0242ac110002row1_col9\" class=\"data row1 col9\" >0</td>\n",
       "                        <td id=\"T_dae5c662_9592_11ec_89a4_0242ac110002row1_col10\" class=\"data row1 col10\" >0</td>\n",
       "                        <td id=\"T_dae5c662_9592_11ec_89a4_0242ac110002row1_col11\" class=\"data row1 col11\" >0</td>\n",
       "                        <td id=\"T_dae5c662_9592_11ec_89a4_0242ac110002row1_col12\" class=\"data row1 col12\" >0</td>\n",
       "                        <td id=\"T_dae5c662_9592_11ec_89a4_0242ac110002row1_col13\" class=\"data row1 col13\" >0</td>\n",
       "                        <td id=\"T_dae5c662_9592_11ec_89a4_0242ac110002row1_col14\" class=\"data row1 col14\" >0</td>\n",
       "                        <td id=\"T_dae5c662_9592_11ec_89a4_0242ac110002row1_col15\" class=\"data row1 col15\" >0</td>\n",
       "                        <td id=\"T_dae5c662_9592_11ec_89a4_0242ac110002row1_col16\" class=\"data row1 col16\" >0</td>\n",
       "                        <td id=\"T_dae5c662_9592_11ec_89a4_0242ac110002row1_col17\" class=\"data row1 col17\" >0</td>\n",
       "            </tr>\n",
       "            <tr>\n",
       "                        <th id=\"T_dae5c662_9592_11ec_89a4_0242ac110002level0_row2\" class=\"row_heading level0 row2\" >2</th>\n",
       "                        <td id=\"T_dae5c662_9592_11ec_89a4_0242ac110002row2_col0\" class=\"data row2 col0\" >0</td>\n",
       "                        <td id=\"T_dae5c662_9592_11ec_89a4_0242ac110002row2_col1\" class=\"data row2 col1\" >2</td>\n",
       "                        <td id=\"T_dae5c662_9592_11ec_89a4_0242ac110002row2_col2\" class=\"data row2 col2\" >83</td>\n",
       "                        <td id=\"T_dae5c662_9592_11ec_89a4_0242ac110002row2_col3\" class=\"data row2 col3\" >0</td>\n",
       "                        <td id=\"T_dae5c662_9592_11ec_89a4_0242ac110002row2_col4\" class=\"data row2 col4\" >0</td>\n",
       "                        <td id=\"T_dae5c662_9592_11ec_89a4_0242ac110002row2_col5\" class=\"data row2 col5\" >0</td>\n",
       "                        <td id=\"T_dae5c662_9592_11ec_89a4_0242ac110002row2_col6\" class=\"data row2 col6\" >0</td>\n",
       "                        <td id=\"T_dae5c662_9592_11ec_89a4_0242ac110002row2_col7\" class=\"data row2 col7\" >0</td>\n",
       "                        <td id=\"T_dae5c662_9592_11ec_89a4_0242ac110002row2_col8\" class=\"data row2 col8\" >0</td>\n",
       "                        <td id=\"T_dae5c662_9592_11ec_89a4_0242ac110002row2_col9\" class=\"data row2 col9\" >0</td>\n",
       "                        <td id=\"T_dae5c662_9592_11ec_89a4_0242ac110002row2_col10\" class=\"data row2 col10\" >0</td>\n",
       "                        <td id=\"T_dae5c662_9592_11ec_89a4_0242ac110002row2_col11\" class=\"data row2 col11\" >0</td>\n",
       "                        <td id=\"T_dae5c662_9592_11ec_89a4_0242ac110002row2_col12\" class=\"data row2 col12\" >0</td>\n",
       "                        <td id=\"T_dae5c662_9592_11ec_89a4_0242ac110002row2_col13\" class=\"data row2 col13\" >0</td>\n",
       "                        <td id=\"T_dae5c662_9592_11ec_89a4_0242ac110002row2_col14\" class=\"data row2 col14\" >0</td>\n",
       "                        <td id=\"T_dae5c662_9592_11ec_89a4_0242ac110002row2_col15\" class=\"data row2 col15\" >0</td>\n",
       "                        <td id=\"T_dae5c662_9592_11ec_89a4_0242ac110002row2_col16\" class=\"data row2 col16\" >0</td>\n",
       "                        <td id=\"T_dae5c662_9592_11ec_89a4_0242ac110002row2_col17\" class=\"data row2 col17\" >0</td>\n",
       "            </tr>\n",
       "            <tr>\n",
       "                        <th id=\"T_dae5c662_9592_11ec_89a4_0242ac110002level0_row3\" class=\"row_heading level0 row3\" >3</th>\n",
       "                        <td id=\"T_dae5c662_9592_11ec_89a4_0242ac110002row3_col0\" class=\"data row3 col0\" >0</td>\n",
       "                        <td id=\"T_dae5c662_9592_11ec_89a4_0242ac110002row3_col1\" class=\"data row3 col1\" >0</td>\n",
       "                        <td id=\"T_dae5c662_9592_11ec_89a4_0242ac110002row3_col2\" class=\"data row3 col2\" >0</td>\n",
       "                        <td id=\"T_dae5c662_9592_11ec_89a4_0242ac110002row3_col3\" class=\"data row3 col3\" >719</td>\n",
       "                        <td id=\"T_dae5c662_9592_11ec_89a4_0242ac110002row3_col4\" class=\"data row3 col4\" >3</td>\n",
       "                        <td id=\"T_dae5c662_9592_11ec_89a4_0242ac110002row3_col5\" class=\"data row3 col5\" >0</td>\n",
       "                        <td id=\"T_dae5c662_9592_11ec_89a4_0242ac110002row3_col6\" class=\"data row3 col6\" >0</td>\n",
       "                        <td id=\"T_dae5c662_9592_11ec_89a4_0242ac110002row3_col7\" class=\"data row3 col7\" >0</td>\n",
       "                        <td id=\"T_dae5c662_9592_11ec_89a4_0242ac110002row3_col8\" class=\"data row3 col8\" >0</td>\n",
       "                        <td id=\"T_dae5c662_9592_11ec_89a4_0242ac110002row3_col9\" class=\"data row3 col9\" >2</td>\n",
       "                        <td id=\"T_dae5c662_9592_11ec_89a4_0242ac110002row3_col10\" class=\"data row3 col10\" >0</td>\n",
       "                        <td id=\"T_dae5c662_9592_11ec_89a4_0242ac110002row3_col11\" class=\"data row3 col11\" >0</td>\n",
       "                        <td id=\"T_dae5c662_9592_11ec_89a4_0242ac110002row3_col12\" class=\"data row3 col12\" >0</td>\n",
       "                        <td id=\"T_dae5c662_9592_11ec_89a4_0242ac110002row3_col13\" class=\"data row3 col13\" >0</td>\n",
       "                        <td id=\"T_dae5c662_9592_11ec_89a4_0242ac110002row3_col14\" class=\"data row3 col14\" >0</td>\n",
       "                        <td id=\"T_dae5c662_9592_11ec_89a4_0242ac110002row3_col15\" class=\"data row3 col15\" >0</td>\n",
       "                        <td id=\"T_dae5c662_9592_11ec_89a4_0242ac110002row3_col16\" class=\"data row3 col16\" >0</td>\n",
       "                        <td id=\"T_dae5c662_9592_11ec_89a4_0242ac110002row3_col17\" class=\"data row3 col17\" >0</td>\n",
       "            </tr>\n",
       "            <tr>\n",
       "                        <th id=\"T_dae5c662_9592_11ec_89a4_0242ac110002level0_row4\" class=\"row_heading level0 row4\" >4</th>\n",
       "                        <td id=\"T_dae5c662_9592_11ec_89a4_0242ac110002row4_col0\" class=\"data row4 col0\" >0</td>\n",
       "                        <td id=\"T_dae5c662_9592_11ec_89a4_0242ac110002row4_col1\" class=\"data row4 col1\" >0</td>\n",
       "                        <td id=\"T_dae5c662_9592_11ec_89a4_0242ac110002row4_col2\" class=\"data row4 col2\" >0</td>\n",
       "                        <td id=\"T_dae5c662_9592_11ec_89a4_0242ac110002row4_col3\" class=\"data row4 col3\" >1</td>\n",
       "                        <td id=\"T_dae5c662_9592_11ec_89a4_0242ac110002row4_col4\" class=\"data row4 col4\" >808</td>\n",
       "                        <td id=\"T_dae5c662_9592_11ec_89a4_0242ac110002row4_col5\" class=\"data row4 col5\" >0</td>\n",
       "                        <td id=\"T_dae5c662_9592_11ec_89a4_0242ac110002row4_col6\" class=\"data row4 col6\" >0</td>\n",
       "                        <td id=\"T_dae5c662_9592_11ec_89a4_0242ac110002row4_col7\" class=\"data row4 col7\" >0</td>\n",
       "                        <td id=\"T_dae5c662_9592_11ec_89a4_0242ac110002row4_col8\" class=\"data row4 col8\" >0</td>\n",
       "                        <td id=\"T_dae5c662_9592_11ec_89a4_0242ac110002row4_col9\" class=\"data row4 col9\" >0</td>\n",
       "                        <td id=\"T_dae5c662_9592_11ec_89a4_0242ac110002row4_col10\" class=\"data row4 col10\" >2</td>\n",
       "                        <td id=\"T_dae5c662_9592_11ec_89a4_0242ac110002row4_col11\" class=\"data row4 col11\" >0</td>\n",
       "                        <td id=\"T_dae5c662_9592_11ec_89a4_0242ac110002row4_col12\" class=\"data row4 col12\" >0</td>\n",
       "                        <td id=\"T_dae5c662_9592_11ec_89a4_0242ac110002row4_col13\" class=\"data row4 col13\" >0</td>\n",
       "                        <td id=\"T_dae5c662_9592_11ec_89a4_0242ac110002row4_col14\" class=\"data row4 col14\" >0</td>\n",
       "                        <td id=\"T_dae5c662_9592_11ec_89a4_0242ac110002row4_col15\" class=\"data row4 col15\" >0</td>\n",
       "                        <td id=\"T_dae5c662_9592_11ec_89a4_0242ac110002row4_col16\" class=\"data row4 col16\" >0</td>\n",
       "                        <td id=\"T_dae5c662_9592_11ec_89a4_0242ac110002row4_col17\" class=\"data row4 col17\" >0</td>\n",
       "            </tr>\n",
       "            <tr>\n",
       "                        <th id=\"T_dae5c662_9592_11ec_89a4_0242ac110002level0_row5\" class=\"row_heading level0 row5\" >5</th>\n",
       "                        <td id=\"T_dae5c662_9592_11ec_89a4_0242ac110002row5_col0\" class=\"data row5 col0\" >0</td>\n",
       "                        <td id=\"T_dae5c662_9592_11ec_89a4_0242ac110002row5_col1\" class=\"data row5 col1\" >0</td>\n",
       "                        <td id=\"T_dae5c662_9592_11ec_89a4_0242ac110002row5_col2\" class=\"data row5 col2\" >0</td>\n",
       "                        <td id=\"T_dae5c662_9592_11ec_89a4_0242ac110002row5_col3\" class=\"data row5 col3\" >0</td>\n",
       "                        <td id=\"T_dae5c662_9592_11ec_89a4_0242ac110002row5_col4\" class=\"data row5 col4\" >11</td>\n",
       "                        <td id=\"T_dae5c662_9592_11ec_89a4_0242ac110002row5_col5\" class=\"data row5 col5\" >91</td>\n",
       "                        <td id=\"T_dae5c662_9592_11ec_89a4_0242ac110002row5_col6\" class=\"data row5 col6\" >0</td>\n",
       "                        <td id=\"T_dae5c662_9592_11ec_89a4_0242ac110002row5_col7\" class=\"data row5 col7\" >0</td>\n",
       "                        <td id=\"T_dae5c662_9592_11ec_89a4_0242ac110002row5_col8\" class=\"data row5 col8\" >0</td>\n",
       "                        <td id=\"T_dae5c662_9592_11ec_89a4_0242ac110002row5_col9\" class=\"data row5 col9\" >0</td>\n",
       "                        <td id=\"T_dae5c662_9592_11ec_89a4_0242ac110002row5_col10\" class=\"data row5 col10\" >0</td>\n",
       "                        <td id=\"T_dae5c662_9592_11ec_89a4_0242ac110002row5_col11\" class=\"data row5 col11\" >0</td>\n",
       "                        <td id=\"T_dae5c662_9592_11ec_89a4_0242ac110002row5_col12\" class=\"data row5 col12\" >0</td>\n",
       "                        <td id=\"T_dae5c662_9592_11ec_89a4_0242ac110002row5_col13\" class=\"data row5 col13\" >0</td>\n",
       "                        <td id=\"T_dae5c662_9592_11ec_89a4_0242ac110002row5_col14\" class=\"data row5 col14\" >0</td>\n",
       "                        <td id=\"T_dae5c662_9592_11ec_89a4_0242ac110002row5_col15\" class=\"data row5 col15\" >0</td>\n",
       "                        <td id=\"T_dae5c662_9592_11ec_89a4_0242ac110002row5_col16\" class=\"data row5 col16\" >0</td>\n",
       "                        <td id=\"T_dae5c662_9592_11ec_89a4_0242ac110002row5_col17\" class=\"data row5 col17\" >0</td>\n",
       "            </tr>\n",
       "            <tr>\n",
       "                        <th id=\"T_dae5c662_9592_11ec_89a4_0242ac110002level0_row6\" class=\"row_heading level0 row6\" >6</th>\n",
       "                        <td id=\"T_dae5c662_9592_11ec_89a4_0242ac110002row6_col0\" class=\"data row6 col0\" >1</td>\n",
       "                        <td id=\"T_dae5c662_9592_11ec_89a4_0242ac110002row6_col1\" class=\"data row6 col1\" >0</td>\n",
       "                        <td id=\"T_dae5c662_9592_11ec_89a4_0242ac110002row6_col2\" class=\"data row6 col2\" >0</td>\n",
       "                        <td id=\"T_dae5c662_9592_11ec_89a4_0242ac110002row6_col3\" class=\"data row6 col3\" >0</td>\n",
       "                        <td id=\"T_dae5c662_9592_11ec_89a4_0242ac110002row6_col4\" class=\"data row6 col4\" >0</td>\n",
       "                        <td id=\"T_dae5c662_9592_11ec_89a4_0242ac110002row6_col5\" class=\"data row6 col5\" >0</td>\n",
       "                        <td id=\"T_dae5c662_9592_11ec_89a4_0242ac110002row6_col6\" class=\"data row6 col6\" >109</td>\n",
       "                        <td id=\"T_dae5c662_9592_11ec_89a4_0242ac110002row6_col7\" class=\"data row6 col7\" >0</td>\n",
       "                        <td id=\"T_dae5c662_9592_11ec_89a4_0242ac110002row6_col8\" class=\"data row6 col8\" >0</td>\n",
       "                        <td id=\"T_dae5c662_9592_11ec_89a4_0242ac110002row6_col9\" class=\"data row6 col9\" >0</td>\n",
       "                        <td id=\"T_dae5c662_9592_11ec_89a4_0242ac110002row6_col10\" class=\"data row6 col10\" >0</td>\n",
       "                        <td id=\"T_dae5c662_9592_11ec_89a4_0242ac110002row6_col11\" class=\"data row6 col11\" >0</td>\n",
       "                        <td id=\"T_dae5c662_9592_11ec_89a4_0242ac110002row6_col12\" class=\"data row6 col12\" >0</td>\n",
       "                        <td id=\"T_dae5c662_9592_11ec_89a4_0242ac110002row6_col13\" class=\"data row6 col13\" >0</td>\n",
       "                        <td id=\"T_dae5c662_9592_11ec_89a4_0242ac110002row6_col14\" class=\"data row6 col14\" >0</td>\n",
       "                        <td id=\"T_dae5c662_9592_11ec_89a4_0242ac110002row6_col15\" class=\"data row6 col15\" >0</td>\n",
       "                        <td id=\"T_dae5c662_9592_11ec_89a4_0242ac110002row6_col16\" class=\"data row6 col16\" >0</td>\n",
       "                        <td id=\"T_dae5c662_9592_11ec_89a4_0242ac110002row6_col17\" class=\"data row6 col17\" >0</td>\n",
       "            </tr>\n",
       "            <tr>\n",
       "                        <th id=\"T_dae5c662_9592_11ec_89a4_0242ac110002level0_row7\" class=\"row_heading level0 row7\" >7</th>\n",
       "                        <td id=\"T_dae5c662_9592_11ec_89a4_0242ac110002row7_col0\" class=\"data row7 col0\" >0</td>\n",
       "                        <td id=\"T_dae5c662_9592_11ec_89a4_0242ac110002row7_col1\" class=\"data row7 col1\" >0</td>\n",
       "                        <td id=\"T_dae5c662_9592_11ec_89a4_0242ac110002row7_col2\" class=\"data row7 col2\" >0</td>\n",
       "                        <td id=\"T_dae5c662_9592_11ec_89a4_0242ac110002row7_col3\" class=\"data row7 col3\" >0</td>\n",
       "                        <td id=\"T_dae5c662_9592_11ec_89a4_0242ac110002row7_col4\" class=\"data row7 col4\" >0</td>\n",
       "                        <td id=\"T_dae5c662_9592_11ec_89a4_0242ac110002row7_col5\" class=\"data row7 col5\" >0</td>\n",
       "                        <td id=\"T_dae5c662_9592_11ec_89a4_0242ac110002row7_col6\" class=\"data row7 col6\" >0</td>\n",
       "                        <td id=\"T_dae5c662_9592_11ec_89a4_0242ac110002row7_col7\" class=\"data row7 col7\" >81</td>\n",
       "                        <td id=\"T_dae5c662_9592_11ec_89a4_0242ac110002row7_col8\" class=\"data row7 col8\" >1</td>\n",
       "                        <td id=\"T_dae5c662_9592_11ec_89a4_0242ac110002row7_col9\" class=\"data row7 col9\" >0</td>\n",
       "                        <td id=\"T_dae5c662_9592_11ec_89a4_0242ac110002row7_col10\" class=\"data row7 col10\" >0</td>\n",
       "                        <td id=\"T_dae5c662_9592_11ec_89a4_0242ac110002row7_col11\" class=\"data row7 col11\" >0</td>\n",
       "                        <td id=\"T_dae5c662_9592_11ec_89a4_0242ac110002row7_col12\" class=\"data row7 col12\" >0</td>\n",
       "                        <td id=\"T_dae5c662_9592_11ec_89a4_0242ac110002row7_col13\" class=\"data row7 col13\" >0</td>\n",
       "                        <td id=\"T_dae5c662_9592_11ec_89a4_0242ac110002row7_col14\" class=\"data row7 col14\" >0</td>\n",
       "                        <td id=\"T_dae5c662_9592_11ec_89a4_0242ac110002row7_col15\" class=\"data row7 col15\" >0</td>\n",
       "                        <td id=\"T_dae5c662_9592_11ec_89a4_0242ac110002row7_col16\" class=\"data row7 col16\" >0</td>\n",
       "                        <td id=\"T_dae5c662_9592_11ec_89a4_0242ac110002row7_col17\" class=\"data row7 col17\" >0</td>\n",
       "            </tr>\n",
       "            <tr>\n",
       "                        <th id=\"T_dae5c662_9592_11ec_89a4_0242ac110002level0_row8\" class=\"row_heading level0 row8\" >8</th>\n",
       "                        <td id=\"T_dae5c662_9592_11ec_89a4_0242ac110002row8_col0\" class=\"data row8 col0\" >0</td>\n",
       "                        <td id=\"T_dae5c662_9592_11ec_89a4_0242ac110002row8_col1\" class=\"data row8 col1\" >0</td>\n",
       "                        <td id=\"T_dae5c662_9592_11ec_89a4_0242ac110002row8_col2\" class=\"data row8 col2\" >0</td>\n",
       "                        <td id=\"T_dae5c662_9592_11ec_89a4_0242ac110002row8_col3\" class=\"data row8 col3\" >0</td>\n",
       "                        <td id=\"T_dae5c662_9592_11ec_89a4_0242ac110002row8_col4\" class=\"data row8 col4\" >0</td>\n",
       "                        <td id=\"T_dae5c662_9592_11ec_89a4_0242ac110002row8_col5\" class=\"data row8 col5\" >0</td>\n",
       "                        <td id=\"T_dae5c662_9592_11ec_89a4_0242ac110002row8_col6\" class=\"data row8 col6\" >0</td>\n",
       "                        <td id=\"T_dae5c662_9592_11ec_89a4_0242ac110002row8_col7\" class=\"data row8 col7\" >0</td>\n",
       "                        <td id=\"T_dae5c662_9592_11ec_89a4_0242ac110002row8_col8\" class=\"data row8 col8\" >13</td>\n",
       "                        <td id=\"T_dae5c662_9592_11ec_89a4_0242ac110002row8_col9\" class=\"data row8 col9\" >0</td>\n",
       "                        <td id=\"T_dae5c662_9592_11ec_89a4_0242ac110002row8_col10\" class=\"data row8 col10\" >0</td>\n",
       "                        <td id=\"T_dae5c662_9592_11ec_89a4_0242ac110002row8_col11\" class=\"data row8 col11\" >0</td>\n",
       "                        <td id=\"T_dae5c662_9592_11ec_89a4_0242ac110002row8_col12\" class=\"data row8 col12\" >0</td>\n",
       "                        <td id=\"T_dae5c662_9592_11ec_89a4_0242ac110002row8_col13\" class=\"data row8 col13\" >0</td>\n",
       "                        <td id=\"T_dae5c662_9592_11ec_89a4_0242ac110002row8_col14\" class=\"data row8 col14\" >0</td>\n",
       "                        <td id=\"T_dae5c662_9592_11ec_89a4_0242ac110002row8_col15\" class=\"data row8 col15\" >0</td>\n",
       "                        <td id=\"T_dae5c662_9592_11ec_89a4_0242ac110002row8_col16\" class=\"data row8 col16\" >0</td>\n",
       "                        <td id=\"T_dae5c662_9592_11ec_89a4_0242ac110002row8_col17\" class=\"data row8 col17\" >0</td>\n",
       "            </tr>\n",
       "            <tr>\n",
       "                        <th id=\"T_dae5c662_9592_11ec_89a4_0242ac110002level0_row9\" class=\"row_heading level0 row9\" >9</th>\n",
       "                        <td id=\"T_dae5c662_9592_11ec_89a4_0242ac110002row9_col0\" class=\"data row9 col0\" >0</td>\n",
       "                        <td id=\"T_dae5c662_9592_11ec_89a4_0242ac110002row9_col1\" class=\"data row9 col1\" >0</td>\n",
       "                        <td id=\"T_dae5c662_9592_11ec_89a4_0242ac110002row9_col2\" class=\"data row9 col2\" >0</td>\n",
       "                        <td id=\"T_dae5c662_9592_11ec_89a4_0242ac110002row9_col3\" class=\"data row9 col3\" >0</td>\n",
       "                        <td id=\"T_dae5c662_9592_11ec_89a4_0242ac110002row9_col4\" class=\"data row9 col4\" >0</td>\n",
       "                        <td id=\"T_dae5c662_9592_11ec_89a4_0242ac110002row9_col5\" class=\"data row9 col5\" >0</td>\n",
       "                        <td id=\"T_dae5c662_9592_11ec_89a4_0242ac110002row9_col6\" class=\"data row9 col6\" >0</td>\n",
       "                        <td id=\"T_dae5c662_9592_11ec_89a4_0242ac110002row9_col7\" class=\"data row9 col7\" >0</td>\n",
       "                        <td id=\"T_dae5c662_9592_11ec_89a4_0242ac110002row9_col8\" class=\"data row9 col8\" >0</td>\n",
       "                        <td id=\"T_dae5c662_9592_11ec_89a4_0242ac110002row9_col9\" class=\"data row9 col9\" >129</td>\n",
       "                        <td id=\"T_dae5c662_9592_11ec_89a4_0242ac110002row9_col10\" class=\"data row9 col10\" >4</td>\n",
       "                        <td id=\"T_dae5c662_9592_11ec_89a4_0242ac110002row9_col11\" class=\"data row9 col11\" >0</td>\n",
       "                        <td id=\"T_dae5c662_9592_11ec_89a4_0242ac110002row9_col12\" class=\"data row9 col12\" >0</td>\n",
       "                        <td id=\"T_dae5c662_9592_11ec_89a4_0242ac110002row9_col13\" class=\"data row9 col13\" >0</td>\n",
       "                        <td id=\"T_dae5c662_9592_11ec_89a4_0242ac110002row9_col14\" class=\"data row9 col14\" >0</td>\n",
       "                        <td id=\"T_dae5c662_9592_11ec_89a4_0242ac110002row9_col15\" class=\"data row9 col15\" >1</td>\n",
       "                        <td id=\"T_dae5c662_9592_11ec_89a4_0242ac110002row9_col16\" class=\"data row9 col16\" >0</td>\n",
       "                        <td id=\"T_dae5c662_9592_11ec_89a4_0242ac110002row9_col17\" class=\"data row9 col17\" >0</td>\n",
       "            </tr>\n",
       "            <tr>\n",
       "                        <th id=\"T_dae5c662_9592_11ec_89a4_0242ac110002level0_row10\" class=\"row_heading level0 row10\" >10</th>\n",
       "                        <td id=\"T_dae5c662_9592_11ec_89a4_0242ac110002row10_col0\" class=\"data row10 col0\" >0</td>\n",
       "                        <td id=\"T_dae5c662_9592_11ec_89a4_0242ac110002row10_col1\" class=\"data row10 col1\" >0</td>\n",
       "                        <td id=\"T_dae5c662_9592_11ec_89a4_0242ac110002row10_col2\" class=\"data row10 col2\" >0</td>\n",
       "                        <td id=\"T_dae5c662_9592_11ec_89a4_0242ac110002row10_col3\" class=\"data row10 col3\" >0</td>\n",
       "                        <td id=\"T_dae5c662_9592_11ec_89a4_0242ac110002row10_col4\" class=\"data row10 col4\" >1</td>\n",
       "                        <td id=\"T_dae5c662_9592_11ec_89a4_0242ac110002row10_col5\" class=\"data row10 col5\" >0</td>\n",
       "                        <td id=\"T_dae5c662_9592_11ec_89a4_0242ac110002row10_col6\" class=\"data row10 col6\" >0</td>\n",
       "                        <td id=\"T_dae5c662_9592_11ec_89a4_0242ac110002row10_col7\" class=\"data row10 col7\" >0</td>\n",
       "                        <td id=\"T_dae5c662_9592_11ec_89a4_0242ac110002row10_col8\" class=\"data row10 col8\" >0</td>\n",
       "                        <td id=\"T_dae5c662_9592_11ec_89a4_0242ac110002row10_col9\" class=\"data row10 col9\" >0</td>\n",
       "                        <td id=\"T_dae5c662_9592_11ec_89a4_0242ac110002row10_col10\" class=\"data row10 col10\" >149</td>\n",
       "                        <td id=\"T_dae5c662_9592_11ec_89a4_0242ac110002row10_col11\" class=\"data row10 col11\" >0</td>\n",
       "                        <td id=\"T_dae5c662_9592_11ec_89a4_0242ac110002row10_col12\" class=\"data row10 col12\" >0</td>\n",
       "                        <td id=\"T_dae5c662_9592_11ec_89a4_0242ac110002row10_col13\" class=\"data row10 col13\" >0</td>\n",
       "                        <td id=\"T_dae5c662_9592_11ec_89a4_0242ac110002row10_col14\" class=\"data row10 col14\" >0</td>\n",
       "                        <td id=\"T_dae5c662_9592_11ec_89a4_0242ac110002row10_col15\" class=\"data row10 col15\" >0</td>\n",
       "                        <td id=\"T_dae5c662_9592_11ec_89a4_0242ac110002row10_col16\" class=\"data row10 col16\" >0</td>\n",
       "                        <td id=\"T_dae5c662_9592_11ec_89a4_0242ac110002row10_col17\" class=\"data row10 col17\" >0</td>\n",
       "            </tr>\n",
       "            <tr>\n",
       "                        <th id=\"T_dae5c662_9592_11ec_89a4_0242ac110002level0_row11\" class=\"row_heading level0 row11\" >11</th>\n",
       "                        <td id=\"T_dae5c662_9592_11ec_89a4_0242ac110002row11_col0\" class=\"data row11 col0\" >0</td>\n",
       "                        <td id=\"T_dae5c662_9592_11ec_89a4_0242ac110002row11_col1\" class=\"data row11 col1\" >0</td>\n",
       "                        <td id=\"T_dae5c662_9592_11ec_89a4_0242ac110002row11_col2\" class=\"data row11 col2\" >0</td>\n",
       "                        <td id=\"T_dae5c662_9592_11ec_89a4_0242ac110002row11_col3\" class=\"data row11 col3\" >0</td>\n",
       "                        <td id=\"T_dae5c662_9592_11ec_89a4_0242ac110002row11_col4\" class=\"data row11 col4\" >0</td>\n",
       "                        <td id=\"T_dae5c662_9592_11ec_89a4_0242ac110002row11_col5\" class=\"data row11 col5\" >0</td>\n",
       "                        <td id=\"T_dae5c662_9592_11ec_89a4_0242ac110002row11_col6\" class=\"data row11 col6\" >0</td>\n",
       "                        <td id=\"T_dae5c662_9592_11ec_89a4_0242ac110002row11_col7\" class=\"data row11 col7\" >0</td>\n",
       "                        <td id=\"T_dae5c662_9592_11ec_89a4_0242ac110002row11_col8\" class=\"data row11 col8\" >0</td>\n",
       "                        <td id=\"T_dae5c662_9592_11ec_89a4_0242ac110002row11_col9\" class=\"data row11 col9\" >0</td>\n",
       "                        <td id=\"T_dae5c662_9592_11ec_89a4_0242ac110002row11_col10\" class=\"data row11 col10\" >0</td>\n",
       "                        <td id=\"T_dae5c662_9592_11ec_89a4_0242ac110002row11_col11\" class=\"data row11 col11\" >29</td>\n",
       "                        <td id=\"T_dae5c662_9592_11ec_89a4_0242ac110002row11_col12\" class=\"data row11 col12\" >0</td>\n",
       "                        <td id=\"T_dae5c662_9592_11ec_89a4_0242ac110002row11_col13\" class=\"data row11 col13\" >0</td>\n",
       "                        <td id=\"T_dae5c662_9592_11ec_89a4_0242ac110002row11_col14\" class=\"data row11 col14\" >0</td>\n",
       "                        <td id=\"T_dae5c662_9592_11ec_89a4_0242ac110002row11_col15\" class=\"data row11 col15\" >0</td>\n",
       "                        <td id=\"T_dae5c662_9592_11ec_89a4_0242ac110002row11_col16\" class=\"data row11 col16\" >0</td>\n",
       "                        <td id=\"T_dae5c662_9592_11ec_89a4_0242ac110002row11_col17\" class=\"data row11 col17\" >0</td>\n",
       "            </tr>\n",
       "            <tr>\n",
       "                        <th id=\"T_dae5c662_9592_11ec_89a4_0242ac110002level0_row12\" class=\"row_heading level0 row12\" >12</th>\n",
       "                        <td id=\"T_dae5c662_9592_11ec_89a4_0242ac110002row12_col0\" class=\"data row12 col0\" >0</td>\n",
       "                        <td id=\"T_dae5c662_9592_11ec_89a4_0242ac110002row12_col1\" class=\"data row12 col1\" >0</td>\n",
       "                        <td id=\"T_dae5c662_9592_11ec_89a4_0242ac110002row12_col2\" class=\"data row12 col2\" >0</td>\n",
       "                        <td id=\"T_dae5c662_9592_11ec_89a4_0242ac110002row12_col3\" class=\"data row12 col3\" >0</td>\n",
       "                        <td id=\"T_dae5c662_9592_11ec_89a4_0242ac110002row12_col4\" class=\"data row12 col4\" >0</td>\n",
       "                        <td id=\"T_dae5c662_9592_11ec_89a4_0242ac110002row12_col5\" class=\"data row12 col5\" >0</td>\n",
       "                        <td id=\"T_dae5c662_9592_11ec_89a4_0242ac110002row12_col6\" class=\"data row12 col6\" >0</td>\n",
       "                        <td id=\"T_dae5c662_9592_11ec_89a4_0242ac110002row12_col7\" class=\"data row12 col7\" >0</td>\n",
       "                        <td id=\"T_dae5c662_9592_11ec_89a4_0242ac110002row12_col8\" class=\"data row12 col8\" >0</td>\n",
       "                        <td id=\"T_dae5c662_9592_11ec_89a4_0242ac110002row12_col9\" class=\"data row12 col9\" >0</td>\n",
       "                        <td id=\"T_dae5c662_9592_11ec_89a4_0242ac110002row12_col10\" class=\"data row12 col10\" >0</td>\n",
       "                        <td id=\"T_dae5c662_9592_11ec_89a4_0242ac110002row12_col11\" class=\"data row12 col11\" >0</td>\n",
       "                        <td id=\"T_dae5c662_9592_11ec_89a4_0242ac110002row12_col12\" class=\"data row12 col12\" >107</td>\n",
       "                        <td id=\"T_dae5c662_9592_11ec_89a4_0242ac110002row12_col13\" class=\"data row12 col13\" >1</td>\n",
       "                        <td id=\"T_dae5c662_9592_11ec_89a4_0242ac110002row12_col14\" class=\"data row12 col14\" >0</td>\n",
       "                        <td id=\"T_dae5c662_9592_11ec_89a4_0242ac110002row12_col15\" class=\"data row12 col15\" >0</td>\n",
       "                        <td id=\"T_dae5c662_9592_11ec_89a4_0242ac110002row12_col16\" class=\"data row12 col16\" >0</td>\n",
       "                        <td id=\"T_dae5c662_9592_11ec_89a4_0242ac110002row12_col17\" class=\"data row12 col17\" >0</td>\n",
       "            </tr>\n",
       "            <tr>\n",
       "                        <th id=\"T_dae5c662_9592_11ec_89a4_0242ac110002level0_row13\" class=\"row_heading level0 row13\" >13</th>\n",
       "                        <td id=\"T_dae5c662_9592_11ec_89a4_0242ac110002row13_col0\" class=\"data row13 col0\" >0</td>\n",
       "                        <td id=\"T_dae5c662_9592_11ec_89a4_0242ac110002row13_col1\" class=\"data row13 col1\" >1</td>\n",
       "                        <td id=\"T_dae5c662_9592_11ec_89a4_0242ac110002row13_col2\" class=\"data row13 col2\" >0</td>\n",
       "                        <td id=\"T_dae5c662_9592_11ec_89a4_0242ac110002row13_col3\" class=\"data row13 col3\" >0</td>\n",
       "                        <td id=\"T_dae5c662_9592_11ec_89a4_0242ac110002row13_col4\" class=\"data row13 col4\" >0</td>\n",
       "                        <td id=\"T_dae5c662_9592_11ec_89a4_0242ac110002row13_col5\" class=\"data row13 col5\" >0</td>\n",
       "                        <td id=\"T_dae5c662_9592_11ec_89a4_0242ac110002row13_col6\" class=\"data row13 col6\" >0</td>\n",
       "                        <td id=\"T_dae5c662_9592_11ec_89a4_0242ac110002row13_col7\" class=\"data row13 col7\" >0</td>\n",
       "                        <td id=\"T_dae5c662_9592_11ec_89a4_0242ac110002row13_col8\" class=\"data row13 col8\" >0</td>\n",
       "                        <td id=\"T_dae5c662_9592_11ec_89a4_0242ac110002row13_col9\" class=\"data row13 col9\" >0</td>\n",
       "                        <td id=\"T_dae5c662_9592_11ec_89a4_0242ac110002row13_col10\" class=\"data row13 col10\" >0</td>\n",
       "                        <td id=\"T_dae5c662_9592_11ec_89a4_0242ac110002row13_col11\" class=\"data row13 col11\" >0</td>\n",
       "                        <td id=\"T_dae5c662_9592_11ec_89a4_0242ac110002row13_col12\" class=\"data row13 col12\" >0</td>\n",
       "                        <td id=\"T_dae5c662_9592_11ec_89a4_0242ac110002row13_col13\" class=\"data row13 col13\" >84</td>\n",
       "                        <td id=\"T_dae5c662_9592_11ec_89a4_0242ac110002row13_col14\" class=\"data row13 col14\" >2</td>\n",
       "                        <td id=\"T_dae5c662_9592_11ec_89a4_0242ac110002row13_col15\" class=\"data row13 col15\" >0</td>\n",
       "                        <td id=\"T_dae5c662_9592_11ec_89a4_0242ac110002row13_col16\" class=\"data row13 col16\" >0</td>\n",
       "                        <td id=\"T_dae5c662_9592_11ec_89a4_0242ac110002row13_col17\" class=\"data row13 col17\" >0</td>\n",
       "            </tr>\n",
       "            <tr>\n",
       "                        <th id=\"T_dae5c662_9592_11ec_89a4_0242ac110002level0_row14\" class=\"row_heading level0 row14\" >14</th>\n",
       "                        <td id=\"T_dae5c662_9592_11ec_89a4_0242ac110002row14_col0\" class=\"data row14 col0\" >0</td>\n",
       "                        <td id=\"T_dae5c662_9592_11ec_89a4_0242ac110002row14_col1\" class=\"data row14 col1\" >0</td>\n",
       "                        <td id=\"T_dae5c662_9592_11ec_89a4_0242ac110002row14_col2\" class=\"data row14 col2\" >0</td>\n",
       "                        <td id=\"T_dae5c662_9592_11ec_89a4_0242ac110002row14_col3\" class=\"data row14 col3\" >0</td>\n",
       "                        <td id=\"T_dae5c662_9592_11ec_89a4_0242ac110002row14_col4\" class=\"data row14 col4\" >0</td>\n",
       "                        <td id=\"T_dae5c662_9592_11ec_89a4_0242ac110002row14_col5\" class=\"data row14 col5\" >0</td>\n",
       "                        <td id=\"T_dae5c662_9592_11ec_89a4_0242ac110002row14_col6\" class=\"data row14 col6\" >0</td>\n",
       "                        <td id=\"T_dae5c662_9592_11ec_89a4_0242ac110002row14_col7\" class=\"data row14 col7\" >0</td>\n",
       "                        <td id=\"T_dae5c662_9592_11ec_89a4_0242ac110002row14_col8\" class=\"data row14 col8\" >0</td>\n",
       "                        <td id=\"T_dae5c662_9592_11ec_89a4_0242ac110002row14_col9\" class=\"data row14 col9\" >0</td>\n",
       "                        <td id=\"T_dae5c662_9592_11ec_89a4_0242ac110002row14_col10\" class=\"data row14 col10\" >0</td>\n",
       "                        <td id=\"T_dae5c662_9592_11ec_89a4_0242ac110002row14_col11\" class=\"data row14 col11\" >0</td>\n",
       "                        <td id=\"T_dae5c662_9592_11ec_89a4_0242ac110002row14_col12\" class=\"data row14 col12\" >0</td>\n",
       "                        <td id=\"T_dae5c662_9592_11ec_89a4_0242ac110002row14_col13\" class=\"data row14 col13\" >1</td>\n",
       "                        <td id=\"T_dae5c662_9592_11ec_89a4_0242ac110002row14_col14\" class=\"data row14 col14\" >17</td>\n",
       "                        <td id=\"T_dae5c662_9592_11ec_89a4_0242ac110002row14_col15\" class=\"data row14 col15\" >0</td>\n",
       "                        <td id=\"T_dae5c662_9592_11ec_89a4_0242ac110002row14_col16\" class=\"data row14 col16\" >0</td>\n",
       "                        <td id=\"T_dae5c662_9592_11ec_89a4_0242ac110002row14_col17\" class=\"data row14 col17\" >0</td>\n",
       "            </tr>\n",
       "            <tr>\n",
       "                        <th id=\"T_dae5c662_9592_11ec_89a4_0242ac110002level0_row15\" class=\"row_heading level0 row15\" >15</th>\n",
       "                        <td id=\"T_dae5c662_9592_11ec_89a4_0242ac110002row15_col0\" class=\"data row15 col0\" >0</td>\n",
       "                        <td id=\"T_dae5c662_9592_11ec_89a4_0242ac110002row15_col1\" class=\"data row15 col1\" >0</td>\n",
       "                        <td id=\"T_dae5c662_9592_11ec_89a4_0242ac110002row15_col2\" class=\"data row15 col2\" >0</td>\n",
       "                        <td id=\"T_dae5c662_9592_11ec_89a4_0242ac110002row15_col3\" class=\"data row15 col3\" >0</td>\n",
       "                        <td id=\"T_dae5c662_9592_11ec_89a4_0242ac110002row15_col4\" class=\"data row15 col4\" >0</td>\n",
       "                        <td id=\"T_dae5c662_9592_11ec_89a4_0242ac110002row15_col5\" class=\"data row15 col5\" >0</td>\n",
       "                        <td id=\"T_dae5c662_9592_11ec_89a4_0242ac110002row15_col6\" class=\"data row15 col6\" >0</td>\n",
       "                        <td id=\"T_dae5c662_9592_11ec_89a4_0242ac110002row15_col7\" class=\"data row15 col7\" >0</td>\n",
       "                        <td id=\"T_dae5c662_9592_11ec_89a4_0242ac110002row15_col8\" class=\"data row15 col8\" >0</td>\n",
       "                        <td id=\"T_dae5c662_9592_11ec_89a4_0242ac110002row15_col9\" class=\"data row15 col9\" >0</td>\n",
       "                        <td id=\"T_dae5c662_9592_11ec_89a4_0242ac110002row15_col10\" class=\"data row15 col10\" >0</td>\n",
       "                        <td id=\"T_dae5c662_9592_11ec_89a4_0242ac110002row15_col11\" class=\"data row15 col11\" >0</td>\n",
       "                        <td id=\"T_dae5c662_9592_11ec_89a4_0242ac110002row15_col12\" class=\"data row15 col12\" >0</td>\n",
       "                        <td id=\"T_dae5c662_9592_11ec_89a4_0242ac110002row15_col13\" class=\"data row15 col13\" >0</td>\n",
       "                        <td id=\"T_dae5c662_9592_11ec_89a4_0242ac110002row15_col14\" class=\"data row15 col14\" >0</td>\n",
       "                        <td id=\"T_dae5c662_9592_11ec_89a4_0242ac110002row15_col15\" class=\"data row15 col15\" >155</td>\n",
       "                        <td id=\"T_dae5c662_9592_11ec_89a4_0242ac110002row15_col16\" class=\"data row15 col16\" >3</td>\n",
       "                        <td id=\"T_dae5c662_9592_11ec_89a4_0242ac110002row15_col17\" class=\"data row15 col17\" >0</td>\n",
       "            </tr>\n",
       "            <tr>\n",
       "                        <th id=\"T_dae5c662_9592_11ec_89a4_0242ac110002level0_row16\" class=\"row_heading level0 row16\" >16</th>\n",
       "                        <td id=\"T_dae5c662_9592_11ec_89a4_0242ac110002row16_col0\" class=\"data row16 col0\" >0</td>\n",
       "                        <td id=\"T_dae5c662_9592_11ec_89a4_0242ac110002row16_col1\" class=\"data row16 col1\" >0</td>\n",
       "                        <td id=\"T_dae5c662_9592_11ec_89a4_0242ac110002row16_col2\" class=\"data row16 col2\" >0</td>\n",
       "                        <td id=\"T_dae5c662_9592_11ec_89a4_0242ac110002row16_col3\" class=\"data row16 col3\" >0</td>\n",
       "                        <td id=\"T_dae5c662_9592_11ec_89a4_0242ac110002row16_col4\" class=\"data row16 col4\" >0</td>\n",
       "                        <td id=\"T_dae5c662_9592_11ec_89a4_0242ac110002row16_col5\" class=\"data row16 col5\" >0</td>\n",
       "                        <td id=\"T_dae5c662_9592_11ec_89a4_0242ac110002row16_col6\" class=\"data row16 col6\" >0</td>\n",
       "                        <td id=\"T_dae5c662_9592_11ec_89a4_0242ac110002row16_col7\" class=\"data row16 col7\" >0</td>\n",
       "                        <td id=\"T_dae5c662_9592_11ec_89a4_0242ac110002row16_col8\" class=\"data row16 col8\" >0</td>\n",
       "                        <td id=\"T_dae5c662_9592_11ec_89a4_0242ac110002row16_col9\" class=\"data row16 col9\" >0</td>\n",
       "                        <td id=\"T_dae5c662_9592_11ec_89a4_0242ac110002row16_col10\" class=\"data row16 col10\" >0</td>\n",
       "                        <td id=\"T_dae5c662_9592_11ec_89a4_0242ac110002row16_col11\" class=\"data row16 col11\" >0</td>\n",
       "                        <td id=\"T_dae5c662_9592_11ec_89a4_0242ac110002row16_col12\" class=\"data row16 col12\" >0</td>\n",
       "                        <td id=\"T_dae5c662_9592_11ec_89a4_0242ac110002row16_col13\" class=\"data row16 col13\" >0</td>\n",
       "                        <td id=\"T_dae5c662_9592_11ec_89a4_0242ac110002row16_col14\" class=\"data row16 col14\" >0</td>\n",
       "                        <td id=\"T_dae5c662_9592_11ec_89a4_0242ac110002row16_col15\" class=\"data row16 col15\" >1</td>\n",
       "                        <td id=\"T_dae5c662_9592_11ec_89a4_0242ac110002row16_col16\" class=\"data row16 col16\" >182</td>\n",
       "                        <td id=\"T_dae5c662_9592_11ec_89a4_0242ac110002row16_col17\" class=\"data row16 col17\" >0</td>\n",
       "            </tr>\n",
       "            <tr>\n",
       "                        <th id=\"T_dae5c662_9592_11ec_89a4_0242ac110002level0_row17\" class=\"row_heading level0 row17\" >17</th>\n",
       "                        <td id=\"T_dae5c662_9592_11ec_89a4_0242ac110002row17_col0\" class=\"data row17 col0\" >0</td>\n",
       "                        <td id=\"T_dae5c662_9592_11ec_89a4_0242ac110002row17_col1\" class=\"data row17 col1\" >0</td>\n",
       "                        <td id=\"T_dae5c662_9592_11ec_89a4_0242ac110002row17_col2\" class=\"data row17 col2\" >0</td>\n",
       "                        <td id=\"T_dae5c662_9592_11ec_89a4_0242ac110002row17_col3\" class=\"data row17 col3\" >0</td>\n",
       "                        <td id=\"T_dae5c662_9592_11ec_89a4_0242ac110002row17_col4\" class=\"data row17 col4\" >0</td>\n",
       "                        <td id=\"T_dae5c662_9592_11ec_89a4_0242ac110002row17_col5\" class=\"data row17 col5\" >0</td>\n",
       "                        <td id=\"T_dae5c662_9592_11ec_89a4_0242ac110002row17_col6\" class=\"data row17 col6\" >0</td>\n",
       "                        <td id=\"T_dae5c662_9592_11ec_89a4_0242ac110002row17_col7\" class=\"data row17 col7\" >0</td>\n",
       "                        <td id=\"T_dae5c662_9592_11ec_89a4_0242ac110002row17_col8\" class=\"data row17 col8\" >0</td>\n",
       "                        <td id=\"T_dae5c662_9592_11ec_89a4_0242ac110002row17_col9\" class=\"data row17 col9\" >0</td>\n",
       "                        <td id=\"T_dae5c662_9592_11ec_89a4_0242ac110002row17_col10\" class=\"data row17 col10\" >0</td>\n",
       "                        <td id=\"T_dae5c662_9592_11ec_89a4_0242ac110002row17_col11\" class=\"data row17 col11\" >0</td>\n",
       "                        <td id=\"T_dae5c662_9592_11ec_89a4_0242ac110002row17_col12\" class=\"data row17 col12\" >0</td>\n",
       "                        <td id=\"T_dae5c662_9592_11ec_89a4_0242ac110002row17_col13\" class=\"data row17 col13\" >0</td>\n",
       "                        <td id=\"T_dae5c662_9592_11ec_89a4_0242ac110002row17_col14\" class=\"data row17 col14\" >1</td>\n",
       "                        <td id=\"T_dae5c662_9592_11ec_89a4_0242ac110002row17_col15\" class=\"data row17 col15\" >0</td>\n",
       "                        <td id=\"T_dae5c662_9592_11ec_89a4_0242ac110002row17_col16\" class=\"data row17 col16\" >3</td>\n",
       "                        <td id=\"T_dae5c662_9592_11ec_89a4_0242ac110002row17_col17\" class=\"data row17 col17\" >18</td>\n",
       "            </tr>\n",
       "    </tbody></table>"
      ],
      "text/plain": [
       "<pandas.io.formats.style.Styler at 0x7f65046227c0>"
      ]
     },
     "metadata": {},
     "output_type": "display_data"
    },
    {
     "name": "stdout",
     "output_type": "stream",
     "text": [
      "val fi : 0.9733794215178412, val acc: 0.9875661375661375 \n",
      "\n"
     ]
    }
   ],
   "source": [
    "val_predictions, val_targets = val_pred(model = model, data_loader = val_loader)\n",
    "\n",
    "val_f1 = get_f1_score(y_true = val_targets, y_pred = val_predictions)\n",
    "val_acc = get_acc_score(y_true = val_targets, y_pred = val_predictions)\n",
    "\n",
    "val_confusion_matrix = pd.DataFrame((confusion_matrix(y_true = val_targets, y_pred = val_predictions)))\n",
    "print(f'val confusion_matrix')\n",
    "display(val_confusion_matrix.style.background_gradient(cmap='YlOrRd', axis = 0))\n",
    "print(f'val fi : {val_f1}, val acc: {val_acc} \\n')"
   ]
  },
  {
   "cell_type": "markdown",
   "id": "08e8c2ad-0bd3-4421-8c07-c06d819238a3",
   "metadata": {},
   "source": [
    "## 제출 파일 생성"
   ]
  },
  {
   "cell_type": "code",
   "execution_count": 19,
   "id": "d3df5b40-9141-4641-9c20-6ec9623d5544",
   "metadata": {},
   "outputs": [
    {
     "name": "stdout",
     "output_type": "stream",
     "text": [
      "test inference is done!\n"
     ]
    }
   ],
   "source": [
    "# 제출할 파일을 저장합니다.\n",
    "submission.to_csv(os.path.join(submission_dir, 'regnet_y_400mf_pretrained.csv'), index=False)\n",
    "print('test inference is done!')"
   ]
  },
  {
   "cell_type": "code",
   "execution_count": 20,
   "id": "f218c845-7bb3-4334-9eaf-b3b4c13252c9",
   "metadata": {},
   "outputs": [
    {
     "data": {
      "text/html": [
       "<div>\n",
       "<style scoped>\n",
       "    .dataframe tbody tr th:only-of-type {\n",
       "        vertical-align: middle;\n",
       "    }\n",
       "\n",
       "    .dataframe tbody tr th {\n",
       "        vertical-align: top;\n",
       "    }\n",
       "\n",
       "    .dataframe thead th {\n",
       "        text-align: right;\n",
       "    }\n",
       "</style>\n",
       "<table border=\"1\" class=\"dataframe\">\n",
       "  <thead>\n",
       "    <tr style=\"text-align: right;\">\n",
       "      <th></th>\n",
       "      <th>ImageID</th>\n",
       "      <th>ans</th>\n",
       "    </tr>\n",
       "  </thead>\n",
       "  <tbody>\n",
       "    <tr>\n",
       "      <th>0</th>\n",
       "      <td>cbc5c6e168e63498590db46022617123f1fe1268.jpg</td>\n",
       "      <td>13</td>\n",
       "    </tr>\n",
       "    <tr>\n",
       "      <th>1</th>\n",
       "      <td>0e72482bf56b3581c081f7da2a6180b8792c7089.jpg</td>\n",
       "      <td>1</td>\n",
       "    </tr>\n",
       "    <tr>\n",
       "      <th>2</th>\n",
       "      <td>b549040c49190cedc41327748aeb197c1670f14d.jpg</td>\n",
       "      <td>13</td>\n",
       "    </tr>\n",
       "    <tr>\n",
       "      <th>3</th>\n",
       "      <td>4f9cb2a045c6d5b9e50ad3459ea7b791eb6e18bc.jpg</td>\n",
       "      <td>13</td>\n",
       "    </tr>\n",
       "    <tr>\n",
       "      <th>4</th>\n",
       "      <td>248428d9a4a5b6229a7081c32851b90cb8d38d0c.jpg</td>\n",
       "      <td>12</td>\n",
       "    </tr>\n",
       "  </tbody>\n",
       "</table>\n",
       "</div>"
      ],
      "text/plain": [
       "                                        ImageID  ans\n",
       "0  cbc5c6e168e63498590db46022617123f1fe1268.jpg   13\n",
       "1  0e72482bf56b3581c081f7da2a6180b8792c7089.jpg    1\n",
       "2  b549040c49190cedc41327748aeb197c1670f14d.jpg   13\n",
       "3  4f9cb2a045c6d5b9e50ad3459ea7b791eb6e18bc.jpg   13\n",
       "4  248428d9a4a5b6229a7081c32851b90cb8d38d0c.jpg   12"
      ]
     },
     "execution_count": 20,
     "metadata": {},
     "output_type": "execute_result"
    }
   ],
   "source": [
    "submission.head()"
   ]
  },
  {
   "cell_type": "code",
   "execution_count": null,
   "id": "04233024-211c-4869-9d25-ea2c6b01ffab",
   "metadata": {},
   "outputs": [],
   "source": []
  }
 ],
 "metadata": {
  "kernelspec": {
   "display_name": "Python 3",
   "language": "python",
   "name": "python3"
  },
  "language_info": {
   "codemirror_mode": {
    "name": "ipython",
    "version": 3
   },
   "file_extension": ".py",
   "mimetype": "text/x-python",
   "name": "python",
   "nbconvert_exporter": "python",
   "pygments_lexer": "ipython3",
   "version": "3.8.5"
  }
 },
 "nbformat": 4,
 "nbformat_minor": 5
}
