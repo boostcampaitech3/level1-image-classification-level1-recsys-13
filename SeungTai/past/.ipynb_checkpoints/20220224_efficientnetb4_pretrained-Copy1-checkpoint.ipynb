{
 "cells": [
  {
   "cell_type": "code",
   "execution_count": 1,
   "id": "2484966d-3666-4b58-89d6-de35384fe84e",
   "metadata": {},
   "outputs": [],
   "source": [
    "import os\n",
    "import pandas as pd\n",
    "import numpy as np\n",
    "import random\n",
    "import glob\n",
    "import shutil\n",
    "from PIL import Image\n",
    "from tqdm import tqdm\n",
    "\n",
    "# 모델 관련 모듈\n",
    "import torch\n",
    "import torch.nn as nn\n",
    "import torch.nn.functional as F\n",
    "import torch.backends.cudnn as cudnn\n",
    "import torch.optim as optim\n",
    "\n",
    "from torch.utils.data import Dataset, DataLoader\n",
    "from torchvision import transforms\n",
    "from torchvision.transforms import Resize, ToTensor, Normalize\n",
    "import torchvision.models as models\n",
    "\n",
    "from sklearn.model_selection import train_test_split\n",
    "from sklearn.model_selection import StratifiedKFold\n",
    "from sklearn.metrics import f1_score\n",
    "from sklearn.metrics import confusion_matrix\n",
    "from sklearn.metrics import accuracy_score"
   ]
  },
  {
   "cell_type": "code",
   "execution_count": 2,
   "id": "c5c62f87-667b-4136-abd8-5c31d716b50b",
   "metadata": {},
   "outputs": [],
   "source": [
    "# 경로 설정\n",
    "\n",
    "data_dir = '../input/data/train/'\n",
    "test_dir = '../input/data/eval/'\n",
    "submission_dir = './submission/'\n",
    "model_dir = './model/'\n",
    "image_data_dir = data_dir + 'images/'"
   ]
  },
  {
   "cell_type": "markdown",
   "id": "289d4d39-f938-408f-9c90-98d91617ea72",
   "metadata": {},
   "source": [
    "## Seed 고정"
   ]
  },
  {
   "cell_type": "code",
   "execution_count": 3,
   "id": "0ed7fa41-1010-4e33-b496-2593661e8a95",
   "metadata": {},
   "outputs": [],
   "source": [
    "'''\n",
    "정인식님 코드 참고\n",
    "\n",
    "'''\n",
    "\n",
    "random_seed = 42\n",
    "\n",
    "#pytorch의 random seed 고정\n",
    "\n",
    "torch.manual_seed(random_seed)\n",
    "\n",
    "# CuDNN 부분고정\n",
    "\n",
    "torch.backends.cudnn.deterministic = True # 고정하면 학습이 느려진다고 합니다.\n",
    "\n",
    "torch.backends.cudnn.benchmark = False\n",
    "\n",
    "# Numpy 부분\n",
    "\n",
    "np.random.seed(random_seed)\n",
    "\n",
    "# transforms에서 random 라이브러리를 사용하기 때문에 random 라이브러리를 불러서 고정\n",
    "\n",
    "random.seed(random_seed)\n",
    "\n",
    "# GPU 에서 사용하는 난수 생성 시드 고정\n",
    "\n",
    "torch.cuda.manual_seed(random_seed)"
   ]
  },
  {
   "cell_type": "markdown",
   "id": "8c25f72a-1358-4f70-a8cf-41fbfc63675a",
   "metadata": {},
   "source": [
    "## 데이터 전처리"
   ]
  },
  {
   "cell_type": "code",
   "execution_count": 4,
   "id": "6cd17fab-28a1-43c0-bda0-0e4572ef6e26",
   "metadata": {},
   "outputs": [],
   "source": [
    "train_df = pd.read_csv(data_dir + 'train.csv')\n",
    "submission = pd.read_csv(test_dir + 'info.csv')"
   ]
  },
  {
   "cell_type": "code",
   "execution_count": 5,
   "id": "bece0af8-cd0f-438e-a87e-91b1b975f4da",
   "metadata": {},
   "outputs": [
    {
     "name": "stderr",
     "output_type": "stream",
     "text": [
      "2700it [00:00, 2917.97it/s]\n"
     ]
    }
   ],
   "source": [
    "'''\n",
    "신규범님 코드 참고\n",
    "\n",
    "학습 데이터 구축\n",
    "'''\n",
    "def age_group(x):\n",
    "    if x < 30: return 0\n",
    "    elif x < 60: return 1\n",
    "    else: return 2\n",
    "\n",
    "\n",
    "df = []\n",
    "\n",
    "for idx, line in tqdm(enumerate(train_df.iloc)):\n",
    "    for file in list(os.listdir(os.path.join(image_data_dir, line['path']))):\n",
    "        if file[0] == '.':\n",
    "            continue\n",
    "        if file.split('.')[0] == 'normal':\n",
    "            mask = 2\n",
    "        elif file.split('.')[0] == 'incorrect_mask':\n",
    "            mask = 1\n",
    "        else:\n",
    "            mask = 0\n",
    "        gender = 0 if line['gender'] == 'male' else 1\n",
    "        data = {\n",
    "            'id' : line['id'],\n",
    "            'gender' : line['gender'],\n",
    "            'age_group' : age_group(line['age']),\n",
    "            'mask' : mask,\n",
    "            'path': os.path.join(image_data_dir, line['path'], file),\n",
    "            'label': mask * 6 + gender * 3 + age_group(line['age'])\n",
    "        }\n",
    "        df.append(data)\n",
    "\n",
    "df = pd.DataFrame(df)"
   ]
  },
  {
   "cell_type": "code",
   "execution_count": 6,
   "id": "be99e535-bfef-4ac0-b761-604da6aa2ce6",
   "metadata": {},
   "outputs": [],
   "source": [
    "'''\n",
    "데이터셋 분리\n",
    "'''\n",
    "\n",
    "train_idx, val_idx = train_test_split(df['label'], train_size = 0.8, random_state = 22, stratify = df['label'])\n",
    "                                      \n",
    "train_set, val_set = df.iloc[train_idx.index, :], df.iloc[val_idx.index, :]"
   ]
  },
  {
   "cell_type": "markdown",
   "id": "0a3f4bf2-13a5-42ac-a693-2d43d91186bd",
   "metadata": {},
   "source": [
    "## 데이터셋 구축"
   ]
  },
  {
   "cell_type": "code",
   "execution_count": 7,
   "id": "2fcd8690-6d91-4e99-8984-3872dc266bd9",
   "metadata": {},
   "outputs": [],
   "source": [
    "'''\n",
    "Sample_submission 코드 참고\n",
    "\n",
    "데이터 셋 구축\n",
    "'''\n",
    "\n",
    "class CustomDataset(Dataset):\n",
    "    def __init__(self, df, transform, train = True):\n",
    "        \n",
    "        image_dir = '../input/data/eval/images'\n",
    "        \n",
    "        self.train = train\n",
    "        self.df = df\n",
    "        if self.train:\n",
    "            self.img_paths = self.df['path'].tolist()\n",
    "            self.labels = self.df['label'].tolist()\n",
    "        else:\n",
    "            self.img_paths = [os.path.join(image_dir, img_id) for img_id in self.df.ImageID]\n",
    "        self.transform = transform\n",
    "\n",
    "    def __getitem__(self, index):\n",
    "        image = Image.open(self.img_paths[index])\n",
    "        if self.transform:\n",
    "            image = self.transform(image)\n",
    "            \n",
    "        if self.train: return image, torch.tensor(self.labels[index])\n",
    "        else: return image\n",
    "\n",
    "    def __len__(self):\n",
    "        return len(self.img_paths)"
   ]
  },
  {
   "cell_type": "markdown",
   "id": "7bd23ff4-e95a-4227-aa8d-e8abfd8089f4",
   "metadata": {},
   "source": [
    "## 학습 설정"
   ]
  },
  {
   "cell_type": "code",
   "execution_count": 8,
   "id": "1d4900c6-4f60-42f9-9b17-600560163d3d",
   "metadata": {},
   "outputs": [],
   "source": [
    "'''\n",
    "학습 함수 설정\n",
    "'''\n",
    "\n",
    "def train(model, data_loader, optimizer, scheduler, criterion):\n",
    "    model.train()\n",
    "    train_loss = 0\n",
    "    correct = 0\n",
    "    total = 0\n",
    "    f1 = 0\n",
    "    \n",
    "    for batch_idx, (images, targets) in enumerate(data_loader):\n",
    "        images, targets = images.to(device), targets.to(device)\n",
    "        optimizer.zero_grad()\n",
    "\n",
    "        benign_outputs = model(images)\n",
    "        loss = criterion(benign_outputs, targets)\n",
    "        loss.backward()\n",
    "\n",
    "        optimizer.step()\n",
    "        train_loss += loss.item()\n",
    "        _, predicted = benign_outputs.max(1)\n",
    "\n",
    "        total += targets.size(0)\n",
    "        correct += predicted.eq(targets).sum().item()\n",
    "        f1 += f1_score(targets.cpu().tolist(), predicted.cpu().tolist(), average='macro')\n",
    "        \n",
    "    train_loss /= len(data_loader)\n",
    "    acc = correct / total\n",
    "    f1 /= len(data_loader)\n",
    "    \n",
    "    scheduler.step(train_loss)\n",
    "    \n",
    "    return train_loss, acc, f1\n",
    "\n",
    "\n",
    "def val(model, data_loader, criterion):\n",
    "    model.eval()\n",
    "    val_loss = 0\n",
    "    correct = 0\n",
    "    total = 0\n",
    "    f1 = 0\n",
    "    \n",
    "    for batch_idx, (images, targets) in enumerate(data_loader):\n",
    "        with torch.no_grad():\n",
    "            images, targets = images.to(device), targets.to(device)\n",
    "            benign_outputs = model(images)\n",
    "            loss = criterion(benign_outputs, targets)\n",
    "            val_loss += loss.item()\n",
    "            _, predicted = benign_outputs.max(1)\n",
    "\n",
    "            total += targets.size(0)\n",
    "            correct += predicted.eq(targets).sum().item()\n",
    "            f1 += f1_score(targets.cpu().tolist(), predicted.cpu().tolist(), average='macro')\n",
    "    \n",
    "    val_loss /= len(data_loader)\n",
    "    acc = correct / total\n",
    "    f1 /= len(data_loader)\n",
    "    \n",
    "    return val_loss, acc, f1\n",
    "\n",
    "def pred(model, data_loader):\n",
    "    model.eval()\n",
    "    all_predictions = []\n",
    "    for images in data_loader:\n",
    "        with torch.no_grad():\n",
    "            images = images.to(device)\n",
    "            pred = model(images)\n",
    "            pred = pred.argmax(dim=-1)\n",
    "            all_predictions.extend(pred.cpu().numpy())\n",
    "            \n",
    "    return all_predictions"
   ]
  },
  {
   "cell_type": "code",
   "execution_count": 9,
   "id": "386d18c3-8ba8-4245-8745-8bf43f3b69b0",
   "metadata": {},
   "outputs": [],
   "source": [
    "'''\n",
    "학습 설정\n",
    "'''\n",
    "\n",
    "device = 'cuda' if torch.cuda.is_available() else 'cpu'\n",
    "lr = 0.001\n",
    "epochs = 30\n",
    "batch_size = 32"
   ]
  },
  {
   "cell_type": "markdown",
   "id": "c3e5b68e-746b-484e-bafd-34948e250d15",
   "metadata": {},
   "source": [
    "## 데이터 로더 생성"
   ]
  },
  {
   "cell_type": "code",
   "execution_count": 11,
   "id": "4eebb7b9-d491-4503-ad05-6026e3baacf4",
   "metadata": {},
   "outputs": [],
   "source": [
    "'''\n",
    "데이터 로더 생성\n",
    "'''\n",
    "\n",
    "transform = transforms.Compose([\n",
    "    ToTensor(),\n",
    "    Normalize(mean= (0.485, 0.456, 0.406), std=(0.229, 0.224, 0.225)),\n",
    "#     Resize((512, 384), Image.BILINEAR),\n",
    "    transforms.CenterCrop(384),\n",
    "])\n",
    "\n",
    "train_customset = CustomDataset(df = train_set, transform = transform, train = True)\n",
    "val_customset = CustomDataset(df = val_set, transform = transform, train = True)\n",
    "test_customset = CustomDataset(df = submission, transform = transform, train = False)\n",
    "\n",
    "train_loader = DataLoader(\n",
    "    train_customset,\n",
    "    batch_size = batch_size,\n",
    "    shuffle=True,\n",
    "    num_workers = 2,\n",
    ")\n",
    "\n",
    "val_loader = DataLoader(\n",
    "    val_customset,\n",
    "    batch_size = batch_size,\n",
    "    shuffle=True,\n",
    "    num_workers = 2,\n",
    ")\n",
    "\n",
    "test_loader = DataLoader(\n",
    "    test_customset,\n",
    "    batch_size = batch_size,\n",
    "    shuffle=False,\n",
    "    num_workers = 2,\n",
    ")"
   ]
  },
  {
   "cell_type": "code",
   "execution_count": 12,
   "id": "04b147b7-b5b8-4570-bc70-3c76925ff1a1",
   "metadata": {},
   "outputs": [],
   "source": [
    "'''\n",
    "모델 설정\n",
    "'''\n",
    "model = models.efficientnet_b4(pretrained=True).to(device)\n",
    "criterion = nn.CrossEntropyLoss()\n",
    "optimizer = optim.Adam(model.parameters(), lr=lr)\n",
    "scheduler = torch.optim.lr_scheduler.ReduceLROnPlateau(optimizer, 'min', factor = 0.1, eps = 1e-09, patience = 5)"
   ]
  },
  {
   "cell_type": "code",
   "execution_count": 13,
   "id": "3da605dd-8652-4fcd-b91e-7c207393a644",
   "metadata": {},
   "outputs": [
    {
     "data": {
      "text/plain": [
       "473"
      ]
     },
     "execution_count": 13,
     "metadata": {},
     "output_type": "execute_result"
    }
   ],
   "source": [
    "len(train_loader)"
   ]
  },
  {
   "cell_type": "code",
   "execution_count": 14,
   "id": "516e7a82-9341-4e90-8f04-dbd8340329f1",
   "metadata": {},
   "outputs": [],
   "source": [
    "in_features = model.classifier[1].in_features\n",
    "model.classifier[1] = torch.nn.Linear(in_features=in_features, out_features=18, bias=True).to(device)"
   ]
  },
  {
   "cell_type": "markdown",
   "id": "48452261-dba3-497e-b963-53bb3743f8fe",
   "metadata": {},
   "source": [
    "## 학습"
   ]
  },
  {
   "cell_type": "code",
   "execution_count": 15,
   "id": "d9471476-b22c-44a0-b381-c18e275d2ae9",
   "metadata": {
    "tags": []
   },
   "outputs": [
    {
     "name": "stderr",
     "output_type": "stream",
     "text": [
      "  0%|          | 0/30 [00:00<?, ?it/s]"
     ]
    },
    {
     "name": "stdout",
     "output_type": "stream",
     "text": [
      "epoch : 1, train_loss : 0.4630748694152207, train_acc : 0.8561507936507936, train_f1 : 0.7376025980282807, val_loss : 0.1454104917327396, val_acc : 0.9505291005291006, val_f1 : 0.9031116383941402\n"
     ]
    },
    {
     "name": "stderr",
     "output_type": "stream",
     "text": [
      "  3%|▎         | 1/30 [03:58<1:55:09, 238.25s/it]"
     ]
    },
    {
     "name": "stdout",
     "output_type": "stream",
     "text": [
      "epoch : 2, train_loss : 0.1137224898415659, train_acc : 0.966005291005291, train_f1 : 0.9239182745512692, val_loss : 0.06400423905686985, val_acc : 0.9740740740740741, val_f1 : 0.9460870702092535\n"
     ]
    },
    {
     "name": "stderr",
     "output_type": "stream",
     "text": [
      "  7%|▋         | 2/30 [07:56<1:51:14, 238.37s/it]"
     ]
    },
    {
     "name": "stdout",
     "output_type": "stream",
     "text": [
      "epoch : 3, train_loss : 0.06470129082651797, train_acc : 0.980489417989418, train_f1 : 0.9556539740734683, val_loss : 0.036105452697262355, val_acc : 0.9896825396825397, val_f1 : 0.9744374505262922\n"
     ]
    },
    {
     "name": "stderr",
     "output_type": "stream",
     "text": [
      " 10%|█         | 3/30 [11:57<1:47:34, 239.05s/it]"
     ]
    },
    {
     "name": "stdout",
     "output_type": "stream",
     "text": [
      "epoch : 4, train_loss : 0.04816412824195225, train_acc : 0.9845899470899471, train_f1 : 0.9671676837630345, val_loss : 0.019413226924798972, val_acc : 0.9939153439153439, val_f1 : 0.9844926233202586\n"
     ]
    },
    {
     "name": "stderr",
     "output_type": "stream",
     "text": [
      " 17%|█▋        | 5/30 [19:57<1:39:43, 239.33s/it]"
     ]
    },
    {
     "name": "stdout",
     "output_type": "stream",
     "text": [
      "epoch : 5, train_loss : 0.030378342807023683, train_acc : 0.9896825396825397, train_f1 : 0.9766961940462997, val_loss : 0.02707100200557058, val_acc : 0.9920634920634921, val_f1 : 0.9820825086624799\n"
     ]
    },
    {
     "name": "stderr",
     "output_type": "stream",
     "text": [
      " 20%|██        | 6/30 [23:56<1:35:41, 239.23s/it]"
     ]
    },
    {
     "name": "stdout",
     "output_type": "stream",
     "text": [
      "epoch : 6, train_loss : 0.03567004256195588, train_acc : 0.9893518518518518, train_f1 : 0.9765664471219906, val_loss : 0.027731977258500753, val_acc : 0.9902116402116402, val_f1 : 0.9739734311690149\n",
      "epoch : 7, train_loss : 0.02630565391388775, train_acc : 0.9913359788359788, train_f1 : 0.9828970529056675, val_loss : 0.01859568015959881, val_acc : 0.9931216931216931, val_f1 : 0.9913561625358516\n"
     ]
    },
    {
     "name": "stderr",
     "output_type": "stream",
     "text": [
      " 27%|██▋       | 8/30 [31:53<1:27:35, 238.89s/it]"
     ]
    },
    {
     "name": "stdout",
     "output_type": "stream",
     "text": [
      "epoch : 8, train_loss : 0.035740496064434135, train_acc : 0.9881613756613756, train_f1 : 0.977442662142177, val_loss : 0.031132675024623076, val_acc : 0.9899470899470899, val_f1 : 0.9747159157593703\n"
     ]
    },
    {
     "name": "stderr",
     "output_type": "stream",
     "text": [
      " 30%|███       | 9/30 [35:52<1:23:38, 238.99s/it]"
     ]
    },
    {
     "name": "stdout",
     "output_type": "stream",
     "text": [
      "epoch : 9, train_loss : 0.02042798390284665, train_acc : 0.9939153439153439, train_f1 : 0.9884873811389363, val_loss : 0.029366648566701004, val_acc : 0.9928571428571429, val_f1 : 0.984090250354574\n"
     ]
    },
    {
     "name": "stderr",
     "output_type": "stream",
     "text": [
      " 33%|███▎      | 10/30 [39:50<1:19:35, 238.75s/it]"
     ]
    },
    {
     "name": "stdout",
     "output_type": "stream",
     "text": [
      "epoch : 10, train_loss : 0.01778548542369156, train_acc : 0.9960978835978836, train_f1 : 0.9898456680062542, val_loss : 0.023337593445601577, val_acc : 0.9944444444444445, val_f1 : 0.9882493326269497\n"
     ]
    },
    {
     "name": "stderr",
     "output_type": "stream",
     "text": [
      " 37%|███▋      | 11/30 [43:48<1:15:31, 238.49s/it]"
     ]
    },
    {
     "name": "stdout",
     "output_type": "stream",
     "text": [
      "epoch : 11, train_loss : 0.019000042133149812, train_acc : 0.9947089947089947, train_f1 : 0.9901044884478085, val_loss : 0.027123041611399962, val_acc : 0.9925925925925926, val_f1 : 0.9850408906994014\n"
     ]
    },
    {
     "name": "stderr",
     "output_type": "stream",
     "text": [
      " 37%|███▋      | 11/30 [47:48<1:22:34, 260.74s/it]"
     ]
    },
    {
     "name": "stdout",
     "output_type": "stream",
     "text": [
      "epoch : 12, train_loss : 0.019827728649752952, train_acc : 0.9943783068783069, train_f1 : 0.9886766768482845, val_loss : 0.03604155868996706, val_acc : 0.9904761904761905, val_f1 : 0.9810101533194809\n",
      "early_stopping\n"
     ]
    },
    {
     "name": "stderr",
     "output_type": "stream",
     "text": [
      "\n"
     ]
    }
   ],
   "source": [
    "torch.cuda.empty_cache()\n",
    "min_val_loss = float(\"inf\")\n",
    "early_stopping_count = 0\n",
    "\n",
    "for epoch in tqdm(range(1, epochs + 1)):\n",
    "    train_loss, train_acc, train_f1 = train(model = model, data_loader = train_loader, optimizer = optimizer, scheduler = scheduler, criterion = criterion)\n",
    "    val_loss, val_acc, val_f1 = val(model = model, data_loader = val_loader, criterion = criterion)\n",
    "    \n",
    "    print(f'epoch : {epoch}, train_loss : {train_loss}, train_acc : {train_acc}, train_f1 : {train_f1}, val_loss : {val_loss}, val_acc : {val_acc}, val_f1 : {val_f1}')\n",
    "    \n",
    "    # 모델 저장\n",
    "    if val_loss < min_val_loss:\n",
    "        min_val_loss = val_loss\n",
    "        torch.save(model.state_dict(), model_dir + f'best_efficientnet_b4.pt')\n",
    "        early_stopping_count = 0\n",
    "    else:\n",
    "        early_stopping_count += 1\n",
    "        if early_stopping_count == 5:\n",
    "            print('early_stopping')\n",
    "            break"
   ]
  },
  {
   "cell_type": "code",
   "execution_count": 16,
   "id": "5aee7b39-b5bb-4df9-a4c1-03723c0189e7",
   "metadata": {},
   "outputs": [
    {
     "data": {
      "text/plain": [
       "<All keys matched successfully>"
      ]
     },
     "execution_count": 16,
     "metadata": {},
     "output_type": "execute_result"
    }
   ],
   "source": [
    "model = models.efficientnet_b4(pretrained=False).to(device)\n",
    "in_features = model.classifier[1].in_features\n",
    "model.classifier[1] = torch.nn.Linear(in_features=in_features, out_features=18, bias=True).to(device)\n",
    "model.load_state_dict(torch.load(model_dir + f'best_efficientnet_b4.pt', map_location = device))"
   ]
  },
  {
   "cell_type": "markdown",
   "id": "46c59ac7-00f9-4d76-949e-08d27c65c5fa",
   "metadata": {},
   "source": [
    "## 예측"
   ]
  },
  {
   "cell_type": "code",
   "execution_count": 17,
   "id": "283014b4-8e99-4e47-8d3f-c1797c03128f",
   "metadata": {},
   "outputs": [],
   "source": [
    "# 모델이 테스트 데이터셋을 예측하고 결과를 저장합니다.\n",
    "all_predictions = pred(model = model, data_loader = test_loader)\n",
    "submission['ans'] = all_predictions"
   ]
  },
  {
   "cell_type": "code",
   "execution_count": 18,
   "id": "4bcbca1b-c238-4f10-bb42-7ba36fe25de5",
   "metadata": {},
   "outputs": [],
   "source": [
    "def get_f1_score(y_true, y_pred):\n",
    "    return f1_score(y_true, y_pred, average='macro')\n",
    "\n",
    "def get_acc_score(y_true, y_pred):\n",
    "    return accuracy_score(y_true, y_pred)\n",
    "\n",
    "\n",
    "def val_pred(model, data_loader):\n",
    "    model.eval()\n",
    "    all_predictions = []\n",
    "    all_targets = []\n",
    "    for (images, targets) in data_loader:\n",
    "        with torch.no_grad():\n",
    "            images, targets = images.to(device), targets.to(device)\n",
    "            pred = model(images)\n",
    "            pred = pred.argmax(dim=-1)\n",
    "            all_predictions.extend(pred.cpu().numpy())\n",
    "            all_targets.extend(targets.cpu().numpy())\n",
    "            \n",
    "    return all_predictions, all_targets"
   ]
  },
  {
   "cell_type": "markdown",
   "id": "8b4196b7-7f40-436d-9877-df13109b8bdf",
   "metadata": {},
   "source": [
    "## confusion matrix"
   ]
  },
  {
   "cell_type": "code",
   "execution_count": 19,
   "id": "7c14c540-0708-4193-bb26-c5e03d2f4b0e",
   "metadata": {},
   "outputs": [
    {
     "name": "stdout",
     "output_type": "stream",
     "text": [
      "val confusion_matrix\n"
     ]
    },
    {
     "data": {
      "text/html": [
       "<style  type=\"text/css\" >\n",
       "#T_70a3fb70_9579_11ec_9c16_0242ac110002row0_col0,#T_70a3fb70_9579_11ec_9c16_0242ac110002row1_col1,#T_70a3fb70_9579_11ec_9c16_0242ac110002row2_col2,#T_70a3fb70_9579_11ec_9c16_0242ac110002row3_col3,#T_70a3fb70_9579_11ec_9c16_0242ac110002row4_col4,#T_70a3fb70_9579_11ec_9c16_0242ac110002row5_col5,#T_70a3fb70_9579_11ec_9c16_0242ac110002row6_col6,#T_70a3fb70_9579_11ec_9c16_0242ac110002row7_col7,#T_70a3fb70_9579_11ec_9c16_0242ac110002row8_col8,#T_70a3fb70_9579_11ec_9c16_0242ac110002row9_col9,#T_70a3fb70_9579_11ec_9c16_0242ac110002row10_col10,#T_70a3fb70_9579_11ec_9c16_0242ac110002row11_col11,#T_70a3fb70_9579_11ec_9c16_0242ac110002row12_col12,#T_70a3fb70_9579_11ec_9c16_0242ac110002row13_col13,#T_70a3fb70_9579_11ec_9c16_0242ac110002row14_col14,#T_70a3fb70_9579_11ec_9c16_0242ac110002row15_col15,#T_70a3fb70_9579_11ec_9c16_0242ac110002row16_col16,#T_70a3fb70_9579_11ec_9c16_0242ac110002row17_col17{\n",
       "            background-color:  #800026;\n",
       "            color:  #f1f1f1;\n",
       "        }#T_70a3fb70_9579_11ec_9c16_0242ac110002row0_col1,#T_70a3fb70_9579_11ec_9c16_0242ac110002row0_col2,#T_70a3fb70_9579_11ec_9c16_0242ac110002row0_col3,#T_70a3fb70_9579_11ec_9c16_0242ac110002row0_col4,#T_70a3fb70_9579_11ec_9c16_0242ac110002row0_col5,#T_70a3fb70_9579_11ec_9c16_0242ac110002row0_col6,#T_70a3fb70_9579_11ec_9c16_0242ac110002row0_col7,#T_70a3fb70_9579_11ec_9c16_0242ac110002row0_col8,#T_70a3fb70_9579_11ec_9c16_0242ac110002row0_col9,#T_70a3fb70_9579_11ec_9c16_0242ac110002row0_col10,#T_70a3fb70_9579_11ec_9c16_0242ac110002row0_col11,#T_70a3fb70_9579_11ec_9c16_0242ac110002row0_col12,#T_70a3fb70_9579_11ec_9c16_0242ac110002row0_col13,#T_70a3fb70_9579_11ec_9c16_0242ac110002row0_col14,#T_70a3fb70_9579_11ec_9c16_0242ac110002row0_col15,#T_70a3fb70_9579_11ec_9c16_0242ac110002row0_col16,#T_70a3fb70_9579_11ec_9c16_0242ac110002row0_col17,#T_70a3fb70_9579_11ec_9c16_0242ac110002row1_col0,#T_70a3fb70_9579_11ec_9c16_0242ac110002row1_col2,#T_70a3fb70_9579_11ec_9c16_0242ac110002row1_col3,#T_70a3fb70_9579_11ec_9c16_0242ac110002row1_col4,#T_70a3fb70_9579_11ec_9c16_0242ac110002row1_col5,#T_70a3fb70_9579_11ec_9c16_0242ac110002row1_col6,#T_70a3fb70_9579_11ec_9c16_0242ac110002row1_col7,#T_70a3fb70_9579_11ec_9c16_0242ac110002row1_col8,#T_70a3fb70_9579_11ec_9c16_0242ac110002row1_col9,#T_70a3fb70_9579_11ec_9c16_0242ac110002row1_col10,#T_70a3fb70_9579_11ec_9c16_0242ac110002row1_col11,#T_70a3fb70_9579_11ec_9c16_0242ac110002row1_col12,#T_70a3fb70_9579_11ec_9c16_0242ac110002row1_col13,#T_70a3fb70_9579_11ec_9c16_0242ac110002row1_col14,#T_70a3fb70_9579_11ec_9c16_0242ac110002row1_col15,#T_70a3fb70_9579_11ec_9c16_0242ac110002row1_col16,#T_70a3fb70_9579_11ec_9c16_0242ac110002row1_col17,#T_70a3fb70_9579_11ec_9c16_0242ac110002row2_col0,#T_70a3fb70_9579_11ec_9c16_0242ac110002row2_col3,#T_70a3fb70_9579_11ec_9c16_0242ac110002row2_col4,#T_70a3fb70_9579_11ec_9c16_0242ac110002row2_col5,#T_70a3fb70_9579_11ec_9c16_0242ac110002row2_col6,#T_70a3fb70_9579_11ec_9c16_0242ac110002row2_col7,#T_70a3fb70_9579_11ec_9c16_0242ac110002row2_col8,#T_70a3fb70_9579_11ec_9c16_0242ac110002row2_col9,#T_70a3fb70_9579_11ec_9c16_0242ac110002row2_col10,#T_70a3fb70_9579_11ec_9c16_0242ac110002row2_col11,#T_70a3fb70_9579_11ec_9c16_0242ac110002row2_col12,#T_70a3fb70_9579_11ec_9c16_0242ac110002row2_col13,#T_70a3fb70_9579_11ec_9c16_0242ac110002row2_col14,#T_70a3fb70_9579_11ec_9c16_0242ac110002row2_col15,#T_70a3fb70_9579_11ec_9c16_0242ac110002row2_col16,#T_70a3fb70_9579_11ec_9c16_0242ac110002row2_col17,#T_70a3fb70_9579_11ec_9c16_0242ac110002row3_col0,#T_70a3fb70_9579_11ec_9c16_0242ac110002row3_col1,#T_70a3fb70_9579_11ec_9c16_0242ac110002row3_col2,#T_70a3fb70_9579_11ec_9c16_0242ac110002row3_col4,#T_70a3fb70_9579_11ec_9c16_0242ac110002row3_col5,#T_70a3fb70_9579_11ec_9c16_0242ac110002row3_col6,#T_70a3fb70_9579_11ec_9c16_0242ac110002row3_col7,#T_70a3fb70_9579_11ec_9c16_0242ac110002row3_col8,#T_70a3fb70_9579_11ec_9c16_0242ac110002row3_col9,#T_70a3fb70_9579_11ec_9c16_0242ac110002row3_col10,#T_70a3fb70_9579_11ec_9c16_0242ac110002row3_col11,#T_70a3fb70_9579_11ec_9c16_0242ac110002row3_col12,#T_70a3fb70_9579_11ec_9c16_0242ac110002row3_col13,#T_70a3fb70_9579_11ec_9c16_0242ac110002row3_col14,#T_70a3fb70_9579_11ec_9c16_0242ac110002row3_col15,#T_70a3fb70_9579_11ec_9c16_0242ac110002row3_col16,#T_70a3fb70_9579_11ec_9c16_0242ac110002row3_col17,#T_70a3fb70_9579_11ec_9c16_0242ac110002row4_col1,#T_70a3fb70_9579_11ec_9c16_0242ac110002row4_col2,#T_70a3fb70_9579_11ec_9c16_0242ac110002row4_col3,#T_70a3fb70_9579_11ec_9c16_0242ac110002row4_col5,#T_70a3fb70_9579_11ec_9c16_0242ac110002row4_col6,#T_70a3fb70_9579_11ec_9c16_0242ac110002row4_col7,#T_70a3fb70_9579_11ec_9c16_0242ac110002row4_col8,#T_70a3fb70_9579_11ec_9c16_0242ac110002row4_col9,#T_70a3fb70_9579_11ec_9c16_0242ac110002row4_col10,#T_70a3fb70_9579_11ec_9c16_0242ac110002row4_col11,#T_70a3fb70_9579_11ec_9c16_0242ac110002row4_col12,#T_70a3fb70_9579_11ec_9c16_0242ac110002row4_col13,#T_70a3fb70_9579_11ec_9c16_0242ac110002row4_col14,#T_70a3fb70_9579_11ec_9c16_0242ac110002row4_col15,#T_70a3fb70_9579_11ec_9c16_0242ac110002row4_col16,#T_70a3fb70_9579_11ec_9c16_0242ac110002row4_col17,#T_70a3fb70_9579_11ec_9c16_0242ac110002row5_col0,#T_70a3fb70_9579_11ec_9c16_0242ac110002row5_col1,#T_70a3fb70_9579_11ec_9c16_0242ac110002row5_col2,#T_70a3fb70_9579_11ec_9c16_0242ac110002row5_col3,#T_70a3fb70_9579_11ec_9c16_0242ac110002row5_col4,#T_70a3fb70_9579_11ec_9c16_0242ac110002row5_col6,#T_70a3fb70_9579_11ec_9c16_0242ac110002row5_col7,#T_70a3fb70_9579_11ec_9c16_0242ac110002row5_col8,#T_70a3fb70_9579_11ec_9c16_0242ac110002row5_col9,#T_70a3fb70_9579_11ec_9c16_0242ac110002row5_col10,#T_70a3fb70_9579_11ec_9c16_0242ac110002row5_col11,#T_70a3fb70_9579_11ec_9c16_0242ac110002row5_col12,#T_70a3fb70_9579_11ec_9c16_0242ac110002row5_col13,#T_70a3fb70_9579_11ec_9c16_0242ac110002row5_col14,#T_70a3fb70_9579_11ec_9c16_0242ac110002row5_col15,#T_70a3fb70_9579_11ec_9c16_0242ac110002row5_col16,#T_70a3fb70_9579_11ec_9c16_0242ac110002row5_col17,#T_70a3fb70_9579_11ec_9c16_0242ac110002row6_col0,#T_70a3fb70_9579_11ec_9c16_0242ac110002row6_col1,#T_70a3fb70_9579_11ec_9c16_0242ac110002row6_col2,#T_70a3fb70_9579_11ec_9c16_0242ac110002row6_col3,#T_70a3fb70_9579_11ec_9c16_0242ac110002row6_col4,#T_70a3fb70_9579_11ec_9c16_0242ac110002row6_col5,#T_70a3fb70_9579_11ec_9c16_0242ac110002row6_col7,#T_70a3fb70_9579_11ec_9c16_0242ac110002row6_col8,#T_70a3fb70_9579_11ec_9c16_0242ac110002row6_col9,#T_70a3fb70_9579_11ec_9c16_0242ac110002row6_col10,#T_70a3fb70_9579_11ec_9c16_0242ac110002row6_col11,#T_70a3fb70_9579_11ec_9c16_0242ac110002row6_col12,#T_70a3fb70_9579_11ec_9c16_0242ac110002row6_col13,#T_70a3fb70_9579_11ec_9c16_0242ac110002row6_col14,#T_70a3fb70_9579_11ec_9c16_0242ac110002row6_col15,#T_70a3fb70_9579_11ec_9c16_0242ac110002row6_col16,#T_70a3fb70_9579_11ec_9c16_0242ac110002row6_col17,#T_70a3fb70_9579_11ec_9c16_0242ac110002row7_col0,#T_70a3fb70_9579_11ec_9c16_0242ac110002row7_col1,#T_70a3fb70_9579_11ec_9c16_0242ac110002row7_col2,#T_70a3fb70_9579_11ec_9c16_0242ac110002row7_col3,#T_70a3fb70_9579_11ec_9c16_0242ac110002row7_col4,#T_70a3fb70_9579_11ec_9c16_0242ac110002row7_col5,#T_70a3fb70_9579_11ec_9c16_0242ac110002row7_col6,#T_70a3fb70_9579_11ec_9c16_0242ac110002row7_col8,#T_70a3fb70_9579_11ec_9c16_0242ac110002row7_col9,#T_70a3fb70_9579_11ec_9c16_0242ac110002row7_col10,#T_70a3fb70_9579_11ec_9c16_0242ac110002row7_col11,#T_70a3fb70_9579_11ec_9c16_0242ac110002row7_col12,#T_70a3fb70_9579_11ec_9c16_0242ac110002row7_col13,#T_70a3fb70_9579_11ec_9c16_0242ac110002row7_col14,#T_70a3fb70_9579_11ec_9c16_0242ac110002row7_col15,#T_70a3fb70_9579_11ec_9c16_0242ac110002row7_col16,#T_70a3fb70_9579_11ec_9c16_0242ac110002row7_col17,#T_70a3fb70_9579_11ec_9c16_0242ac110002row8_col0,#T_70a3fb70_9579_11ec_9c16_0242ac110002row8_col1,#T_70a3fb70_9579_11ec_9c16_0242ac110002row8_col2,#T_70a3fb70_9579_11ec_9c16_0242ac110002row8_col3,#T_70a3fb70_9579_11ec_9c16_0242ac110002row8_col4,#T_70a3fb70_9579_11ec_9c16_0242ac110002row8_col5,#T_70a3fb70_9579_11ec_9c16_0242ac110002row8_col6,#T_70a3fb70_9579_11ec_9c16_0242ac110002row8_col7,#T_70a3fb70_9579_11ec_9c16_0242ac110002row8_col9,#T_70a3fb70_9579_11ec_9c16_0242ac110002row8_col10,#T_70a3fb70_9579_11ec_9c16_0242ac110002row8_col11,#T_70a3fb70_9579_11ec_9c16_0242ac110002row8_col12,#T_70a3fb70_9579_11ec_9c16_0242ac110002row8_col13,#T_70a3fb70_9579_11ec_9c16_0242ac110002row8_col14,#T_70a3fb70_9579_11ec_9c16_0242ac110002row8_col15,#T_70a3fb70_9579_11ec_9c16_0242ac110002row8_col16,#T_70a3fb70_9579_11ec_9c16_0242ac110002row8_col17,#T_70a3fb70_9579_11ec_9c16_0242ac110002row9_col0,#T_70a3fb70_9579_11ec_9c16_0242ac110002row9_col1,#T_70a3fb70_9579_11ec_9c16_0242ac110002row9_col2,#T_70a3fb70_9579_11ec_9c16_0242ac110002row9_col3,#T_70a3fb70_9579_11ec_9c16_0242ac110002row9_col4,#T_70a3fb70_9579_11ec_9c16_0242ac110002row9_col5,#T_70a3fb70_9579_11ec_9c16_0242ac110002row9_col7,#T_70a3fb70_9579_11ec_9c16_0242ac110002row9_col8,#T_70a3fb70_9579_11ec_9c16_0242ac110002row9_col10,#T_70a3fb70_9579_11ec_9c16_0242ac110002row9_col11,#T_70a3fb70_9579_11ec_9c16_0242ac110002row9_col12,#T_70a3fb70_9579_11ec_9c16_0242ac110002row9_col13,#T_70a3fb70_9579_11ec_9c16_0242ac110002row9_col14,#T_70a3fb70_9579_11ec_9c16_0242ac110002row9_col15,#T_70a3fb70_9579_11ec_9c16_0242ac110002row9_col16,#T_70a3fb70_9579_11ec_9c16_0242ac110002row9_col17,#T_70a3fb70_9579_11ec_9c16_0242ac110002row10_col0,#T_70a3fb70_9579_11ec_9c16_0242ac110002row10_col1,#T_70a3fb70_9579_11ec_9c16_0242ac110002row10_col2,#T_70a3fb70_9579_11ec_9c16_0242ac110002row10_col3,#T_70a3fb70_9579_11ec_9c16_0242ac110002row10_col4,#T_70a3fb70_9579_11ec_9c16_0242ac110002row10_col5,#T_70a3fb70_9579_11ec_9c16_0242ac110002row10_col6,#T_70a3fb70_9579_11ec_9c16_0242ac110002row10_col8,#T_70a3fb70_9579_11ec_9c16_0242ac110002row10_col12,#T_70a3fb70_9579_11ec_9c16_0242ac110002row10_col13,#T_70a3fb70_9579_11ec_9c16_0242ac110002row10_col14,#T_70a3fb70_9579_11ec_9c16_0242ac110002row10_col15,#T_70a3fb70_9579_11ec_9c16_0242ac110002row10_col16,#T_70a3fb70_9579_11ec_9c16_0242ac110002row10_col17,#T_70a3fb70_9579_11ec_9c16_0242ac110002row11_col0,#T_70a3fb70_9579_11ec_9c16_0242ac110002row11_col1,#T_70a3fb70_9579_11ec_9c16_0242ac110002row11_col2,#T_70a3fb70_9579_11ec_9c16_0242ac110002row11_col3,#T_70a3fb70_9579_11ec_9c16_0242ac110002row11_col4,#T_70a3fb70_9579_11ec_9c16_0242ac110002row11_col5,#T_70a3fb70_9579_11ec_9c16_0242ac110002row11_col6,#T_70a3fb70_9579_11ec_9c16_0242ac110002row11_col7,#T_70a3fb70_9579_11ec_9c16_0242ac110002row11_col8,#T_70a3fb70_9579_11ec_9c16_0242ac110002row11_col9,#T_70a3fb70_9579_11ec_9c16_0242ac110002row11_col10,#T_70a3fb70_9579_11ec_9c16_0242ac110002row11_col12,#T_70a3fb70_9579_11ec_9c16_0242ac110002row11_col13,#T_70a3fb70_9579_11ec_9c16_0242ac110002row11_col14,#T_70a3fb70_9579_11ec_9c16_0242ac110002row11_col15,#T_70a3fb70_9579_11ec_9c16_0242ac110002row11_col16,#T_70a3fb70_9579_11ec_9c16_0242ac110002row11_col17,#T_70a3fb70_9579_11ec_9c16_0242ac110002row12_col0,#T_70a3fb70_9579_11ec_9c16_0242ac110002row12_col1,#T_70a3fb70_9579_11ec_9c16_0242ac110002row12_col2,#T_70a3fb70_9579_11ec_9c16_0242ac110002row12_col3,#T_70a3fb70_9579_11ec_9c16_0242ac110002row12_col4,#T_70a3fb70_9579_11ec_9c16_0242ac110002row12_col5,#T_70a3fb70_9579_11ec_9c16_0242ac110002row12_col6,#T_70a3fb70_9579_11ec_9c16_0242ac110002row12_col7,#T_70a3fb70_9579_11ec_9c16_0242ac110002row12_col8,#T_70a3fb70_9579_11ec_9c16_0242ac110002row12_col9,#T_70a3fb70_9579_11ec_9c16_0242ac110002row12_col10,#T_70a3fb70_9579_11ec_9c16_0242ac110002row12_col11,#T_70a3fb70_9579_11ec_9c16_0242ac110002row12_col13,#T_70a3fb70_9579_11ec_9c16_0242ac110002row12_col14,#T_70a3fb70_9579_11ec_9c16_0242ac110002row12_col15,#T_70a3fb70_9579_11ec_9c16_0242ac110002row12_col16,#T_70a3fb70_9579_11ec_9c16_0242ac110002row12_col17,#T_70a3fb70_9579_11ec_9c16_0242ac110002row13_col0,#T_70a3fb70_9579_11ec_9c16_0242ac110002row13_col1,#T_70a3fb70_9579_11ec_9c16_0242ac110002row13_col2,#T_70a3fb70_9579_11ec_9c16_0242ac110002row13_col3,#T_70a3fb70_9579_11ec_9c16_0242ac110002row13_col4,#T_70a3fb70_9579_11ec_9c16_0242ac110002row13_col5,#T_70a3fb70_9579_11ec_9c16_0242ac110002row13_col6,#T_70a3fb70_9579_11ec_9c16_0242ac110002row13_col7,#T_70a3fb70_9579_11ec_9c16_0242ac110002row13_col8,#T_70a3fb70_9579_11ec_9c16_0242ac110002row13_col9,#T_70a3fb70_9579_11ec_9c16_0242ac110002row13_col10,#T_70a3fb70_9579_11ec_9c16_0242ac110002row13_col11,#T_70a3fb70_9579_11ec_9c16_0242ac110002row13_col12,#T_70a3fb70_9579_11ec_9c16_0242ac110002row13_col14,#T_70a3fb70_9579_11ec_9c16_0242ac110002row13_col15,#T_70a3fb70_9579_11ec_9c16_0242ac110002row13_col16,#T_70a3fb70_9579_11ec_9c16_0242ac110002row13_col17,#T_70a3fb70_9579_11ec_9c16_0242ac110002row14_col0,#T_70a3fb70_9579_11ec_9c16_0242ac110002row14_col1,#T_70a3fb70_9579_11ec_9c16_0242ac110002row14_col2,#T_70a3fb70_9579_11ec_9c16_0242ac110002row14_col3,#T_70a3fb70_9579_11ec_9c16_0242ac110002row14_col4,#T_70a3fb70_9579_11ec_9c16_0242ac110002row14_col5,#T_70a3fb70_9579_11ec_9c16_0242ac110002row14_col6,#T_70a3fb70_9579_11ec_9c16_0242ac110002row14_col7,#T_70a3fb70_9579_11ec_9c16_0242ac110002row14_col8,#T_70a3fb70_9579_11ec_9c16_0242ac110002row14_col9,#T_70a3fb70_9579_11ec_9c16_0242ac110002row14_col10,#T_70a3fb70_9579_11ec_9c16_0242ac110002row14_col11,#T_70a3fb70_9579_11ec_9c16_0242ac110002row14_col12,#T_70a3fb70_9579_11ec_9c16_0242ac110002row14_col13,#T_70a3fb70_9579_11ec_9c16_0242ac110002row14_col15,#T_70a3fb70_9579_11ec_9c16_0242ac110002row14_col16,#T_70a3fb70_9579_11ec_9c16_0242ac110002row14_col17,#T_70a3fb70_9579_11ec_9c16_0242ac110002row15_col0,#T_70a3fb70_9579_11ec_9c16_0242ac110002row15_col1,#T_70a3fb70_9579_11ec_9c16_0242ac110002row15_col2,#T_70a3fb70_9579_11ec_9c16_0242ac110002row15_col3,#T_70a3fb70_9579_11ec_9c16_0242ac110002row15_col4,#T_70a3fb70_9579_11ec_9c16_0242ac110002row15_col5,#T_70a3fb70_9579_11ec_9c16_0242ac110002row15_col6,#T_70a3fb70_9579_11ec_9c16_0242ac110002row15_col7,#T_70a3fb70_9579_11ec_9c16_0242ac110002row15_col8,#T_70a3fb70_9579_11ec_9c16_0242ac110002row15_col9,#T_70a3fb70_9579_11ec_9c16_0242ac110002row15_col10,#T_70a3fb70_9579_11ec_9c16_0242ac110002row15_col11,#T_70a3fb70_9579_11ec_9c16_0242ac110002row15_col12,#T_70a3fb70_9579_11ec_9c16_0242ac110002row15_col13,#T_70a3fb70_9579_11ec_9c16_0242ac110002row15_col14,#T_70a3fb70_9579_11ec_9c16_0242ac110002row15_col16,#T_70a3fb70_9579_11ec_9c16_0242ac110002row15_col17,#T_70a3fb70_9579_11ec_9c16_0242ac110002row16_col0,#T_70a3fb70_9579_11ec_9c16_0242ac110002row16_col1,#T_70a3fb70_9579_11ec_9c16_0242ac110002row16_col2,#T_70a3fb70_9579_11ec_9c16_0242ac110002row16_col3,#T_70a3fb70_9579_11ec_9c16_0242ac110002row16_col4,#T_70a3fb70_9579_11ec_9c16_0242ac110002row16_col5,#T_70a3fb70_9579_11ec_9c16_0242ac110002row16_col6,#T_70a3fb70_9579_11ec_9c16_0242ac110002row16_col7,#T_70a3fb70_9579_11ec_9c16_0242ac110002row16_col8,#T_70a3fb70_9579_11ec_9c16_0242ac110002row16_col9,#T_70a3fb70_9579_11ec_9c16_0242ac110002row16_col10,#T_70a3fb70_9579_11ec_9c16_0242ac110002row16_col11,#T_70a3fb70_9579_11ec_9c16_0242ac110002row16_col12,#T_70a3fb70_9579_11ec_9c16_0242ac110002row16_col13,#T_70a3fb70_9579_11ec_9c16_0242ac110002row16_col14,#T_70a3fb70_9579_11ec_9c16_0242ac110002row16_col17,#T_70a3fb70_9579_11ec_9c16_0242ac110002row17_col0,#T_70a3fb70_9579_11ec_9c16_0242ac110002row17_col1,#T_70a3fb70_9579_11ec_9c16_0242ac110002row17_col2,#T_70a3fb70_9579_11ec_9c16_0242ac110002row17_col3,#T_70a3fb70_9579_11ec_9c16_0242ac110002row17_col4,#T_70a3fb70_9579_11ec_9c16_0242ac110002row17_col5,#T_70a3fb70_9579_11ec_9c16_0242ac110002row17_col6,#T_70a3fb70_9579_11ec_9c16_0242ac110002row17_col7,#T_70a3fb70_9579_11ec_9c16_0242ac110002row17_col8,#T_70a3fb70_9579_11ec_9c16_0242ac110002row17_col9,#T_70a3fb70_9579_11ec_9c16_0242ac110002row17_col10,#T_70a3fb70_9579_11ec_9c16_0242ac110002row17_col11,#T_70a3fb70_9579_11ec_9c16_0242ac110002row17_col12,#T_70a3fb70_9579_11ec_9c16_0242ac110002row17_col13,#T_70a3fb70_9579_11ec_9c16_0242ac110002row17_col14,#T_70a3fb70_9579_11ec_9c16_0242ac110002row17_col15{\n",
       "            background-color:  #ffffcc;\n",
       "            color:  #000000;\n",
       "        }#T_70a3fb70_9579_11ec_9c16_0242ac110002row2_col1,#T_70a3fb70_9579_11ec_9c16_0242ac110002row16_col15,#T_70a3fb70_9579_11ec_9c16_0242ac110002row17_col16{\n",
       "            background-color:  #fffecb;\n",
       "            color:  #000000;\n",
       "        }#T_70a3fb70_9579_11ec_9c16_0242ac110002row4_col0,#T_70a3fb70_9579_11ec_9c16_0242ac110002row10_col7,#T_70a3fb70_9579_11ec_9c16_0242ac110002row10_col9{\n",
       "            background-color:  #fffdc8;\n",
       "            color:  #000000;\n",
       "        }#T_70a3fb70_9579_11ec_9c16_0242ac110002row9_col6{\n",
       "            background-color:  #fffec9;\n",
       "            color:  #000000;\n",
       "        }#T_70a3fb70_9579_11ec_9c16_0242ac110002row10_col11{\n",
       "            background-color:  #fff9bd;\n",
       "            color:  #000000;\n",
       "        }</style><table id=\"T_70a3fb70_9579_11ec_9c16_0242ac110002\" ><thead>    <tr>        <th class=\"blank level0\" ></th>        <th class=\"col_heading level0 col0\" >0</th>        <th class=\"col_heading level0 col1\" >1</th>        <th class=\"col_heading level0 col2\" >2</th>        <th class=\"col_heading level0 col3\" >3</th>        <th class=\"col_heading level0 col4\" >4</th>        <th class=\"col_heading level0 col5\" >5</th>        <th class=\"col_heading level0 col6\" >6</th>        <th class=\"col_heading level0 col7\" >7</th>        <th class=\"col_heading level0 col8\" >8</th>        <th class=\"col_heading level0 col9\" >9</th>        <th class=\"col_heading level0 col10\" >10</th>        <th class=\"col_heading level0 col11\" >11</th>        <th class=\"col_heading level0 col12\" >12</th>        <th class=\"col_heading level0 col13\" >13</th>        <th class=\"col_heading level0 col14\" >14</th>        <th class=\"col_heading level0 col15\" >15</th>        <th class=\"col_heading level0 col16\" >16</th>        <th class=\"col_heading level0 col17\" >17</th>    </tr></thead><tbody>\n",
       "                <tr>\n",
       "                        <th id=\"T_70a3fb70_9579_11ec_9c16_0242ac110002level0_row0\" class=\"row_heading level0 row0\" >0</th>\n",
       "                        <td id=\"T_70a3fb70_9579_11ec_9c16_0242ac110002row0_col0\" class=\"data row0 col0\" >549</td>\n",
       "                        <td id=\"T_70a3fb70_9579_11ec_9c16_0242ac110002row0_col1\" class=\"data row0 col1\" >0</td>\n",
       "                        <td id=\"T_70a3fb70_9579_11ec_9c16_0242ac110002row0_col2\" class=\"data row0 col2\" >0</td>\n",
       "                        <td id=\"T_70a3fb70_9579_11ec_9c16_0242ac110002row0_col3\" class=\"data row0 col3\" >0</td>\n",
       "                        <td id=\"T_70a3fb70_9579_11ec_9c16_0242ac110002row0_col4\" class=\"data row0 col4\" >0</td>\n",
       "                        <td id=\"T_70a3fb70_9579_11ec_9c16_0242ac110002row0_col5\" class=\"data row0 col5\" >0</td>\n",
       "                        <td id=\"T_70a3fb70_9579_11ec_9c16_0242ac110002row0_col6\" class=\"data row0 col6\" >0</td>\n",
       "                        <td id=\"T_70a3fb70_9579_11ec_9c16_0242ac110002row0_col7\" class=\"data row0 col7\" >0</td>\n",
       "                        <td id=\"T_70a3fb70_9579_11ec_9c16_0242ac110002row0_col8\" class=\"data row0 col8\" >0</td>\n",
       "                        <td id=\"T_70a3fb70_9579_11ec_9c16_0242ac110002row0_col9\" class=\"data row0 col9\" >0</td>\n",
       "                        <td id=\"T_70a3fb70_9579_11ec_9c16_0242ac110002row0_col10\" class=\"data row0 col10\" >0</td>\n",
       "                        <td id=\"T_70a3fb70_9579_11ec_9c16_0242ac110002row0_col11\" class=\"data row0 col11\" >0</td>\n",
       "                        <td id=\"T_70a3fb70_9579_11ec_9c16_0242ac110002row0_col12\" class=\"data row0 col12\" >0</td>\n",
       "                        <td id=\"T_70a3fb70_9579_11ec_9c16_0242ac110002row0_col13\" class=\"data row0 col13\" >0</td>\n",
       "                        <td id=\"T_70a3fb70_9579_11ec_9c16_0242ac110002row0_col14\" class=\"data row0 col14\" >0</td>\n",
       "                        <td id=\"T_70a3fb70_9579_11ec_9c16_0242ac110002row0_col15\" class=\"data row0 col15\" >0</td>\n",
       "                        <td id=\"T_70a3fb70_9579_11ec_9c16_0242ac110002row0_col16\" class=\"data row0 col16\" >0</td>\n",
       "                        <td id=\"T_70a3fb70_9579_11ec_9c16_0242ac110002row0_col17\" class=\"data row0 col17\" >0</td>\n",
       "            </tr>\n",
       "            <tr>\n",
       "                        <th id=\"T_70a3fb70_9579_11ec_9c16_0242ac110002level0_row1\" class=\"row_heading level0 row1\" >1</th>\n",
       "                        <td id=\"T_70a3fb70_9579_11ec_9c16_0242ac110002row1_col0\" class=\"data row1 col0\" >1</td>\n",
       "                        <td id=\"T_70a3fb70_9579_11ec_9c16_0242ac110002row1_col1\" class=\"data row1 col1\" >409</td>\n",
       "                        <td id=\"T_70a3fb70_9579_11ec_9c16_0242ac110002row1_col2\" class=\"data row1 col2\" >0</td>\n",
       "                        <td id=\"T_70a3fb70_9579_11ec_9c16_0242ac110002row1_col3\" class=\"data row1 col3\" >0</td>\n",
       "                        <td id=\"T_70a3fb70_9579_11ec_9c16_0242ac110002row1_col4\" class=\"data row1 col4\" >0</td>\n",
       "                        <td id=\"T_70a3fb70_9579_11ec_9c16_0242ac110002row1_col5\" class=\"data row1 col5\" >0</td>\n",
       "                        <td id=\"T_70a3fb70_9579_11ec_9c16_0242ac110002row1_col6\" class=\"data row1 col6\" >0</td>\n",
       "                        <td id=\"T_70a3fb70_9579_11ec_9c16_0242ac110002row1_col7\" class=\"data row1 col7\" >0</td>\n",
       "                        <td id=\"T_70a3fb70_9579_11ec_9c16_0242ac110002row1_col8\" class=\"data row1 col8\" >0</td>\n",
       "                        <td id=\"T_70a3fb70_9579_11ec_9c16_0242ac110002row1_col9\" class=\"data row1 col9\" >0</td>\n",
       "                        <td id=\"T_70a3fb70_9579_11ec_9c16_0242ac110002row1_col10\" class=\"data row1 col10\" >0</td>\n",
       "                        <td id=\"T_70a3fb70_9579_11ec_9c16_0242ac110002row1_col11\" class=\"data row1 col11\" >0</td>\n",
       "                        <td id=\"T_70a3fb70_9579_11ec_9c16_0242ac110002row1_col12\" class=\"data row1 col12\" >0</td>\n",
       "                        <td id=\"T_70a3fb70_9579_11ec_9c16_0242ac110002row1_col13\" class=\"data row1 col13\" >0</td>\n",
       "                        <td id=\"T_70a3fb70_9579_11ec_9c16_0242ac110002row1_col14\" class=\"data row1 col14\" >0</td>\n",
       "                        <td id=\"T_70a3fb70_9579_11ec_9c16_0242ac110002row1_col15\" class=\"data row1 col15\" >0</td>\n",
       "                        <td id=\"T_70a3fb70_9579_11ec_9c16_0242ac110002row1_col16\" class=\"data row1 col16\" >0</td>\n",
       "                        <td id=\"T_70a3fb70_9579_11ec_9c16_0242ac110002row1_col17\" class=\"data row1 col17\" >0</td>\n",
       "            </tr>\n",
       "            <tr>\n",
       "                        <th id=\"T_70a3fb70_9579_11ec_9c16_0242ac110002level0_row2\" class=\"row_heading level0 row2\" >2</th>\n",
       "                        <td id=\"T_70a3fb70_9579_11ec_9c16_0242ac110002row2_col0\" class=\"data row2 col0\" >0</td>\n",
       "                        <td id=\"T_70a3fb70_9579_11ec_9c16_0242ac110002row2_col1\" class=\"data row2 col1\" >2</td>\n",
       "                        <td id=\"T_70a3fb70_9579_11ec_9c16_0242ac110002row2_col2\" class=\"data row2 col2\" >81</td>\n",
       "                        <td id=\"T_70a3fb70_9579_11ec_9c16_0242ac110002row2_col3\" class=\"data row2 col3\" >0</td>\n",
       "                        <td id=\"T_70a3fb70_9579_11ec_9c16_0242ac110002row2_col4\" class=\"data row2 col4\" >0</td>\n",
       "                        <td id=\"T_70a3fb70_9579_11ec_9c16_0242ac110002row2_col5\" class=\"data row2 col5\" >0</td>\n",
       "                        <td id=\"T_70a3fb70_9579_11ec_9c16_0242ac110002row2_col6\" class=\"data row2 col6\" >0</td>\n",
       "                        <td id=\"T_70a3fb70_9579_11ec_9c16_0242ac110002row2_col7\" class=\"data row2 col7\" >0</td>\n",
       "                        <td id=\"T_70a3fb70_9579_11ec_9c16_0242ac110002row2_col8\" class=\"data row2 col8\" >0</td>\n",
       "                        <td id=\"T_70a3fb70_9579_11ec_9c16_0242ac110002row2_col9\" class=\"data row2 col9\" >0</td>\n",
       "                        <td id=\"T_70a3fb70_9579_11ec_9c16_0242ac110002row2_col10\" class=\"data row2 col10\" >0</td>\n",
       "                        <td id=\"T_70a3fb70_9579_11ec_9c16_0242ac110002row2_col11\" class=\"data row2 col11\" >0</td>\n",
       "                        <td id=\"T_70a3fb70_9579_11ec_9c16_0242ac110002row2_col12\" class=\"data row2 col12\" >0</td>\n",
       "                        <td id=\"T_70a3fb70_9579_11ec_9c16_0242ac110002row2_col13\" class=\"data row2 col13\" >0</td>\n",
       "                        <td id=\"T_70a3fb70_9579_11ec_9c16_0242ac110002row2_col14\" class=\"data row2 col14\" >0</td>\n",
       "                        <td id=\"T_70a3fb70_9579_11ec_9c16_0242ac110002row2_col15\" class=\"data row2 col15\" >0</td>\n",
       "                        <td id=\"T_70a3fb70_9579_11ec_9c16_0242ac110002row2_col16\" class=\"data row2 col16\" >0</td>\n",
       "                        <td id=\"T_70a3fb70_9579_11ec_9c16_0242ac110002row2_col17\" class=\"data row2 col17\" >0</td>\n",
       "            </tr>\n",
       "            <tr>\n",
       "                        <th id=\"T_70a3fb70_9579_11ec_9c16_0242ac110002level0_row3\" class=\"row_heading level0 row3\" >3</th>\n",
       "                        <td id=\"T_70a3fb70_9579_11ec_9c16_0242ac110002row3_col0\" class=\"data row3 col0\" >2</td>\n",
       "                        <td id=\"T_70a3fb70_9579_11ec_9c16_0242ac110002row3_col1\" class=\"data row3 col1\" >0</td>\n",
       "                        <td id=\"T_70a3fb70_9579_11ec_9c16_0242ac110002row3_col2\" class=\"data row3 col2\" >0</td>\n",
       "                        <td id=\"T_70a3fb70_9579_11ec_9c16_0242ac110002row3_col3\" class=\"data row3 col3\" >730</td>\n",
       "                        <td id=\"T_70a3fb70_9579_11ec_9c16_0242ac110002row3_col4\" class=\"data row3 col4\" >0</td>\n",
       "                        <td id=\"T_70a3fb70_9579_11ec_9c16_0242ac110002row3_col5\" class=\"data row3 col5\" >0</td>\n",
       "                        <td id=\"T_70a3fb70_9579_11ec_9c16_0242ac110002row3_col6\" class=\"data row3 col6\" >0</td>\n",
       "                        <td id=\"T_70a3fb70_9579_11ec_9c16_0242ac110002row3_col7\" class=\"data row3 col7\" >0</td>\n",
       "                        <td id=\"T_70a3fb70_9579_11ec_9c16_0242ac110002row3_col8\" class=\"data row3 col8\" >0</td>\n",
       "                        <td id=\"T_70a3fb70_9579_11ec_9c16_0242ac110002row3_col9\" class=\"data row3 col9\" >0</td>\n",
       "                        <td id=\"T_70a3fb70_9579_11ec_9c16_0242ac110002row3_col10\" class=\"data row3 col10\" >0</td>\n",
       "                        <td id=\"T_70a3fb70_9579_11ec_9c16_0242ac110002row3_col11\" class=\"data row3 col11\" >0</td>\n",
       "                        <td id=\"T_70a3fb70_9579_11ec_9c16_0242ac110002row3_col12\" class=\"data row3 col12\" >0</td>\n",
       "                        <td id=\"T_70a3fb70_9579_11ec_9c16_0242ac110002row3_col13\" class=\"data row3 col13\" >0</td>\n",
       "                        <td id=\"T_70a3fb70_9579_11ec_9c16_0242ac110002row3_col14\" class=\"data row3 col14\" >0</td>\n",
       "                        <td id=\"T_70a3fb70_9579_11ec_9c16_0242ac110002row3_col15\" class=\"data row3 col15\" >0</td>\n",
       "                        <td id=\"T_70a3fb70_9579_11ec_9c16_0242ac110002row3_col16\" class=\"data row3 col16\" >0</td>\n",
       "                        <td id=\"T_70a3fb70_9579_11ec_9c16_0242ac110002row3_col17\" class=\"data row3 col17\" >0</td>\n",
       "            </tr>\n",
       "            <tr>\n",
       "                        <th id=\"T_70a3fb70_9579_11ec_9c16_0242ac110002level0_row4\" class=\"row_heading level0 row4\" >4</th>\n",
       "                        <td id=\"T_70a3fb70_9579_11ec_9c16_0242ac110002row4_col0\" class=\"data row4 col0\" >8</td>\n",
       "                        <td id=\"T_70a3fb70_9579_11ec_9c16_0242ac110002row4_col1\" class=\"data row4 col1\" >1</td>\n",
       "                        <td id=\"T_70a3fb70_9579_11ec_9c16_0242ac110002row4_col2\" class=\"data row4 col2\" >0</td>\n",
       "                        <td id=\"T_70a3fb70_9579_11ec_9c16_0242ac110002row4_col3\" class=\"data row4 col3\" >2</td>\n",
       "                        <td id=\"T_70a3fb70_9579_11ec_9c16_0242ac110002row4_col4\" class=\"data row4 col4\" >806</td>\n",
       "                        <td id=\"T_70a3fb70_9579_11ec_9c16_0242ac110002row4_col5\" class=\"data row4 col5\" >0</td>\n",
       "                        <td id=\"T_70a3fb70_9579_11ec_9c16_0242ac110002row4_col6\" class=\"data row4 col6\" >0</td>\n",
       "                        <td id=\"T_70a3fb70_9579_11ec_9c16_0242ac110002row4_col7\" class=\"data row4 col7\" >0</td>\n",
       "                        <td id=\"T_70a3fb70_9579_11ec_9c16_0242ac110002row4_col8\" class=\"data row4 col8\" >0</td>\n",
       "                        <td id=\"T_70a3fb70_9579_11ec_9c16_0242ac110002row4_col9\" class=\"data row4 col9\" >0</td>\n",
       "                        <td id=\"T_70a3fb70_9579_11ec_9c16_0242ac110002row4_col10\" class=\"data row4 col10\" >0</td>\n",
       "                        <td id=\"T_70a3fb70_9579_11ec_9c16_0242ac110002row4_col11\" class=\"data row4 col11\" >0</td>\n",
       "                        <td id=\"T_70a3fb70_9579_11ec_9c16_0242ac110002row4_col12\" class=\"data row4 col12\" >0</td>\n",
       "                        <td id=\"T_70a3fb70_9579_11ec_9c16_0242ac110002row4_col13\" class=\"data row4 col13\" >0</td>\n",
       "                        <td id=\"T_70a3fb70_9579_11ec_9c16_0242ac110002row4_col14\" class=\"data row4 col14\" >0</td>\n",
       "                        <td id=\"T_70a3fb70_9579_11ec_9c16_0242ac110002row4_col15\" class=\"data row4 col15\" >0</td>\n",
       "                        <td id=\"T_70a3fb70_9579_11ec_9c16_0242ac110002row4_col16\" class=\"data row4 col16\" >0</td>\n",
       "                        <td id=\"T_70a3fb70_9579_11ec_9c16_0242ac110002row4_col17\" class=\"data row4 col17\" >0</td>\n",
       "            </tr>\n",
       "            <tr>\n",
       "                        <th id=\"T_70a3fb70_9579_11ec_9c16_0242ac110002level0_row5\" class=\"row_heading level0 row5\" >5</th>\n",
       "                        <td id=\"T_70a3fb70_9579_11ec_9c16_0242ac110002row5_col0\" class=\"data row5 col0\" >0</td>\n",
       "                        <td id=\"T_70a3fb70_9579_11ec_9c16_0242ac110002row5_col1\" class=\"data row5 col1\" >0</td>\n",
       "                        <td id=\"T_70a3fb70_9579_11ec_9c16_0242ac110002row5_col2\" class=\"data row5 col2\" >0</td>\n",
       "                        <td id=\"T_70a3fb70_9579_11ec_9c16_0242ac110002row5_col3\" class=\"data row5 col3\" >0</td>\n",
       "                        <td id=\"T_70a3fb70_9579_11ec_9c16_0242ac110002row5_col4\" class=\"data row5 col4\" >1</td>\n",
       "                        <td id=\"T_70a3fb70_9579_11ec_9c16_0242ac110002row5_col5\" class=\"data row5 col5\" >108</td>\n",
       "                        <td id=\"T_70a3fb70_9579_11ec_9c16_0242ac110002row5_col6\" class=\"data row5 col6\" >0</td>\n",
       "                        <td id=\"T_70a3fb70_9579_11ec_9c16_0242ac110002row5_col7\" class=\"data row5 col7\" >0</td>\n",
       "                        <td id=\"T_70a3fb70_9579_11ec_9c16_0242ac110002row5_col8\" class=\"data row5 col8\" >0</td>\n",
       "                        <td id=\"T_70a3fb70_9579_11ec_9c16_0242ac110002row5_col9\" class=\"data row5 col9\" >0</td>\n",
       "                        <td id=\"T_70a3fb70_9579_11ec_9c16_0242ac110002row5_col10\" class=\"data row5 col10\" >0</td>\n",
       "                        <td id=\"T_70a3fb70_9579_11ec_9c16_0242ac110002row5_col11\" class=\"data row5 col11\" >0</td>\n",
       "                        <td id=\"T_70a3fb70_9579_11ec_9c16_0242ac110002row5_col12\" class=\"data row5 col12\" >0</td>\n",
       "                        <td id=\"T_70a3fb70_9579_11ec_9c16_0242ac110002row5_col13\" class=\"data row5 col13\" >0</td>\n",
       "                        <td id=\"T_70a3fb70_9579_11ec_9c16_0242ac110002row5_col14\" class=\"data row5 col14\" >0</td>\n",
       "                        <td id=\"T_70a3fb70_9579_11ec_9c16_0242ac110002row5_col15\" class=\"data row5 col15\" >0</td>\n",
       "                        <td id=\"T_70a3fb70_9579_11ec_9c16_0242ac110002row5_col16\" class=\"data row5 col16\" >0</td>\n",
       "                        <td id=\"T_70a3fb70_9579_11ec_9c16_0242ac110002row5_col17\" class=\"data row5 col17\" >0</td>\n",
       "            </tr>\n",
       "            <tr>\n",
       "                        <th id=\"T_70a3fb70_9579_11ec_9c16_0242ac110002level0_row6\" class=\"row_heading level0 row6\" >6</th>\n",
       "                        <td id=\"T_70a3fb70_9579_11ec_9c16_0242ac110002row6_col0\" class=\"data row6 col0\" >0</td>\n",
       "                        <td id=\"T_70a3fb70_9579_11ec_9c16_0242ac110002row6_col1\" class=\"data row6 col1\" >0</td>\n",
       "                        <td id=\"T_70a3fb70_9579_11ec_9c16_0242ac110002row6_col2\" class=\"data row6 col2\" >0</td>\n",
       "                        <td id=\"T_70a3fb70_9579_11ec_9c16_0242ac110002row6_col3\" class=\"data row6 col3\" >0</td>\n",
       "                        <td id=\"T_70a3fb70_9579_11ec_9c16_0242ac110002row6_col4\" class=\"data row6 col4\" >0</td>\n",
       "                        <td id=\"T_70a3fb70_9579_11ec_9c16_0242ac110002row6_col5\" class=\"data row6 col5\" >0</td>\n",
       "                        <td id=\"T_70a3fb70_9579_11ec_9c16_0242ac110002row6_col6\" class=\"data row6 col6\" >110</td>\n",
       "                        <td id=\"T_70a3fb70_9579_11ec_9c16_0242ac110002row6_col7\" class=\"data row6 col7\" >0</td>\n",
       "                        <td id=\"T_70a3fb70_9579_11ec_9c16_0242ac110002row6_col8\" class=\"data row6 col8\" >0</td>\n",
       "                        <td id=\"T_70a3fb70_9579_11ec_9c16_0242ac110002row6_col9\" class=\"data row6 col9\" >0</td>\n",
       "                        <td id=\"T_70a3fb70_9579_11ec_9c16_0242ac110002row6_col10\" class=\"data row6 col10\" >0</td>\n",
       "                        <td id=\"T_70a3fb70_9579_11ec_9c16_0242ac110002row6_col11\" class=\"data row6 col11\" >0</td>\n",
       "                        <td id=\"T_70a3fb70_9579_11ec_9c16_0242ac110002row6_col12\" class=\"data row6 col12\" >0</td>\n",
       "                        <td id=\"T_70a3fb70_9579_11ec_9c16_0242ac110002row6_col13\" class=\"data row6 col13\" >0</td>\n",
       "                        <td id=\"T_70a3fb70_9579_11ec_9c16_0242ac110002row6_col14\" class=\"data row6 col14\" >0</td>\n",
       "                        <td id=\"T_70a3fb70_9579_11ec_9c16_0242ac110002row6_col15\" class=\"data row6 col15\" >0</td>\n",
       "                        <td id=\"T_70a3fb70_9579_11ec_9c16_0242ac110002row6_col16\" class=\"data row6 col16\" >0</td>\n",
       "                        <td id=\"T_70a3fb70_9579_11ec_9c16_0242ac110002row6_col17\" class=\"data row6 col17\" >0</td>\n",
       "            </tr>\n",
       "            <tr>\n",
       "                        <th id=\"T_70a3fb70_9579_11ec_9c16_0242ac110002level0_row7\" class=\"row_heading level0 row7\" >7</th>\n",
       "                        <td id=\"T_70a3fb70_9579_11ec_9c16_0242ac110002row7_col0\" class=\"data row7 col0\" >0</td>\n",
       "                        <td id=\"T_70a3fb70_9579_11ec_9c16_0242ac110002row7_col1\" class=\"data row7 col1\" >1</td>\n",
       "                        <td id=\"T_70a3fb70_9579_11ec_9c16_0242ac110002row7_col2\" class=\"data row7 col2\" >0</td>\n",
       "                        <td id=\"T_70a3fb70_9579_11ec_9c16_0242ac110002row7_col3\" class=\"data row7 col3\" >0</td>\n",
       "                        <td id=\"T_70a3fb70_9579_11ec_9c16_0242ac110002row7_col4\" class=\"data row7 col4\" >0</td>\n",
       "                        <td id=\"T_70a3fb70_9579_11ec_9c16_0242ac110002row7_col5\" class=\"data row7 col5\" >0</td>\n",
       "                        <td id=\"T_70a3fb70_9579_11ec_9c16_0242ac110002row7_col6\" class=\"data row7 col6\" >0</td>\n",
       "                        <td id=\"T_70a3fb70_9579_11ec_9c16_0242ac110002row7_col7\" class=\"data row7 col7\" >81</td>\n",
       "                        <td id=\"T_70a3fb70_9579_11ec_9c16_0242ac110002row7_col8\" class=\"data row7 col8\" >0</td>\n",
       "                        <td id=\"T_70a3fb70_9579_11ec_9c16_0242ac110002row7_col9\" class=\"data row7 col9\" >0</td>\n",
       "                        <td id=\"T_70a3fb70_9579_11ec_9c16_0242ac110002row7_col10\" class=\"data row7 col10\" >0</td>\n",
       "                        <td id=\"T_70a3fb70_9579_11ec_9c16_0242ac110002row7_col11\" class=\"data row7 col11\" >0</td>\n",
       "                        <td id=\"T_70a3fb70_9579_11ec_9c16_0242ac110002row7_col12\" class=\"data row7 col12\" >0</td>\n",
       "                        <td id=\"T_70a3fb70_9579_11ec_9c16_0242ac110002row7_col13\" class=\"data row7 col13\" >0</td>\n",
       "                        <td id=\"T_70a3fb70_9579_11ec_9c16_0242ac110002row7_col14\" class=\"data row7 col14\" >0</td>\n",
       "                        <td id=\"T_70a3fb70_9579_11ec_9c16_0242ac110002row7_col15\" class=\"data row7 col15\" >0</td>\n",
       "                        <td id=\"T_70a3fb70_9579_11ec_9c16_0242ac110002row7_col16\" class=\"data row7 col16\" >0</td>\n",
       "                        <td id=\"T_70a3fb70_9579_11ec_9c16_0242ac110002row7_col17\" class=\"data row7 col17\" >0</td>\n",
       "            </tr>\n",
       "            <tr>\n",
       "                        <th id=\"T_70a3fb70_9579_11ec_9c16_0242ac110002level0_row8\" class=\"row_heading level0 row8\" >8</th>\n",
       "                        <td id=\"T_70a3fb70_9579_11ec_9c16_0242ac110002row8_col0\" class=\"data row8 col0\" >0</td>\n",
       "                        <td id=\"T_70a3fb70_9579_11ec_9c16_0242ac110002row8_col1\" class=\"data row8 col1\" >0</td>\n",
       "                        <td id=\"T_70a3fb70_9579_11ec_9c16_0242ac110002row8_col2\" class=\"data row8 col2\" >0</td>\n",
       "                        <td id=\"T_70a3fb70_9579_11ec_9c16_0242ac110002row8_col3\" class=\"data row8 col3\" >0</td>\n",
       "                        <td id=\"T_70a3fb70_9579_11ec_9c16_0242ac110002row8_col4\" class=\"data row8 col4\" >0</td>\n",
       "                        <td id=\"T_70a3fb70_9579_11ec_9c16_0242ac110002row8_col5\" class=\"data row8 col5\" >0</td>\n",
       "                        <td id=\"T_70a3fb70_9579_11ec_9c16_0242ac110002row8_col6\" class=\"data row8 col6\" >0</td>\n",
       "                        <td id=\"T_70a3fb70_9579_11ec_9c16_0242ac110002row8_col7\" class=\"data row8 col7\" >0</td>\n",
       "                        <td id=\"T_70a3fb70_9579_11ec_9c16_0242ac110002row8_col8\" class=\"data row8 col8\" >17</td>\n",
       "                        <td id=\"T_70a3fb70_9579_11ec_9c16_0242ac110002row8_col9\" class=\"data row8 col9\" >0</td>\n",
       "                        <td id=\"T_70a3fb70_9579_11ec_9c16_0242ac110002row8_col10\" class=\"data row8 col10\" >0</td>\n",
       "                        <td id=\"T_70a3fb70_9579_11ec_9c16_0242ac110002row8_col11\" class=\"data row8 col11\" >0</td>\n",
       "                        <td id=\"T_70a3fb70_9579_11ec_9c16_0242ac110002row8_col12\" class=\"data row8 col12\" >0</td>\n",
       "                        <td id=\"T_70a3fb70_9579_11ec_9c16_0242ac110002row8_col13\" class=\"data row8 col13\" >0</td>\n",
       "                        <td id=\"T_70a3fb70_9579_11ec_9c16_0242ac110002row8_col14\" class=\"data row8 col14\" >0</td>\n",
       "                        <td id=\"T_70a3fb70_9579_11ec_9c16_0242ac110002row8_col15\" class=\"data row8 col15\" >0</td>\n",
       "                        <td id=\"T_70a3fb70_9579_11ec_9c16_0242ac110002row8_col16\" class=\"data row8 col16\" >0</td>\n",
       "                        <td id=\"T_70a3fb70_9579_11ec_9c16_0242ac110002row8_col17\" class=\"data row8 col17\" >0</td>\n",
       "            </tr>\n",
       "            <tr>\n",
       "                        <th id=\"T_70a3fb70_9579_11ec_9c16_0242ac110002level0_row9\" class=\"row_heading level0 row9\" >9</th>\n",
       "                        <td id=\"T_70a3fb70_9579_11ec_9c16_0242ac110002row9_col0\" class=\"data row9 col0\" >0</td>\n",
       "                        <td id=\"T_70a3fb70_9579_11ec_9c16_0242ac110002row9_col1\" class=\"data row9 col1\" >0</td>\n",
       "                        <td id=\"T_70a3fb70_9579_11ec_9c16_0242ac110002row9_col2\" class=\"data row9 col2\" >0</td>\n",
       "                        <td id=\"T_70a3fb70_9579_11ec_9c16_0242ac110002row9_col3\" class=\"data row9 col3\" >1</td>\n",
       "                        <td id=\"T_70a3fb70_9579_11ec_9c16_0242ac110002row9_col4\" class=\"data row9 col4\" >0</td>\n",
       "                        <td id=\"T_70a3fb70_9579_11ec_9c16_0242ac110002row9_col5\" class=\"data row9 col5\" >0</td>\n",
       "                        <td id=\"T_70a3fb70_9579_11ec_9c16_0242ac110002row9_col6\" class=\"data row9 col6\" >1</td>\n",
       "                        <td id=\"T_70a3fb70_9579_11ec_9c16_0242ac110002row9_col7\" class=\"data row9 col7\" >0</td>\n",
       "                        <td id=\"T_70a3fb70_9579_11ec_9c16_0242ac110002row9_col8\" class=\"data row9 col8\" >0</td>\n",
       "                        <td id=\"T_70a3fb70_9579_11ec_9c16_0242ac110002row9_col9\" class=\"data row9 col9\" >144</td>\n",
       "                        <td id=\"T_70a3fb70_9579_11ec_9c16_0242ac110002row9_col10\" class=\"data row9 col10\" >0</td>\n",
       "                        <td id=\"T_70a3fb70_9579_11ec_9c16_0242ac110002row9_col11\" class=\"data row9 col11\" >0</td>\n",
       "                        <td id=\"T_70a3fb70_9579_11ec_9c16_0242ac110002row9_col12\" class=\"data row9 col12\" >0</td>\n",
       "                        <td id=\"T_70a3fb70_9579_11ec_9c16_0242ac110002row9_col13\" class=\"data row9 col13\" >0</td>\n",
       "                        <td id=\"T_70a3fb70_9579_11ec_9c16_0242ac110002row9_col14\" class=\"data row9 col14\" >0</td>\n",
       "                        <td id=\"T_70a3fb70_9579_11ec_9c16_0242ac110002row9_col15\" class=\"data row9 col15\" >0</td>\n",
       "                        <td id=\"T_70a3fb70_9579_11ec_9c16_0242ac110002row9_col16\" class=\"data row9 col16\" >0</td>\n",
       "                        <td id=\"T_70a3fb70_9579_11ec_9c16_0242ac110002row9_col17\" class=\"data row9 col17\" >0</td>\n",
       "            </tr>\n",
       "            <tr>\n",
       "                        <th id=\"T_70a3fb70_9579_11ec_9c16_0242ac110002level0_row10\" class=\"row_heading level0 row10\" >10</th>\n",
       "                        <td id=\"T_70a3fb70_9579_11ec_9c16_0242ac110002row10_col0\" class=\"data row10 col0\" >0</td>\n",
       "                        <td id=\"T_70a3fb70_9579_11ec_9c16_0242ac110002row10_col1\" class=\"data row10 col1\" >0</td>\n",
       "                        <td id=\"T_70a3fb70_9579_11ec_9c16_0242ac110002row10_col2\" class=\"data row10 col2\" >0</td>\n",
       "                        <td id=\"T_70a3fb70_9579_11ec_9c16_0242ac110002row10_col3\" class=\"data row10 col3\" >0</td>\n",
       "                        <td id=\"T_70a3fb70_9579_11ec_9c16_0242ac110002row10_col4\" class=\"data row10 col4\" >0</td>\n",
       "                        <td id=\"T_70a3fb70_9579_11ec_9c16_0242ac110002row10_col5\" class=\"data row10 col5\" >0</td>\n",
       "                        <td id=\"T_70a3fb70_9579_11ec_9c16_0242ac110002row10_col6\" class=\"data row10 col6\" >0</td>\n",
       "                        <td id=\"T_70a3fb70_9579_11ec_9c16_0242ac110002row10_col7\" class=\"data row10 col7\" >1</td>\n",
       "                        <td id=\"T_70a3fb70_9579_11ec_9c16_0242ac110002row10_col8\" class=\"data row10 col8\" >0</td>\n",
       "                        <td id=\"T_70a3fb70_9579_11ec_9c16_0242ac110002row10_col9\" class=\"data row10 col9\" >2</td>\n",
       "                        <td id=\"T_70a3fb70_9579_11ec_9c16_0242ac110002row10_col10\" class=\"data row10 col10\" >159</td>\n",
       "                        <td id=\"T_70a3fb70_9579_11ec_9c16_0242ac110002row10_col11\" class=\"data row10 col11\" >1</td>\n",
       "                        <td id=\"T_70a3fb70_9579_11ec_9c16_0242ac110002row10_col12\" class=\"data row10 col12\" >0</td>\n",
       "                        <td id=\"T_70a3fb70_9579_11ec_9c16_0242ac110002row10_col13\" class=\"data row10 col13\" >0</td>\n",
       "                        <td id=\"T_70a3fb70_9579_11ec_9c16_0242ac110002row10_col14\" class=\"data row10 col14\" >0</td>\n",
       "                        <td id=\"T_70a3fb70_9579_11ec_9c16_0242ac110002row10_col15\" class=\"data row10 col15\" >0</td>\n",
       "                        <td id=\"T_70a3fb70_9579_11ec_9c16_0242ac110002row10_col16\" class=\"data row10 col16\" >0</td>\n",
       "                        <td id=\"T_70a3fb70_9579_11ec_9c16_0242ac110002row10_col17\" class=\"data row10 col17\" >0</td>\n",
       "            </tr>\n",
       "            <tr>\n",
       "                        <th id=\"T_70a3fb70_9579_11ec_9c16_0242ac110002level0_row11\" class=\"row_heading level0 row11\" >11</th>\n",
       "                        <td id=\"T_70a3fb70_9579_11ec_9c16_0242ac110002row11_col0\" class=\"data row11 col0\" >0</td>\n",
       "                        <td id=\"T_70a3fb70_9579_11ec_9c16_0242ac110002row11_col1\" class=\"data row11 col1\" >0</td>\n",
       "                        <td id=\"T_70a3fb70_9579_11ec_9c16_0242ac110002row11_col2\" class=\"data row11 col2\" >0</td>\n",
       "                        <td id=\"T_70a3fb70_9579_11ec_9c16_0242ac110002row11_col3\" class=\"data row11 col3\" >0</td>\n",
       "                        <td id=\"T_70a3fb70_9579_11ec_9c16_0242ac110002row11_col4\" class=\"data row11 col4\" >0</td>\n",
       "                        <td id=\"T_70a3fb70_9579_11ec_9c16_0242ac110002row11_col5\" class=\"data row11 col5\" >0</td>\n",
       "                        <td id=\"T_70a3fb70_9579_11ec_9c16_0242ac110002row11_col6\" class=\"data row11 col6\" >0</td>\n",
       "                        <td id=\"T_70a3fb70_9579_11ec_9c16_0242ac110002row11_col7\" class=\"data row11 col7\" >0</td>\n",
       "                        <td id=\"T_70a3fb70_9579_11ec_9c16_0242ac110002row11_col8\" class=\"data row11 col8\" >0</td>\n",
       "                        <td id=\"T_70a3fb70_9579_11ec_9c16_0242ac110002row11_col9\" class=\"data row11 col9\" >0</td>\n",
       "                        <td id=\"T_70a3fb70_9579_11ec_9c16_0242ac110002row11_col10\" class=\"data row11 col10\" >0</td>\n",
       "                        <td id=\"T_70a3fb70_9579_11ec_9c16_0242ac110002row11_col11\" class=\"data row11 col11\" >22</td>\n",
       "                        <td id=\"T_70a3fb70_9579_11ec_9c16_0242ac110002row11_col12\" class=\"data row11 col12\" >0</td>\n",
       "                        <td id=\"T_70a3fb70_9579_11ec_9c16_0242ac110002row11_col13\" class=\"data row11 col13\" >0</td>\n",
       "                        <td id=\"T_70a3fb70_9579_11ec_9c16_0242ac110002row11_col14\" class=\"data row11 col14\" >0</td>\n",
       "                        <td id=\"T_70a3fb70_9579_11ec_9c16_0242ac110002row11_col15\" class=\"data row11 col15\" >0</td>\n",
       "                        <td id=\"T_70a3fb70_9579_11ec_9c16_0242ac110002row11_col16\" class=\"data row11 col16\" >0</td>\n",
       "                        <td id=\"T_70a3fb70_9579_11ec_9c16_0242ac110002row11_col17\" class=\"data row11 col17\" >0</td>\n",
       "            </tr>\n",
       "            <tr>\n",
       "                        <th id=\"T_70a3fb70_9579_11ec_9c16_0242ac110002level0_row12\" class=\"row_heading level0 row12\" >12</th>\n",
       "                        <td id=\"T_70a3fb70_9579_11ec_9c16_0242ac110002row12_col0\" class=\"data row12 col0\" >0</td>\n",
       "                        <td id=\"T_70a3fb70_9579_11ec_9c16_0242ac110002row12_col1\" class=\"data row12 col1\" >0</td>\n",
       "                        <td id=\"T_70a3fb70_9579_11ec_9c16_0242ac110002row12_col2\" class=\"data row12 col2\" >0</td>\n",
       "                        <td id=\"T_70a3fb70_9579_11ec_9c16_0242ac110002row12_col3\" class=\"data row12 col3\" >0</td>\n",
       "                        <td id=\"T_70a3fb70_9579_11ec_9c16_0242ac110002row12_col4\" class=\"data row12 col4\" >0</td>\n",
       "                        <td id=\"T_70a3fb70_9579_11ec_9c16_0242ac110002row12_col5\" class=\"data row12 col5\" >0</td>\n",
       "                        <td id=\"T_70a3fb70_9579_11ec_9c16_0242ac110002row12_col6\" class=\"data row12 col6\" >0</td>\n",
       "                        <td id=\"T_70a3fb70_9579_11ec_9c16_0242ac110002row12_col7\" class=\"data row12 col7\" >0</td>\n",
       "                        <td id=\"T_70a3fb70_9579_11ec_9c16_0242ac110002row12_col8\" class=\"data row12 col8\" >0</td>\n",
       "                        <td id=\"T_70a3fb70_9579_11ec_9c16_0242ac110002row12_col9\" class=\"data row12 col9\" >0</td>\n",
       "                        <td id=\"T_70a3fb70_9579_11ec_9c16_0242ac110002row12_col10\" class=\"data row12 col10\" >0</td>\n",
       "                        <td id=\"T_70a3fb70_9579_11ec_9c16_0242ac110002row12_col11\" class=\"data row12 col11\" >0</td>\n",
       "                        <td id=\"T_70a3fb70_9579_11ec_9c16_0242ac110002row12_col12\" class=\"data row12 col12\" >110</td>\n",
       "                        <td id=\"T_70a3fb70_9579_11ec_9c16_0242ac110002row12_col13\" class=\"data row12 col13\" >0</td>\n",
       "                        <td id=\"T_70a3fb70_9579_11ec_9c16_0242ac110002row12_col14\" class=\"data row12 col14\" >0</td>\n",
       "                        <td id=\"T_70a3fb70_9579_11ec_9c16_0242ac110002row12_col15\" class=\"data row12 col15\" >0</td>\n",
       "                        <td id=\"T_70a3fb70_9579_11ec_9c16_0242ac110002row12_col16\" class=\"data row12 col16\" >0</td>\n",
       "                        <td id=\"T_70a3fb70_9579_11ec_9c16_0242ac110002row12_col17\" class=\"data row12 col17\" >0</td>\n",
       "            </tr>\n",
       "            <tr>\n",
       "                        <th id=\"T_70a3fb70_9579_11ec_9c16_0242ac110002level0_row13\" class=\"row_heading level0 row13\" >13</th>\n",
       "                        <td id=\"T_70a3fb70_9579_11ec_9c16_0242ac110002row13_col0\" class=\"data row13 col0\" >0</td>\n",
       "                        <td id=\"T_70a3fb70_9579_11ec_9c16_0242ac110002row13_col1\" class=\"data row13 col1\" >0</td>\n",
       "                        <td id=\"T_70a3fb70_9579_11ec_9c16_0242ac110002row13_col2\" class=\"data row13 col2\" >0</td>\n",
       "                        <td id=\"T_70a3fb70_9579_11ec_9c16_0242ac110002row13_col3\" class=\"data row13 col3\" >0</td>\n",
       "                        <td id=\"T_70a3fb70_9579_11ec_9c16_0242ac110002row13_col4\" class=\"data row13 col4\" >0</td>\n",
       "                        <td id=\"T_70a3fb70_9579_11ec_9c16_0242ac110002row13_col5\" class=\"data row13 col5\" >0</td>\n",
       "                        <td id=\"T_70a3fb70_9579_11ec_9c16_0242ac110002row13_col6\" class=\"data row13 col6\" >0</td>\n",
       "                        <td id=\"T_70a3fb70_9579_11ec_9c16_0242ac110002row13_col7\" class=\"data row13 col7\" >0</td>\n",
       "                        <td id=\"T_70a3fb70_9579_11ec_9c16_0242ac110002row13_col8\" class=\"data row13 col8\" >0</td>\n",
       "                        <td id=\"T_70a3fb70_9579_11ec_9c16_0242ac110002row13_col9\" class=\"data row13 col9\" >0</td>\n",
       "                        <td id=\"T_70a3fb70_9579_11ec_9c16_0242ac110002row13_col10\" class=\"data row13 col10\" >0</td>\n",
       "                        <td id=\"T_70a3fb70_9579_11ec_9c16_0242ac110002row13_col11\" class=\"data row13 col11\" >0</td>\n",
       "                        <td id=\"T_70a3fb70_9579_11ec_9c16_0242ac110002row13_col12\" class=\"data row13 col12\" >0</td>\n",
       "                        <td id=\"T_70a3fb70_9579_11ec_9c16_0242ac110002row13_col13\" class=\"data row13 col13\" >82</td>\n",
       "                        <td id=\"T_70a3fb70_9579_11ec_9c16_0242ac110002row13_col14\" class=\"data row13 col14\" >0</td>\n",
       "                        <td id=\"T_70a3fb70_9579_11ec_9c16_0242ac110002row13_col15\" class=\"data row13 col15\" >0</td>\n",
       "                        <td id=\"T_70a3fb70_9579_11ec_9c16_0242ac110002row13_col16\" class=\"data row13 col16\" >0</td>\n",
       "                        <td id=\"T_70a3fb70_9579_11ec_9c16_0242ac110002row13_col17\" class=\"data row13 col17\" >0</td>\n",
       "            </tr>\n",
       "            <tr>\n",
       "                        <th id=\"T_70a3fb70_9579_11ec_9c16_0242ac110002level0_row14\" class=\"row_heading level0 row14\" >14</th>\n",
       "                        <td id=\"T_70a3fb70_9579_11ec_9c16_0242ac110002row14_col0\" class=\"data row14 col0\" >0</td>\n",
       "                        <td id=\"T_70a3fb70_9579_11ec_9c16_0242ac110002row14_col1\" class=\"data row14 col1\" >0</td>\n",
       "                        <td id=\"T_70a3fb70_9579_11ec_9c16_0242ac110002row14_col2\" class=\"data row14 col2\" >0</td>\n",
       "                        <td id=\"T_70a3fb70_9579_11ec_9c16_0242ac110002row14_col3\" class=\"data row14 col3\" >0</td>\n",
       "                        <td id=\"T_70a3fb70_9579_11ec_9c16_0242ac110002row14_col4\" class=\"data row14 col4\" >0</td>\n",
       "                        <td id=\"T_70a3fb70_9579_11ec_9c16_0242ac110002row14_col5\" class=\"data row14 col5\" >0</td>\n",
       "                        <td id=\"T_70a3fb70_9579_11ec_9c16_0242ac110002row14_col6\" class=\"data row14 col6\" >0</td>\n",
       "                        <td id=\"T_70a3fb70_9579_11ec_9c16_0242ac110002row14_col7\" class=\"data row14 col7\" >0</td>\n",
       "                        <td id=\"T_70a3fb70_9579_11ec_9c16_0242ac110002row14_col8\" class=\"data row14 col8\" >0</td>\n",
       "                        <td id=\"T_70a3fb70_9579_11ec_9c16_0242ac110002row14_col9\" class=\"data row14 col9\" >0</td>\n",
       "                        <td id=\"T_70a3fb70_9579_11ec_9c16_0242ac110002row14_col10\" class=\"data row14 col10\" >0</td>\n",
       "                        <td id=\"T_70a3fb70_9579_11ec_9c16_0242ac110002row14_col11\" class=\"data row14 col11\" >0</td>\n",
       "                        <td id=\"T_70a3fb70_9579_11ec_9c16_0242ac110002row14_col12\" class=\"data row14 col12\" >0</td>\n",
       "                        <td id=\"T_70a3fb70_9579_11ec_9c16_0242ac110002row14_col13\" class=\"data row14 col13\" >0</td>\n",
       "                        <td id=\"T_70a3fb70_9579_11ec_9c16_0242ac110002row14_col14\" class=\"data row14 col14\" >17</td>\n",
       "                        <td id=\"T_70a3fb70_9579_11ec_9c16_0242ac110002row14_col15\" class=\"data row14 col15\" >0</td>\n",
       "                        <td id=\"T_70a3fb70_9579_11ec_9c16_0242ac110002row14_col16\" class=\"data row14 col16\" >0</td>\n",
       "                        <td id=\"T_70a3fb70_9579_11ec_9c16_0242ac110002row14_col17\" class=\"data row14 col17\" >0</td>\n",
       "            </tr>\n",
       "            <tr>\n",
       "                        <th id=\"T_70a3fb70_9579_11ec_9c16_0242ac110002level0_row15\" class=\"row_heading level0 row15\" >15</th>\n",
       "                        <td id=\"T_70a3fb70_9579_11ec_9c16_0242ac110002row15_col0\" class=\"data row15 col0\" >0</td>\n",
       "                        <td id=\"T_70a3fb70_9579_11ec_9c16_0242ac110002row15_col1\" class=\"data row15 col1\" >0</td>\n",
       "                        <td id=\"T_70a3fb70_9579_11ec_9c16_0242ac110002row15_col2\" class=\"data row15 col2\" >0</td>\n",
       "                        <td id=\"T_70a3fb70_9579_11ec_9c16_0242ac110002row15_col3\" class=\"data row15 col3\" >0</td>\n",
       "                        <td id=\"T_70a3fb70_9579_11ec_9c16_0242ac110002row15_col4\" class=\"data row15 col4\" >0</td>\n",
       "                        <td id=\"T_70a3fb70_9579_11ec_9c16_0242ac110002row15_col5\" class=\"data row15 col5\" >0</td>\n",
       "                        <td id=\"T_70a3fb70_9579_11ec_9c16_0242ac110002row15_col6\" class=\"data row15 col6\" >0</td>\n",
       "                        <td id=\"T_70a3fb70_9579_11ec_9c16_0242ac110002row15_col7\" class=\"data row15 col7\" >0</td>\n",
       "                        <td id=\"T_70a3fb70_9579_11ec_9c16_0242ac110002row15_col8\" class=\"data row15 col8\" >0</td>\n",
       "                        <td id=\"T_70a3fb70_9579_11ec_9c16_0242ac110002row15_col9\" class=\"data row15 col9\" >0</td>\n",
       "                        <td id=\"T_70a3fb70_9579_11ec_9c16_0242ac110002row15_col10\" class=\"data row15 col10\" >0</td>\n",
       "                        <td id=\"T_70a3fb70_9579_11ec_9c16_0242ac110002row15_col11\" class=\"data row15 col11\" >0</td>\n",
       "                        <td id=\"T_70a3fb70_9579_11ec_9c16_0242ac110002row15_col12\" class=\"data row15 col12\" >0</td>\n",
       "                        <td id=\"T_70a3fb70_9579_11ec_9c16_0242ac110002row15_col13\" class=\"data row15 col13\" >0</td>\n",
       "                        <td id=\"T_70a3fb70_9579_11ec_9c16_0242ac110002row15_col14\" class=\"data row15 col14\" >0</td>\n",
       "                        <td id=\"T_70a3fb70_9579_11ec_9c16_0242ac110002row15_col15\" class=\"data row15 col15\" >146</td>\n",
       "                        <td id=\"T_70a3fb70_9579_11ec_9c16_0242ac110002row15_col16\" class=\"data row15 col16\" >0</td>\n",
       "                        <td id=\"T_70a3fb70_9579_11ec_9c16_0242ac110002row15_col17\" class=\"data row15 col17\" >0</td>\n",
       "            </tr>\n",
       "            <tr>\n",
       "                        <th id=\"T_70a3fb70_9579_11ec_9c16_0242ac110002level0_row16\" class=\"row_heading level0 row16\" >16</th>\n",
       "                        <td id=\"T_70a3fb70_9579_11ec_9c16_0242ac110002row16_col0\" class=\"data row16 col0\" >0</td>\n",
       "                        <td id=\"T_70a3fb70_9579_11ec_9c16_0242ac110002row16_col1\" class=\"data row16 col1\" >0</td>\n",
       "                        <td id=\"T_70a3fb70_9579_11ec_9c16_0242ac110002row16_col2\" class=\"data row16 col2\" >0</td>\n",
       "                        <td id=\"T_70a3fb70_9579_11ec_9c16_0242ac110002row16_col3\" class=\"data row16 col3\" >0</td>\n",
       "                        <td id=\"T_70a3fb70_9579_11ec_9c16_0242ac110002row16_col4\" class=\"data row16 col4\" >0</td>\n",
       "                        <td id=\"T_70a3fb70_9579_11ec_9c16_0242ac110002row16_col5\" class=\"data row16 col5\" >0</td>\n",
       "                        <td id=\"T_70a3fb70_9579_11ec_9c16_0242ac110002row16_col6\" class=\"data row16 col6\" >0</td>\n",
       "                        <td id=\"T_70a3fb70_9579_11ec_9c16_0242ac110002row16_col7\" class=\"data row16 col7\" >0</td>\n",
       "                        <td id=\"T_70a3fb70_9579_11ec_9c16_0242ac110002row16_col8\" class=\"data row16 col8\" >0</td>\n",
       "                        <td id=\"T_70a3fb70_9579_11ec_9c16_0242ac110002row16_col9\" class=\"data row16 col9\" >0</td>\n",
       "                        <td id=\"T_70a3fb70_9579_11ec_9c16_0242ac110002row16_col10\" class=\"data row16 col10\" >0</td>\n",
       "                        <td id=\"T_70a3fb70_9579_11ec_9c16_0242ac110002row16_col11\" class=\"data row16 col11\" >0</td>\n",
       "                        <td id=\"T_70a3fb70_9579_11ec_9c16_0242ac110002row16_col12\" class=\"data row16 col12\" >0</td>\n",
       "                        <td id=\"T_70a3fb70_9579_11ec_9c16_0242ac110002row16_col13\" class=\"data row16 col13\" >0</td>\n",
       "                        <td id=\"T_70a3fb70_9579_11ec_9c16_0242ac110002row16_col14\" class=\"data row16 col14\" >0</td>\n",
       "                        <td id=\"T_70a3fb70_9579_11ec_9c16_0242ac110002row16_col15\" class=\"data row16 col15\" >1</td>\n",
       "                        <td id=\"T_70a3fb70_9579_11ec_9c16_0242ac110002row16_col16\" class=\"data row16 col16\" >162</td>\n",
       "                        <td id=\"T_70a3fb70_9579_11ec_9c16_0242ac110002row16_col17\" class=\"data row16 col17\" >0</td>\n",
       "            </tr>\n",
       "            <tr>\n",
       "                        <th id=\"T_70a3fb70_9579_11ec_9c16_0242ac110002level0_row17\" class=\"row_heading level0 row17\" >17</th>\n",
       "                        <td id=\"T_70a3fb70_9579_11ec_9c16_0242ac110002row17_col0\" class=\"data row17 col0\" >0</td>\n",
       "                        <td id=\"T_70a3fb70_9579_11ec_9c16_0242ac110002row17_col1\" class=\"data row17 col1\" >0</td>\n",
       "                        <td id=\"T_70a3fb70_9579_11ec_9c16_0242ac110002row17_col2\" class=\"data row17 col2\" >0</td>\n",
       "                        <td id=\"T_70a3fb70_9579_11ec_9c16_0242ac110002row17_col3\" class=\"data row17 col3\" >0</td>\n",
       "                        <td id=\"T_70a3fb70_9579_11ec_9c16_0242ac110002row17_col4\" class=\"data row17 col4\" >0</td>\n",
       "                        <td id=\"T_70a3fb70_9579_11ec_9c16_0242ac110002row17_col5\" class=\"data row17 col5\" >0</td>\n",
       "                        <td id=\"T_70a3fb70_9579_11ec_9c16_0242ac110002row17_col6\" class=\"data row17 col6\" >0</td>\n",
       "                        <td id=\"T_70a3fb70_9579_11ec_9c16_0242ac110002row17_col7\" class=\"data row17 col7\" >0</td>\n",
       "                        <td id=\"T_70a3fb70_9579_11ec_9c16_0242ac110002row17_col8\" class=\"data row17 col8\" >0</td>\n",
       "                        <td id=\"T_70a3fb70_9579_11ec_9c16_0242ac110002row17_col9\" class=\"data row17 col9\" >0</td>\n",
       "                        <td id=\"T_70a3fb70_9579_11ec_9c16_0242ac110002row17_col10\" class=\"data row17 col10\" >0</td>\n",
       "                        <td id=\"T_70a3fb70_9579_11ec_9c16_0242ac110002row17_col11\" class=\"data row17 col11\" >0</td>\n",
       "                        <td id=\"T_70a3fb70_9579_11ec_9c16_0242ac110002row17_col12\" class=\"data row17 col12\" >0</td>\n",
       "                        <td id=\"T_70a3fb70_9579_11ec_9c16_0242ac110002row17_col13\" class=\"data row17 col13\" >0</td>\n",
       "                        <td id=\"T_70a3fb70_9579_11ec_9c16_0242ac110002row17_col14\" class=\"data row17 col14\" >0</td>\n",
       "                        <td id=\"T_70a3fb70_9579_11ec_9c16_0242ac110002row17_col15\" class=\"data row17 col15\" >0</td>\n",
       "                        <td id=\"T_70a3fb70_9579_11ec_9c16_0242ac110002row17_col16\" class=\"data row17 col16\" >1</td>\n",
       "                        <td id=\"T_70a3fb70_9579_11ec_9c16_0242ac110002row17_col17\" class=\"data row17 col17\" >21</td>\n",
       "            </tr>\n",
       "    </tbody></table>"
      ],
      "text/plain": [
       "<pandas.io.formats.style.Styler at 0x7f1dc0d13460>"
      ]
     },
     "metadata": {},
     "output_type": "display_data"
    },
    {
     "name": "stdout",
     "output_type": "stream",
     "text": [
      "val fi : 0.9921407387402235, val acc: 0.9931216931216931 \n",
      "\n"
     ]
    }
   ],
   "source": [
    "val_predictions, val_targets = val_pred(model = model, data_loader = val_loader)\n",
    "\n",
    "val_f1 = get_f1_score(y_true = val_targets, y_pred = val_predictions)\n",
    "val_acc = get_acc_score(y_true = val_targets, y_pred = val_predictions)\n",
    "\n",
    "val_confusion_matrix = pd.DataFrame((confusion_matrix(y_true = val_targets, y_pred = val_predictions)))\n",
    "print(f'val confusion_matrix')\n",
    "display(val_confusion_matrix.style.background_gradient(cmap='YlOrRd', axis = 0))\n",
    "print(f'val fi : {val_f1}, val acc: {val_acc} \\n')"
   ]
  },
  {
   "cell_type": "markdown",
   "id": "08e8c2ad-0bd3-4421-8c07-c06d819238a3",
   "metadata": {},
   "source": [
    "## 제출 파일 생성"
   ]
  },
  {
   "cell_type": "code",
   "execution_count": 20,
   "id": "d3df5b40-9141-4641-9c20-6ec9623d5544",
   "metadata": {},
   "outputs": [
    {
     "name": "stdout",
     "output_type": "stream",
     "text": [
      "test inference is done!\n"
     ]
    }
   ],
   "source": [
    "# 제출할 파일을 저장합니다.\n",
    "submission.to_csv(os.path.join(submission_dir, 'efficientnetb4_pretrained.csv'), index=False)\n",
    "print('test inference is done!')"
   ]
  },
  {
   "cell_type": "code",
   "execution_count": 21,
   "id": "f218c845-7bb3-4334-9eaf-b3b4c13252c9",
   "metadata": {},
   "outputs": [
    {
     "data": {
      "text/html": [
       "<div>\n",
       "<style scoped>\n",
       "    .dataframe tbody tr th:only-of-type {\n",
       "        vertical-align: middle;\n",
       "    }\n",
       "\n",
       "    .dataframe tbody tr th {\n",
       "        vertical-align: top;\n",
       "    }\n",
       "\n",
       "    .dataframe thead th {\n",
       "        text-align: right;\n",
       "    }\n",
       "</style>\n",
       "<table border=\"1\" class=\"dataframe\">\n",
       "  <thead>\n",
       "    <tr style=\"text-align: right;\">\n",
       "      <th></th>\n",
       "      <th>ImageID</th>\n",
       "      <th>ans</th>\n",
       "    </tr>\n",
       "  </thead>\n",
       "  <tbody>\n",
       "    <tr>\n",
       "      <th>0</th>\n",
       "      <td>cbc5c6e168e63498590db46022617123f1fe1268.jpg</td>\n",
       "      <td>13</td>\n",
       "    </tr>\n",
       "    <tr>\n",
       "      <th>1</th>\n",
       "      <td>0e72482bf56b3581c081f7da2a6180b8792c7089.jpg</td>\n",
       "      <td>1</td>\n",
       "    </tr>\n",
       "    <tr>\n",
       "      <th>2</th>\n",
       "      <td>b549040c49190cedc41327748aeb197c1670f14d.jpg</td>\n",
       "      <td>13</td>\n",
       "    </tr>\n",
       "    <tr>\n",
       "      <th>3</th>\n",
       "      <td>4f9cb2a045c6d5b9e50ad3459ea7b791eb6e18bc.jpg</td>\n",
       "      <td>13</td>\n",
       "    </tr>\n",
       "    <tr>\n",
       "      <th>4</th>\n",
       "      <td>248428d9a4a5b6229a7081c32851b90cb8d38d0c.jpg</td>\n",
       "      <td>12</td>\n",
       "    </tr>\n",
       "  </tbody>\n",
       "</table>\n",
       "</div>"
      ],
      "text/plain": [
       "                                        ImageID  ans\n",
       "0  cbc5c6e168e63498590db46022617123f1fe1268.jpg   13\n",
       "1  0e72482bf56b3581c081f7da2a6180b8792c7089.jpg    1\n",
       "2  b549040c49190cedc41327748aeb197c1670f14d.jpg   13\n",
       "3  4f9cb2a045c6d5b9e50ad3459ea7b791eb6e18bc.jpg   13\n",
       "4  248428d9a4a5b6229a7081c32851b90cb8d38d0c.jpg   12"
      ]
     },
     "execution_count": 21,
     "metadata": {},
     "output_type": "execute_result"
    }
   ],
   "source": [
    "submission.head()"
   ]
  },
  {
   "cell_type": "code",
   "execution_count": null,
   "id": "04233024-211c-4869-9d25-ea2c6b01ffab",
   "metadata": {},
   "outputs": [],
   "source": []
  }
 ],
 "metadata": {
  "kernelspec": {
   "display_name": "Python 3",
   "language": "python",
   "name": "python3"
  },
  "language_info": {
   "codemirror_mode": {
    "name": "ipython",
    "version": 3
   },
   "file_extension": ".py",
   "mimetype": "text/x-python",
   "name": "python",
   "nbconvert_exporter": "python",
   "pygments_lexer": "ipython3",
   "version": "3.8.5"
  }
 },
 "nbformat": 4,
 "nbformat_minor": 5
}
