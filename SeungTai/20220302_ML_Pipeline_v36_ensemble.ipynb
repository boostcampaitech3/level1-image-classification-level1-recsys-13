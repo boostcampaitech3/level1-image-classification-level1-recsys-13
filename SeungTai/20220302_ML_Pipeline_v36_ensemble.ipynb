{
 "cells": [
  {
   "cell_type": "code",
   "execution_count": null,
   "id": "5148d9ba-bee1-4f56-bafd-2ed16944654e",
   "metadata": {},
   "outputs": [],
   "source": [
    "import torch\n",
    "import torch.nn as nn\n",
    "import torch.nn.functional as F\n",
    "import torch.backends.cudnn as cudnn\n",
    "import torch.optim as optim\n",
    "\n",
    "from torch.utils.data import Dataset, DataLoader\n",
    "import torchvision.models as models\n",
    "from torchvision import transforms\n",
    "\n",
    "import os\n",
    "import numpy as np\n",
    "import pandas as pd\n",
    "import matplotlib as mpl\n",
    "import matplotlib.pyplot as plt\n",
    "import seaborn as sns\n",
    "\n",
    "from PIL import Image\n",
    "\n",
    "from tqdm import tqdm\n",
    "import time\n",
    "\n",
    "from sklearn.model_selection import train_test_split\n",
    "from sklearn.model_selection import StratifiedKFold\n",
    "from sklearn.metrics import f1_score\n",
    "from sklearn.metrics import confusion_matrix\n",
    "from sklearn.metrics import accuracy_score\n",
    "\n",
    "import warnings\n",
    "warnings.filterwarnings('ignore')\n",
    "\n",
    "import gc\n",
    "import argparse\n",
    "import random\n",
    "from box import Box\n",
    "import cv2\n",
    "import cvlib as cv\n",
    "# import albumentations\n",
    "import timm"
   ]
  },
  {
   "cell_type": "markdown",
   "id": "7bcb5555-cdf0-439b-a447-3f9f3f7c741d",
   "metadata": {},
   "source": [
    "# 앙상블"
   ]
  },
  {
   "cell_type": "code",
   "execution_count": null,
   "id": "09772745-16b9-4a3e-aab3-bbfa445d77b5",
   "metadata": {},
   "outputs": [],
   "source": [
    "submission_df = pd.read_csv(os.path.join(config.submission_dir, config.submission_data_name))\n",
    "sub_ages_df = pd.read_csv(os.path.join(config.submission_dir, f'{config.timm_model_name}_ages.csv'))\n",
    "sub_genders_df = pd.read_csv(os.path.join(config.submission_dir, f'{config.timm_model_name}_genders.csv'))\n",
    "sub_masks_df = pd.read_csv(os.path.join(config.submission_dir, f'{config.timm_model_name}_masks.csv'))"
   ]
  },
  {
   "cell_type": "code",
   "execution_count": null,
   "id": "e741847f-0b0f-4aa5-8fe8-0b9a30c6bc39",
   "metadata": {},
   "outputs": [],
   "source": [
    "def get_labels(masks, genders, ages):\n",
    "    return masks * 6 + genders * 3 + ages\n",
    "\n",
    "pred_li = []\n",
    "for masks_line, genders_line, ages_line in zip(sub_masks_df.iloc, sub_genders_df.iloc, sub_ages_df.iloc):\n",
    "    pred_li.append(get_labels(masks_line['ans'], genders_line['ans'], ages_line['ans']))"
   ]
  },
  {
   "cell_type": "code",
   "execution_count": null,
   "id": "ddd46823-2c6f-4740-a983-79c2dfd6e47e",
   "metadata": {},
   "outputs": [],
   "source": [
    "submission_df['ans'] = pred_li"
   ]
  },
  {
   "cell_type": "code",
   "execution_count": null,
   "id": "6dc29e6d-d00c-4d40-9507-6fda61db939b",
   "metadata": {},
   "outputs": [],
   "source": [
    "submission_df.to_csv(os.path.join(config.submission_dir, 'ages_genders_masks_ensemble.csv'), index=False)\n",
    "submission_df.head()"
   ]
  }
 ],
 "metadata": {
  "kernelspec": {
   "display_name": "Python 3 (ipykernel)",
   "language": "python",
   "name": "python3"
  },
  "language_info": {
   "codemirror_mode": {
    "name": "ipython",
    "version": 3
   },
   "file_extension": ".py",
   "mimetype": "text/x-python",
   "name": "python",
   "nbconvert_exporter": "python",
   "pygments_lexer": "ipython3",
   "version": "3.8.5"
  }
 },
 "nbformat": 4,
 "nbformat_minor": 5
}
