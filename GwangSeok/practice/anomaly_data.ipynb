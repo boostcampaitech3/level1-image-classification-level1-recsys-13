{
 "cells": [
  {
   "cell_type": "markdown",
   "metadata": {},
   "source": [
    "* 이상치 데이터를 수정해보자.(파일에 적용)"
   ]
  },
  {
   "cell_type": "code",
   "execution_count": null,
   "metadata": {},
   "outputs": [],
   "source": [
    "import pandas as pd\n",
    "import os\n",
    "import shutil\n",
    "\n",
    "os.chdir(\"../../\")"
   ]
  },
  {
   "cell_type": "code",
   "execution_count": null,
   "metadata": {},
   "outputs": [],
   "source": [
    "class ConvertDataInfo():\n",
    "    \"\"\"\n",
    "    해당 문제에서 중요한 정보는 gender, mask, age이다.\n",
    "    이부분과 관련된 이상 데이터가 있다면, 수정을 해준다.\n",
    "    \"\"\"\n",
    "    def __init__(self) -> None:\n",
    "        self.data_dir = os.path.join(os.getcwd(), 'input', 'data')\n",
    "        self.train_data_dir = os.path.join(self.data_dir, 'train')\n",
    "        self.train_data_meta_info = pd.read_csv(os.path.join(self.train_data_dir, 'train.csv'), index_col=0)\n",
    "        self.train_data_image_dir = os.path.join(self.train_data_dir, 'images')\n",
    "\n",
    "    \n",
    "    def changeGender(self, file_path: str, gender: str) -> None:\n",
    "        row_of_change_data = self.train_data_meta_info.query(f\"path == \\'{file_path}\\'\")\n",
    "        data_values = row_of_change_data.values.tolist()[0]\n",
    "        data_values[1] = gender\n",
    "        data_values[4] = self._changeGenderPath(True if gender == 'male' else False, data_values[4])\n",
    "        data_idx = int(row_of_change_data.index[0])\n",
    "        self.train_data_meta_info.iloc[data_idx] = data_values\n",
    "\n",
    "\n",
    "    def _changeGenderPath(self, is_male: bool, path_value: str) -> str:\n",
    "        if is_male:\n",
    "            path_value_chaned = path_value.replace('female', 'male')            \n",
    "        else:\n",
    "            path_value_chaned = path_value.replace('male', 'female')\n",
    "\n",
    "        image_dir_name = os.path.join(self.train_data_image_dir, path_value)\n",
    "        image_dir_name_chaned = os.path.join(self.train_data_image_dir, path_value_chaned)\n",
    "        \n",
    "        if os.path.isdir(image_dir_name):\n",
    "            shutil.move(image_dir_name, image_dir_name_chaned)\n",
    "\n",
    "        return path_value_chaned\n",
    "\n",
    "\n",
    "    def changeAge(self, file_path: str, age: int) -> None:\n",
    "        pass\n",
    "\n",
    "\n",
    "    def swapTitle(self, file_path: str, titles: list) -> None:\n",
    "        image_dir_path = os.path.join(self.train_data_image_dir, file_path)\n",
    "\n",
    "        prev_image_file_name = os.path.join(image_dir_path, titles[0])\n",
    "        temp_after_image_file_name = os.path.join(image_dir_path, 'temp.jpg')\n",
    "        shutil.move(prev_image_file_name, temp_after_image_file_name)\n",
    "\n",
    "        prev_image_file_name = os.path.join(image_dir_path, titles[1])\n",
    "        after_image_file_name = os.path.join(image_dir_path, titles[0])\n",
    "        shutil.move(prev_image_file_name, after_image_file_name)\n",
    "\n",
    "        after_image_file_name = os.path.join(image_dir_path, titles[1])\n",
    "        shutil.move(temp_after_image_file_name, after_image_file_name)\n",
    "\n",
    "\n",
    "\n",
    "    def finishConvert(self, csv_name: str) -> None:\n",
    "        self.train_data_meta_info.to_csv(os.path.join(self.train_data_dir, csv_name), index=False)\n",
    "\n",
    "\n",
    "convertor = ConvertDataInfo()"
   ]
  },
  {
   "cell_type": "code",
   "execution_count": null,
   "metadata": {},
   "outputs": [],
   "source": [
    "# 게시판 3번 Posted by 강영석_T3006\n",
    "file_path_list = [f'00{id}_female_Asian_18' for id in range(6359, 6365)]\n",
    "gender_list = ['male' for _ in range(6359, 6365)]\n",
    "\n",
    "\n",
    "# 게시판 3번 Posted by 강영석_T3006\n",
    "# Commented by 구창회_T3011\n",
    "file_path_list.extend(['001498-1_male_Asian_23', '004432_male_Asian_43'])\n",
    "gender_list.extned(['femal']*2)\n",
    "\n",
    "\n",
    "for path, gender in zip(file_path_list, gender_list):\n",
    "    convertor.changeGender(file_path=path, gender=gender)"
   ]
  },
  {
   "cell_type": "code",
   "execution_count": null,
   "metadata": {},
   "outputs": [],
   "source": [
    "# 게시판 8번 Posted by 강영석_T3006\n",
    "file_path_list = ['000020_female_Asian_50', '004418_male_Asian_20']\n",
    "\n",
    "# 게시판 3번 Posted by 강영석_T3006\n",
    "# Commented by 구창회_T3011\n",
    "file_path_list.append('005227_male_Asian_22')\n",
    "\n",
    "for path in file_path_list:\n",
    "    convertor.swapTitle(\n",
    "        file_path=path,\n",
    "        titles=['incorrect_mask.jpg', 'normal.jpg']\n",
    "    )"
   ]
  },
  {
   "cell_type": "code",
   "execution_count": null,
   "metadata": {},
   "outputs": [],
   "source": [
    "convertor.finishConvert('train.csv')"
   ]
  },
  {
   "cell_type": "code",
   "execution_count": null,
   "metadata": {},
   "outputs": [],
   "source": []
  }
 ],
 "metadata": {
  "interpreter": {
   "hash": "d4d1e4263499bec80672ea0156c357c1ee493ec2b1c70f0acce89fc37c4a6abe"
  },
  "kernelspec": {
   "display_name": "Python 3 (ipykernel)",
   "language": "python",
   "name": "python3"
  },
  "language_info": {
   "codemirror_mode": {
    "name": "ipython",
    "version": 3
   },
   "file_extension": ".py",
   "mimetype": "text/x-python",
   "name": "python",
   "nbconvert_exporter": "python",
   "pygments_lexer": "ipython3",
   "version": "3.8.5"
  }
 },
 "nbformat": 4,
 "nbformat_minor": 4
}
