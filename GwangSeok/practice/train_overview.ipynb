{
 "cells": [
  {
   "cell_type": "markdown",
   "id": "fa1e8f9b",
   "metadata": {},
   "source": [
    "# 1. Data Understanding\n",
    "## 1.1. Problem Definition\n",
    "\n",
    "* `내가 지금 풀어야 할 문제는?`\n",
    "    * 사람 얼굴 이미지만으로 이 사람이 마스크를 쓰고 있는지, 쓰지 않았는지, 정확히 쓴 것이 맞는지 자동으로 가려낼 수 있는 시스템\n",
    "* `이 문제의 input과 output은?`\n",
    "    * input: 이미지, output: 마스크 착용 상태\n",
    "* `이 솔류션이 어디서 어떻게 사용되어지는가?`\n",
    "    * 넓은 공공장소에서 카메라로 비춰진 사람 얼굴 이미지 만으로 모든 사람들의 올바른 마스크 착용 상태를 검사\n",
    "\n",
    "## 1.2. Evaluation Description\n",
    "\n",
    "* submission.csv 파일은 다음과 같은 포맷으로 구성 되어야 한다.\n",
    "  * 각 이미지들에 대해서 mask_class(ans) 를 예측한 값이 콤마(,)로 구분된 형태\n",
    "  * 제출 파일은 ImageID,ans 형식으로 헤더를 포함\n",
    "* Submission 파일에 대한 평가는 F1 Score 를 통해 진행   \n",
    "![f1_score](https://forums.fast.ai/uploads/default/original/3X/c/c/cca1b3ad72fc927fbf3d3690f01d2e3b5a31dd2e.png)\n",
    "\n",
    "## 1.3. Dataset description\n",
    "\n",
    "* 모든 데이터셋은 아시아인 남녀로 구성되어 있고 나이는 20대부터 70대까지 다양하게 분포하고 있습니다.\n",
    "  * 전체 사람 명 수 : 4,500\n",
    "  * 한 사람당 사진의 개수: 7 [마스크 착용 5장, 이상하게 착용(코스크, 턱스크) 1장, 미착용 1장]\n",
    "  * 이미지 크기: (384, 512)\n",
    "* 학습 데이터와 평가 데이터를 구분하기 위해 임의로 섞어서 분할하였습니다. \n",
    "  * 60%의 사람들은 학습 데이터셋: 2,700\n",
    "  * 20%는 public 테스트셋\n",
    "  * 20%는 private 테스트셋으로 사용됩니다\n",
    "* 대회의 리더보드 점수는 public 테스트셋으로 계산이 됩니다. \n",
    "* 마지막 순위는 private 테스트셋을 통해 산출한 점수로 확정됩니다. \n",
    "* private 테스트셋의 점수는 대회가 진행되는 동안 볼 수 없습니다.\n",
    "* `입력값`: 이미지\n",
    "  * 마스크 착용 사진, 미착용 사진, 혹은 이상하게 착용한 사진(코스크, 턱스크)\n",
    "* `출력값`: 18개 classes   \n",
    "<img src=\"https://cphinf.pstatic.net/mooc/20210316_8/1615898405992ronk2_PNG/mceclip1.png\" width=1000px height=1000px alt=classes></img>\n",
    "\n",
    "\n",
    "# 2. Data Mining\n",
    "\n",
    "* 제공되어 있는 data만 사용"
   ]
  }
 ],
 "metadata": {
  "interpreter": {
   "hash": "d4d1e4263499bec80672ea0156c357c1ee493ec2b1c70f0acce89fc37c4a6abe"
  },
  "kernelspec": {
   "display_name": "Python 3 (ipykernel)",
   "language": "python",
   "name": "python3"
  },
  "language_info": {
   "codemirror_mode": {
    "name": "ipython",
    "version": 3
   },
   "file_extension": ".py",
   "mimetype": "text/x-python",
   "name": "python",
   "nbconvert_exporter": "python",
   "pygments_lexer": "ipython3",
   "version": "3.8.5"
  }
 },
 "nbformat": 4,
 "nbformat_minor": 5
}
