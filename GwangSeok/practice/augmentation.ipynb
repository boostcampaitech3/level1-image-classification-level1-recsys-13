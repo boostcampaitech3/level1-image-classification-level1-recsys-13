{
 "cells": [
  {
   "cell_type": "markdown",
   "metadata": {},
   "source": [
    "# 데이터 셋 전처리하는 방법인 Data Augmentation을 시각화를 해보자.\n",
    "\n",
    "* resize\n",
    "* flip\n",
    "* brigthness\n",
    "* blur"
   ]
  },
  {
   "cell_type": "code",
   "execution_count": null,
   "metadata": {},
   "outputs": [],
   "source": [
    "import os\n",
    "import pandas as pd\n",
    "import numpy as np\n",
    "import matplotlib as mpl\n",
    "import matplotlib.pyplot as plt\n",
    "import seaborn as sns\n",
    "\n",
    "from PIL import Image\n",
    "from glob import glob\n",
    "\n",
    "import torch\n",
    "from torchvision import transforms\n",
    "\n",
    "import cv2\n",
    "import albumentations as A"
   ]
  },
  {
   "cell_type": "code",
   "execution_count": null,
   "metadata": {},
   "outputs": [],
   "source": [
    "os.chdir(\"../../../\")"
   ]
  },
  {
   "cell_type": "code",
   "execution_count": null,
   "metadata": {},
   "outputs": [],
   "source": [
    "data_dir = os.path.join(os.getcwd(), 'input', 'data')\n",
    "\n",
    "img_path = os.path.join(data_dir, 'train', 'images')\n",
    "\n",
    "img_element = os.path.join(img_path, '003101_female_Asian_18', 'mask4.jpg')\n",
    "img = np.array(Image.open(img_element))\n",
    "\n",
    "# img_paths = glob(img_path, '**/*')"
   ]
  },
  {
   "cell_type": "code",
   "execution_count": null,
   "metadata": {},
   "outputs": [],
   "source": [
    "def one_image_show(img: np.array, figsize = (8,8)):\n",
    "    fig, ax = plt.subplots(1, 1, figsize=figsize, facecolor='white')\n",
    "    ax.set_xticks([])\n",
    "    ax.set_yticks([])\n",
    "    ax.imshow(img.astype(int))"
   ]
  },
  {
   "cell_type": "code",
   "execution_count": null,
   "metadata": {},
   "outputs": [],
   "source": [
    "one_image_show(img, (16, 8))"
   ]
  },
  {
   "cell_type": "markdown",
   "metadata": {
    "tags": []
   },
   "source": [
    "# 1. Resize"
   ]
  },
  {
   "cell_type": "code",
   "execution_count": null,
   "metadata": {},
   "outputs": [],
   "source": [
    "# result = Resize(height=512, width=512, interpolation=1,  p=1)(image=img)['image']\n",
    "\n",
    "transform = A.Compose([\n",
    "    A.Resize(512, 512, interpolation=1, p=1),\n",
    "    ], p=1)\n",
    "\n",
    "result = transform(image=img)['image']\n",
    "\n",
    "one_image_show(result)"
   ]
  },
  {
   "cell_type": "markdown",
   "metadata": {},
   "source": [
    "# 2. Flip"
   ]
  },
  {
   "cell_type": "code",
   "execution_count": null,
   "metadata": {},
   "outputs": [],
   "source": [
    "transform = A.Compose([\n",
    "    A.HorizontalFlip(p=1.0),\n",
    "    # A.VerticalFlip(p=1.0)\n",
    "    ], p=1)\n",
    "\n",
    "result = transform(image=img)['image']\n",
    "\n",
    "one_image_show(result)"
   ]
  },
  {
   "cell_type": "markdown",
   "metadata": {},
   "source": [
    "# 3. Crop"
   ]
  },
  {
   "cell_type": "code",
   "execution_count": null,
   "metadata": {},
   "outputs": [],
   "source": [
    "trfm = A.Compose([\n",
    "    A.CenterCrop(height=300, width=300, p=1),\n",
    "    # A.RandomCrop(width=100, height=100),\n",
    "    ], p=1)\n",
    "\n",
    "result = trfm(image=img)['image']\n",
    "\n",
    "one_image_show(result)"
   ]
  },
  {
   "cell_type": "markdown",
   "metadata": {},
   "source": [
    "# 4. Rotate"
   ]
  },
  {
   "cell_type": "code",
   "execution_count": null,
   "metadata": {},
   "outputs": [],
   "source": [
    "trfm = A.Compose([\n",
    "    # A.Rotate(limit=10, p=1),\n",
    "    A.ShiftScaleRotate(\n",
    "        shift_limit=0.2, # 사진이 이동하는 정도\n",
    "        scale_limit=0.0001, # 사진이 커지는 정도\n",
    "        rotate_limit=20, # 사진이 돌아가는 정도\n",
    "        p=1),\n",
    "    ], p=1)\n",
    "\n",
    "result = trfm(image=img)['image']\n",
    "one_image_show(result)"
   ]
  },
  {
   "cell_type": "markdown",
   "metadata": {},
   "source": [
    "# 5. Blur"
   ]
  },
  {
   "cell_type": "code",
   "execution_count": null,
   "metadata": {},
   "outputs": [],
   "source": [
    "trfm = A.Compose([\n",
    "    # A.GaussianBlur(\n",
    "    #     blur_limit=1, # 숫자가 커지면 더 흐려진다.\n",
    "    #     p=1,\n",
    "    # ),\n",
    "    # A.GlassBlur(p=1),\n",
    "    A.MotionBlur(\n",
    "        blur_limit = 91,\n",
    "        p=1),\n",
    "    ], p=1)\n",
    "\n",
    "result = trfm(image=img)['image']\n",
    "\n",
    "one_image_show(result)"
   ]
  },
  {
   "cell_type": "markdown",
   "metadata": {},
   "source": [
    "# 6. Brightness, Contrast"
   ]
  },
  {
   "cell_type": "code",
   "execution_count": null,
   "metadata": {},
   "outputs": [],
   "source": [
    "trfm = A.Compose([\n",
    "    A.RandomBrightnessContrast(\n",
    "        brightness_limit=0.5,\n",
    "        contrast_limit=0.4,\n",
    "        brightness_by_max=True,\n",
    "        p=1,\n",
    "    )\n",
    "    ],p=1)\n",
    "\n",
    "result = trfm(image=img)['image']\n",
    "one_image_show(result)"
   ]
  },
  {
   "cell_type": "markdown",
   "metadata": {},
   "source": [
    "# 7. Noise"
   ]
  },
  {
   "cell_type": "code",
   "execution_count": null,
   "metadata": {},
   "outputs": [],
   "source": [
    "trfm = A.Compose([\n",
    "    # A.GaussNoise(\n",
    "    #     var_limit=(1600, 2000), # 최소 ~ 최대\n",
    "    #     p=1\n",
    "    # ),\n",
    "    # A.ISONoise(\n",
    "    #     color_shift=(5, 17),\n",
    "    #     p=1)\n",
    "    ],p=1)\n",
    "\n",
    "result = trfm(image=img)['image']\n",
    "one_image_show(result)"
   ]
  },
  {
   "cell_type": "code",
   "execution_count": null,
   "metadata": {},
   "outputs": [],
   "source": []
  }
 ],
 "metadata": {
  "interpreter": {
   "hash": "d4d1e4263499bec80672ea0156c357c1ee493ec2b1c70f0acce89fc37c4a6abe"
  },
  "kernelspec": {
   "display_name": "Python 3 (ipykernel)",
   "language": "python",
   "name": "python3"
  },
  "language_info": {
   "codemirror_mode": {
    "name": "ipython",
    "version": 3
   },
   "file_extension": ".py",
   "mimetype": "text/x-python",
   "name": "python",
   "nbconvert_exporter": "python",
   "pygments_lexer": "ipython3",
   "version": "3.8.5"
  }
 },
 "nbformat": 4,
 "nbformat_minor": 4
}
