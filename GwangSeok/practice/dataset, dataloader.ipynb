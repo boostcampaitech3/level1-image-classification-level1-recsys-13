{
 "cells": [
  {
   "cell_type": "code",
   "execution_count": 10,
   "metadata": {},
   "outputs": [],
   "source": [
    "import os\n",
    "import pandas as pd\n",
    "import numpy as np\n",
    "import torch\n",
    "from box import Box\n",
    "\n",
    "from torch.utils.data import Dataset, DataLoader\n",
    "\n",
    "from sklearn.model_selection import StratifiedKFold\n",
    "\n",
    "from typing import Tuple, List"
   ]
  },
  {
   "cell_type": "code",
   "execution_count": 2,
   "metadata": {},
   "outputs": [],
   "source": [
    "os.chdir('../../..')"
   ]
  },
  {
   "cell_type": "code",
   "execution_count": 3,
   "metadata": {},
   "outputs": [],
   "source": [
    "class DirFilePath:\n",
    "    data_dir = os.path.join(os.getcwd(), 'input', 'data')\n",
    "    train_dir = os.path.join(data_dir, 'train')\n",
    "    train_meta = os.path.join(train_dir, 'train.csv')\n",
    "    train_image_dir = os.path.join(train_dir, 'images')\n",
    "    eval_dir = os.path.join(data_dir, 'eval')\n",
    "    eval_meta = os.path.join(eval_dir, 'info.csv')\n",
    "    eval_image_dir = os.path.join(eval_dir, 'images')"
   ]
  },
  {
   "cell_type": "code",
   "execution_count": 19,
   "metadata": {},
   "outputs": [
    {
     "name": "stdout",
     "output_type": "stream",
     "text": [
      "TRAIN: [ 0  2  4  5  6  7  8  9 12 13 14 15 16 17 18 19 20 21 23 24 25 26 27 29\n",
      " 31 32 33 34 36 37 38 39 41 42 43 45 46 47 48 49] TEST: [ 1  3 10 11 22 28 30 35 40 44]\n",
      "TRAIN: [ 0  1  2  3  4  6  7  9 10 11 12 13 15 16 17 18 20 22 23 24 25 27 28 29\n",
      " 30 31 32 34 35 37 38 39 40 41 42 43 44 45 46 49] TEST: [ 5  8 14 19 21 26 33 36 47 48]\n",
      "TRAIN: [ 0  1  3  4  5  6  8  9 10 11 12 14 16 17 18 19 20 21 22 23 24 26 27 28\n",
      " 30 31 32 33 34 35 36 39 40 43 44 45 46 47 48 49] TEST: [ 2  7 13 15 25 29 37 38 41 42]\n",
      "TRAIN: [ 0  1  2  3  5  6  7  8 10 11 12 13 14 15 17 19 20 21 22 24 25 26 28 29\n",
      " 30 33 34 35 36 37 38 39 40 41 42 43 44 47 48 49] TEST: [ 4  9 16 18 23 27 31 32 45 46]\n",
      "TRAIN: [ 1  2  3  4  5  7  8  9 10 11 13 14 15 16 18 19 21 22 23 25 26 27 28 29\n",
      " 30 31 32 33 35 36 37 38 40 41 42 44 45 46 47 48] TEST: [ 0  6 12 17 20 24 34 39 43 49]\n"
     ]
    }
   ],
   "source": [
    "skf = StratifiedKFold(n_splits=5, shuffle=True, random_state=42)\n",
    "for train_index, test_index in skf.split(test['id'].values, test['label'].values):\n",
    "    print(\"TRAIN:\", train_index, \"TEST:\", test_index)"
   ]
  },
  {
   "cell_type": "code",
   "execution_count": 8,
   "metadata": {},
   "outputs": [
    {
     "ename": "SyntaxError",
     "evalue": "invalid syntax (369313628.py, line 7)",
     "output_type": "error",
     "traceback": [
      "\u001b[0;36m  File \u001b[0;32m\"/tmp/ipykernel_4919/369313628.py\"\u001b[0;36m, line \u001b[0;32m7\u001b[0m\n\u001b[0;31m    def splitTrainValidDataset(meta_df = None: pd.DataFrame, seed = None: int): # -> tuple(pd.DataFrame, pd.DataFrame):\u001b[0m\n\u001b[0m                                             ^\u001b[0m\n\u001b[0;31mSyntaxError\u001b[0m\u001b[0;31m:\u001b[0m invalid syntax\n"
     ]
    }
   ],
   "source": [
    "class Preprocessing:\n",
    "    def recreateDataframe(meta_df: pd.DataFrame, ):\n",
    "        \"\"\"\n",
    "        id, gender, race, age, path\n",
    "        -> file_path, \n",
    "        \"\"\"\n",
    "    \n",
    "    def splitMetaDatasetAtAge(meta_df: pd.DataFrame, seed: int) -> Tuple[pd.DataFrame, pd.DataFrame]:\n",
    "        skf = StratifiedKFold(\n",
    "            n_splits=config.numfold, \n",
    "            shuffle=config.is_shuffle, \n",
    "            random_state=config.seed if config.is_shuffle else False\n",
    "            )\n",
    "\n",
    "        \n",
    "        \n",
    "    \n",
    "    # def insertLabel"
   ]
  },
  {
   "cell_type": "code",
   "execution_count": null,
   "metadata": {},
   "outputs": [],
   "source": [
    "train_meta_df = pd.read_csv(DirFilePath.train_meta)\n",
    "re_train_df = Preprocessing.recreateDataframe(train_meta_df)"
   ]
  },
  {
   "cell_type": "code",
   "execution_count": null,
   "metadata": {},
   "outputs": [],
   "source": [
    "config = {\n",
    "    'seed': 42,\n",
    "    'num_fold': 5,\n",
    "    'is_shuffle': True,\n",
    "    }\n",
    "\n",
    "config = Box(config)"
   ]
  },
  {
   "cell_type": "code",
   "execution_count": null,
   "metadata": {},
   "outputs": [],
   "source": [
    "def splitData():\n",
    "    "
   ]
  },
  {
   "cell_type": "code",
   "execution_count": null,
   "metadata": {},
   "outputs": [],
   "source": [
    "class TrainDataset(Dataset):\n",
    "    def __init__(self):\n",
    "        pass\n",
    "\n",
    "    def __getitem__(self):\n",
    "        pass\n",
    "\n",
    "    def __len__(self):\n",
    "        pass\n"
   ]
  }
 ],
 "metadata": {
  "interpreter": {
   "hash": "d4d1e4263499bec80672ea0156c357c1ee493ec2b1c70f0acce89fc37c4a6abe"
  },
  "kernelspec": {
   "display_name": "Python 3.8.5 ('base')",
   "language": "python",
   "name": "python3"
  },
  "language_info": {
   "codemirror_mode": {
    "name": "ipython",
    "version": 3
   },
   "file_extension": ".py",
   "mimetype": "text/x-python",
   "name": "python",
   "nbconvert_exporter": "python",
   "pygments_lexer": "ipython3",
   "version": "3.8.5"
  },
  "orig_nbformat": 4
 },
 "nbformat": 4,
 "nbformat_minor": 2
}
