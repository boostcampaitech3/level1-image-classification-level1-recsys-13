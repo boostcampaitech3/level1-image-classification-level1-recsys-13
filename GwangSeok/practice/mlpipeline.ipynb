{
 "cells": [
  {
   "cell_type": "markdown",
   "metadata": {},
   "source": [
    "# 1. 기본 세팅\n",
    "    - import module\n",
    "    - set basic path\n",
    "    - config 설정\n",
    "    - seed 고정"
   ]
  },
  {
   "cell_type": "code",
   "execution_count": 1,
   "metadata": {},
   "outputs": [],
   "source": [
    "import os\n",
    "import pandas as pd\n",
    "import numpy as np\n",
    "import matplotlib as mlt\n",
    "import matplotlib.pyplot as plt\n",
    "from PIL import Image\n",
    "from box import Box\n",
    "from typing import Tuple, List\n",
    "from tqdm import tqdm\n",
    "\n",
    "import torch\n",
    "import torch.nn as nn\n",
    "import torch.nn.functional as F\n",
    "from torch.utils.data import Dataset, DataLoader\n",
    "from sklearn.model_selection import StratifiedKFold\n",
    "\n",
    "import random\n",
    "from torchvision import transforms"
   ]
  },
  {
   "cell_type": "code",
   "execution_count": 2,
   "metadata": {},
   "outputs": [],
   "source": [
    "class DirFilePath:\n",
    "    base_path = os.path.join('/opt', 'ml')\n",
    "    data_dir = os.path.join(base_path, 'input', 'data')\n",
    "    train_dir = os.path.join(data_dir, 'train')\n",
    "    train_meta = os.path.join(train_dir, 'train.csv')\n",
    "    train_image_dir = os.path.join(train_dir, 'images')\n",
    "    eval_dir = os.path.join(data_dir, 'eval')\n",
    "    eval_meta = os.path.join(eval_dir, 'info.csv')\n",
    "    eval_image_dir = os.path.join(eval_dir, 'images')"
   ]
  },
  {
   "cell_type": "code",
   "execution_count": 3,
   "metadata": {},
   "outputs": [],
   "source": [
    "device = 'cuda' if torch.cuda.is_available() else 'cpu'\n",
    "timm_model = 'regnetx_002'\n",
    "config = {\n",
    "    'seed': 42,\n",
    "    \n",
    "    'num_fold': 5,\n",
    "    'num_split_fold': 5,\n",
    "    'split__shuffle': True,\n",
    "    'split_base_col': 'split_base',\n",
    "    \n",
    "    'image_normal_mean': [0.55800916, 0.51224077, 0.47767341],\n",
    "    'image_normal_std': [0.21817792, 0.23804603, 0.25183411],\n",
    "    \n",
    "    \n",
    "    'timm_model_name': timm_model,\n",
    "    'num_classes': 18,\n",
    "    'batch_size': 1,\n",
    "    'num_workers': 3,\n",
    "    'device': device,\n",
    "    }\n",
    "\n",
    "config = Box(config)"
   ]
  },
  {
   "cell_type": "code",
   "execution_count": 4,
   "metadata": {},
   "outputs": [],
   "source": [
    "def seed_everything(seed):\n",
    "    torch.manual_seed(seed) # transforms seed 고정\n",
    "    torch.cuda.manual_seed(seed)\n",
    "    torch.cuda.manual_seed_all(seed)  # if use multi-GPU\n",
    "    torch.backends.cudnn.deterministic = True\n",
    "    torch.backends.cudnn.benchmark = False\n",
    "    np.random.seed(seed)\n",
    "    random.seed(seed)\n",
    "    \n",
    "seed_everything(config.seed)"
   ]
  },
  {
   "cell_type": "markdown",
   "metadata": {},
   "source": [
    "# 2. 데이터 전처리\n",
    "    - 이상 데이터 처리\n",
    "    - gender, age 인코딩\n",
    "        - male: 0, female: 1 ==> replace=True\n",
    "        - <30: 0, 30 <= and < 60: 1, >=60: 2 ==> replace=False\n",
    "    - train_meta_df\n",
    "        - columns: id(str), gender(int), age(int), path(str), ages(int), split_base(int)\n",
    "    - train_images_df\n",
    "        - columns: gender(int), age(int), ages(int), path(str), file_path(str), mask(int), label(int)\n",
    "        - labeling.csv로 저장"
   ]
  },
  {
   "cell_type": "code",
   "execution_count": 5,
   "metadata": {},
   "outputs": [],
   "source": [
    "class Preprocessing:\n",
    "    @classmethod\n",
    "    def recreateMetaDataFrame(cls, meta_df: pd.DataFrame) -> pd.DataFrame:\n",
    "        \"\"\"\n",
    "        meta_df: id(str), gender(str), race(str), age(int), path(str)\n",
    "        -> meta_df: id(str), gender(int), age(int), path(str), ages(int), split_base(int)\n",
    "        \"\"\"\n",
    "        # cls._modifyAnomalyFilename()\n",
    "        meta_df = cls._modifyAnomalyGender(meta_df)\n",
    "        meta_df = cls._encodeAgeGender(meta_df)\n",
    "        return meta_df\n",
    "    \n",
    "    \n",
    "    @classmethod\n",
    "    def createImageDataFrmae(cls, meta_df: pd.DataFrame) -> pd.DataFrame:\n",
    "        \"\"\"\n",
    "        meta_df: id(str), gender(int), age(int), path(str), ages(int), split_base(int)\n",
    "        -> info_df: gender(int), age(int), ages(int), path(str), file_path(str), mask(int), label(int)\n",
    "        \"\"\"\n",
    "        info_df = cls._metaToImageDataFrame(meta_df)\n",
    "        return info_df\n",
    "    \n",
    "    def _metaToImageDataFrame(meta_df: pd.DataFrame) -> pd.DataFrame:\n",
    "        info_df = pd.DataFrame(None, columns=['gender', 'age', 'ages', 'path', 'file_path', 'mask', 'label'])\n",
    "    \n",
    "        for idx, row in tqdm(meta_df.iterrows(), total=meta_df.shape[0]):\n",
    "            image_dir_path = os.path.join(DirFilePath.train_image_dir, row['path'])\n",
    "            for image_file_name in os.listdir(image_dir_path):\n",
    "                if image_file_name[0] == '.':\n",
    "                    continue\n",
    "\n",
    "                if image_file_name.split('.')[0] == 'normal':\n",
    "                    mask = 2\n",
    "                elif image_file_name.split('.')[1] == 'incorrect_mask':\n",
    "                    mask = 1\n",
    "                else:\n",
    "                    mask = 0\n",
    "\n",
    "                data = {\n",
    "                    'gender': row['gender'],\n",
    "                    'age': row['age'],\n",
    "                    'ages': row['ages'],\n",
    "                    'path': row['path'],\n",
    "                    'file_path': os.path.join(image_dir_path, image_file_name),\n",
    "                    'mask': mask,\n",
    "                    'label': mask * 6 + row['gender'] * 3 + row['ages']\n",
    "                }\n",
    "\n",
    "                info_df = info_df.append(data, ignore_index=True)\n",
    "\n",
    "        info_df.to_csv(os.path.join(DirFilePath.train_dir, 'labeling.csv'), index=False)\n",
    "        print('create image file data frame doen!')\n",
    "        \n",
    "        return info_df\n",
    "        \n",
    "    \n",
    "    def _setAges(age: int) -> int:\n",
    "        if age < 30:\n",
    "            return 0\n",
    "        elif age < 60:\n",
    "            return 1\n",
    "        else:\n",
    "            return 2\n",
    "        \n",
    "    \n",
    "    def _setGender(gender: str) -> int:\n",
    "        if gender == 'male':\n",
    "            return 0\n",
    "        return 1\n",
    "    \n",
    "    \n",
    "    @classmethod\n",
    "    def _encodeAgeGender(cls, prev_df: pd.DataFrame) -> pd.DataFrame:\n",
    "        ret_df = prev_df.copy()\n",
    "        ret_df['ages'] = prev_df['age'].apply(lambda x : cls._setAges(x))\n",
    "        ret_df['gender'] = prev_df['gender'].apply(lambda x : cls._setGender(x))\n",
    "        ret_df['split_base'] = 3 * ret_df['gender'] + ret_df['ages']\n",
    "        ret_df = ret_df.drop(labels='race', axis=1)\n",
    "        \n",
    "        print('encode age and gender done!')\n",
    "        \n",
    "        return ret_df\n",
    "    \n",
    "    def _genderSwapList() -> Tuple[list, list]:    \n",
    "        # 게시판 3번 Posted by 강영석_T3006\n",
    "        gender_anomaly_file_path_list = [f'00{id}_female_Asian_18' for id in range(6359, 6365)]\n",
    "        gender_list = ['male' for _ in range(6359, 6365)]\n",
    "\n",
    "\n",
    "        # 게시판 3번 Posted by 강영석_T3006\n",
    "        # Commented by 구창회_T3011\n",
    "        gender_anomaly_file_path_list.extend(['001498-1_male_Asian_23', '004432_male_Asian_43'])\n",
    "        gender_list.extned(['femal']*2)\n",
    "        \n",
    "        return gender_anomaly_list, gender_list\n",
    "    \n",
    "    \n",
    "    @classmethod  \n",
    "    def _modifyAnomalyGender(cls, meta_df: pd.DataFrame) -> pd.DataFrame:\n",
    "        gender_anomaly_list, gender_list = cls._genderAnomalyList()\n",
    "        for path_name, correct_gender in zip(gender_anomaly_list, gender_list):\n",
    "            meta_df.loc[meta_df.query(f\"path == \\'{path_name}\\'\").index, 'gender'] = correct_gender\n",
    "        \n",
    "        print('modify anomaly gender done!')\n",
    "        return meta_df\n",
    "        \n",
    "        \n",
    "    def _genderAnomalyList() -> Tuple[list, list]:    \n",
    "        # 게시판 3번 Posted by 강영석_T3006\n",
    "        gender_anomaly_list = [f'00{id}_female_Asian_18' for id in range(6359, 6365)]\n",
    "        gender_list = ['male' for _ in range(6359, 6365)]\n",
    "\n",
    "\n",
    "        # 게시판 3번 Posted by 강영석_T3006\n",
    "        # Commented by 구창회_T3011\n",
    "        gender_anomaly_list.extend(['001498-1_male_Asian_23', '004432_male_Asian_43'])\n",
    "        gender_list.extend(['female']*2)\n",
    "        \n",
    "        return gender_anomaly_list, gender_list\n",
    "    \n",
    "    \n",
    "    @classmethod\n",
    "    def _modifyAnomalyFilename(cls, titles=['incorrect_mask.jpg', 'normal.jpg']) -> None:\n",
    "        \"\"\"\n",
    "        swap titels[0] <-> titles[1]\n",
    "        \"\"\"\n",
    "        filename_anomaly_list = cls._filenameAnomalyList()\n",
    "\n",
    "        for image_dir in filename_anomaly_list:\n",
    "            image_dir_path = os.path.join(DirFilePath.train_image_dir, image_dir)\n",
    "\n",
    "            prev_image_file_name = os.path.join(image_dir_path, titles[0])\n",
    "            if cls._isFileChanged(prev_image_file_name):\n",
    "                print(f'{prev_image_file_name} is already changed!')\n",
    "                continue\n",
    "            else:\n",
    "                print(f'{prev_image_file_name} is changing')\n",
    "\n",
    "            temp_after_image_file_name = os.path.join(image_dir_path, 'temp.jpg')\n",
    "            os.rename(prev_image_file_name, temp_after_image_file_name)\n",
    "\n",
    "            prev_image_file_name = os.path.join(image_dir_path, titles[1])\n",
    "            after_image_file_name = os.path.join(image_dir_path, titles[0])\n",
    "            os.rename(prev_image_file_name, after_image_file_name)\n",
    "\n",
    "            after_image_file_name = os.path.join(image_dir_path, titles[1])\n",
    "            os.rename(temp_after_image_file_name, after_image_file_name)\n",
    "\n",
    "        print('modify anomaly filename done!')\n",
    "        \n",
    "    def _isFileChanged(file_path: str) -> bool: # check if file changed based on last modified time \n",
    "        # os.path.getmtime(file_path) not working...\n",
    "        # file system 문제...?\n",
    "        if os.path.getctime(file_path) > 1646000000.0: \n",
    "            return True \n",
    "\n",
    "        return False\n",
    "    \n",
    "    def _filenameAnomalyList() -> list:\n",
    "        # 게시판 8번 Posted by 강영석_T3006\n",
    "        filename_anomaly_list = ['000020_female_Asian_50', '004418_male_Asian_20']\n",
    "\n",
    "        # 게시판 3번 Posted by 강영석_T3006\n",
    "        # Commented by 구창회_T3011\n",
    "        filename_anomaly_list.append('005227_male_Asian_22')\n",
    "        \n",
    "        return filename_anomaly_list"
   ]
  },
  {
   "cell_type": "code",
   "execution_count": 6,
   "metadata": {},
   "outputs": [
    {
     "name": "stdout",
     "output_type": "stream",
     "text": [
      "modify anomaly gender done!\n",
      "encode age and gender done!\n"
     ]
    }
   ],
   "source": [
    "train_meta_df = pd.read_csv(DirFilePath.train_meta)\n",
    "train_meta_df = Preprocessing.recreateMetaDataFrame(train_meta_df)"
   ]
  },
  {
   "cell_type": "code",
   "execution_count": 7,
   "metadata": {},
   "outputs": [],
   "source": [
    "# train_images_df = Preprocessing.createImageDataFrmae(train_meta_df)\n",
    "train_images_df = pd.read_csv(os.path.join(DirFilePath.train_dir, 'labeling.csv'))"
   ]
  },
  {
   "cell_type": "markdown",
   "metadata": {},
   "source": [
    "# 3. Data Split, Dataset"
   ]
  },
  {
   "cell_type": "markdown",
   "metadata": {},
   "source": [
    "## 3.1. Data Split"
   ]
  },
  {
   "cell_type": "code",
   "execution_count": 8,
   "metadata": {},
   "outputs": [],
   "source": [
    "def splitData(df: pd.DataFrame, n_splits: int, shuffle: bool, random_state: int, split_base: str):\n",
    "    skf = StratifiedKFold(n_splits=n_splits, shuffle=shuffle, random_state=random_state)\n",
    "    \n",
    "    for train_idx, val_idx in skf.split(df, df[split_base]):\n",
    "        yield train_idx, val_idx"
   ]
  },
  {
   "cell_type": "markdown",
   "metadata": {},
   "source": [
    "## 3.2. Dataset"
   ]
  },
  {
   "cell_type": "code",
   "execution_count": 9,
   "metadata": {},
   "outputs": [],
   "source": [
    "trfm = {\n",
    "    'basic_trfm': transforms.Compose([\n",
    "        transforms.Grayscale(num_output_channels=3), # r=g=b\n",
    "        transforms.ToTensor(),\n",
    "    ]),\n",
    "    \n",
    "    'train_aug_trfm': transforms.Compose([\n",
    "        transforms.GaussianBlur(\n",
    "            kernel_size=5, # 숫자가 커지면 더 흐려진다.\n",
    "            sigma=(15, 19)\n",
    "        ),    \n",
    "    ]),\n",
    "}\n",
    "\n",
    "trfm = Box(trfm)"
   ]
  },
  {
   "cell_type": "code",
   "execution_count": 41,
   "metadata": {},
   "outputs": [],
   "source": [
    "class CustomDataset(Dataset):\n",
    "    def __init__(self, df: pd.DataFrame, transforms: transforms.Compose, train: bool) -> None:\n",
    "        self.images_df = df\n",
    "        self.trfm = transforms\n",
    "        self.train = train\n",
    "\n",
    "    def __getitem__(self, idx) -> torch.Tensor:\n",
    "        row = self.images_df.iloc[idx]\n",
    "        img = Image.open(row['file_path'])\n",
    "        img = self.trfm(img)\n",
    "        \n",
    "        if self.train:\n",
    "            return img, row['label']\n",
    "        else:\n",
    "            return img\n",
    "        \n",
    "    def __len__(self) -> int:\n",
    "        return self.images_df.shape[0]\n"
   ]
  },
  {
   "cell_type": "markdown",
   "metadata": {},
   "source": [
    "# 4. 학습\n",
    "    - model\n",
    "    - loss"
   ]
  },
  {
   "cell_type": "markdown",
   "metadata": {},
   "source": [
    "## 4.1. Model"
   ]
  },
  {
   "cell_type": "code",
   "execution_count": 42,
   "metadata": {},
   "outputs": [],
   "source": [
    "class CreatePrertrainedModel(torch.nn.Module):\n",
    "    def __init__(self, model_name: str, pretrained: bool, num_classes: int) -> None:\n",
    "        super(CreateModel, self).__init__()\n",
    "        self.model = timm.create_model(model_name, pretrained=pretrained, num_classes=num_classes)\n",
    "\n",
    "    def forward(self, img) -> list:\n",
    "        out = self.model(img)\n",
    "        return out"
   ]
  },
  {
   "cell_type": "code",
   "execution_count": null,
   "metadata": {},
   "outputs": [],
   "source": [
    "class CreateModel(torch.nn.Module):\n",
    "    def __init__(self, numclasses: int) -> None:\n",
    "        "
   ]
  },
  {
   "cell_type": "code",
   "execution_count": 43,
   "metadata": {},
   "outputs": [],
   "source": [
    "def train_func(model, optimizer, criterion, data_loader, device):\n",
    "    model.train()\n",
    "    \n",
    "    total_tarin_loss = 0\n",
    "    \n",
    "    for data, data_gt in data_loader:\n",
    "        data = data.to(device)\n",
    "        data_gt = data_gt.to(device)\n",
    "\n",
    "        optimizer.zero_grad()\n",
    "\n",
    "        prediction = model(data)\n",
    "        loss = criterion(prediction, data_gt)\n",
    "        \n",
    "        loss.backward()        \n",
    "        optimizer.step()\n",
    "        \n",
    "        total_train_loss += loss.item()\n",
    "    \n",
    "    avg_train_loss = total_train_loss / len(data_loader)\n",
    "    \n",
    "    "
   ]
  },
  {
   "cell_type": "code",
   "execution_count": 44,
   "metadata": {},
   "outputs": [],
   "source": [
    "def eval_func(model, data_loader):\n",
    "    pass\n",
    "    "
   ]
  },
  {
   "cell_type": "code",
   "execution_count": 45,
   "metadata": {},
   "outputs": [],
   "source": [
    "train_set_dataset = CustomDataset(train_set_images_df, trfm.basic_trfm, True)"
   ]
  },
  {
   "cell_type": "code",
   "execution_count": 46,
   "metadata": {},
   "outputs": [],
   "source": [
    "train_set_data_loader = DataLoader(\n",
    "                            train_set_dataset,\n",
    "                            batch_size= config.batch_size,\n",
    "                            num_workers= config.num_workers,\n",
    "                            shuffle = True,\n",
    "                            )\n",
    "    "
   ]
  },
  {
   "cell_type": "code",
   "execution_count": 16,
   "metadata": {},
   "outputs": [],
   "source": [
    "split_generator = splitData(\n",
    "    df=train_meta_df, \n",
    "    n_splits=config.num_split_fold, \n",
    "    shuffle=config.split__shuffle, \n",
    "    random_state=config.seed, \n",
    "    split_base=config.split_base_col,\n",
    "    )"
   ]
  },
  {
   "cell_type": "code",
   "execution_count": 17,
   "metadata": {},
   "outputs": [],
   "source": [
    "train_idx, val_idx = next(split_generator)"
   ]
  },
  {
   "cell_type": "code",
   "execution_count": 18,
   "metadata": {},
   "outputs": [],
   "source": [
    "train_set_meta_df = train_meta_df.loc[train_idx].reset_index(drop=True)\n",
    "val_set_meta_df = train_meta_df.loc[val_idx].reset_index(drop=True)\n",
    "\n",
    "train_set_images_df = train_images_df.query(f\"path in {train_set_meta_df['path'].values.tolist()}\").reset_index(drop=True)\n",
    "val_set_images_df =train_images_df.query(f\"path in {val_set_meta_df['path'].values.tolist()}\").reset_index(drop=True)"
   ]
  },
  {
   "cell_type": "code",
   "execution_count": null,
   "metadata": {},
   "outputs": [],
   "source": []
  }
 ],
 "metadata": {
  "interpreter": {
   "hash": "d4d1e4263499bec80672ea0156c357c1ee493ec2b1c70f0acce89fc37c4a6abe"
  },
  "kernelspec": {
   "display_name": "Python 3 (ipykernel)",
   "language": "python",
   "name": "python3"
  },
  "language_info": {
   "codemirror_mode": {
    "name": "ipython",
    "version": 3
   },
   "file_extension": ".py",
   "mimetype": "text/x-python",
   "name": "python",
   "nbconvert_exporter": "python",
   "pygments_lexer": "ipython3",
   "version": "3.8.5"
  }
 },
 "nbformat": 4,
 "nbformat_minor": 4
}
