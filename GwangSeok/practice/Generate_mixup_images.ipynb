{
 "cells": [
  {
   "cell_type": "code",
   "execution_count": 1,
   "id": "a297da92-6d2d-4380-bbf4-8d32e91ddc9d",
   "metadata": {},
   "outputs": [],
   "source": [
    "import os\n",
    "import pandas as pd\n",
    "import numpy as np\n",
    "from box import Box\n",
    "\n",
    "import matplotlib as mlt\n",
    "import matplotlib.pyplot as plt\n",
    "import seaborn as sns\n",
    "from PIL import Image\n",
    "\n",
    "from tqdm import tqdm\n",
    "from typing import Tuple\n",
    "from collections import OrderedDict"
   ]
  },
  {
   "cell_type": "code",
   "execution_count": 2,
   "id": "1497b234-078f-4b65-b996-bdb4e279ce81",
   "metadata": {},
   "outputs": [],
   "source": [
    "class DirFilePath:\n",
    "    data_dir = os.path.join(os.getcwd(), 'input', 'data')\n",
    "    train_dir = os.path.join(data_dir, 'train')\n",
    "    train_meta = os.path.join(train_dir, 'train.csv')\n",
    "    train_image_dir = os.path.join(train_dir, 'images')\n",
    "    eval_dir = os.path.join(data_dir, 'eval')\n",
    "    eval_meta = os.path.join(eval_dir, 'info.csv')\n",
    "    eval_image_dir = os.path.join(eval_dir, 'images')"
   ]
  },
  {
   "cell_type": "code",
   "execution_count": 3,
   "id": "e579c31c-57a5-47ef-b8e0-2e6e0042f815",
   "metadata": {},
   "outputs": [],
   "source": [
    "train_df = pd.read_csv(DirFilePath.train_meta)"
   ]
  },
  {
   "cell_type": "code",
   "execution_count": 4,
   "id": "afdcc424-949d-42ff-a332-e5a16a278749",
   "metadata": {},
   "outputs": [],
   "source": [
    "def set_ages(age):\n",
    "    if age < 30:\n",
    "        return 0\n",
    "    elif age < 60:\n",
    "        return 1\n",
    "    else:\n",
    "        return 2"
   ]
  },
  {
   "cell_type": "code",
   "execution_count": 5,
   "id": "a9a988d8-bfd6-460e-9615-d97c87dcd4ac",
   "metadata": {},
   "outputs": [],
   "source": [
    "# train_image_file_df = pd.DataFrame(None, columns = ['path', 'label'])\n",
    "\n",
    "# for idx, row in tqdm(train_df.iterrows(), total=train_df.shape[0]):\n",
    "#     for img_file in os.listdir(os.path.join(DirFilePath.train_image_dir, row['path'])):\n",
    "#         if img_file[0] == '.':\n",
    "#             continue\n",
    "        \n",
    "#         if img_file.split('.')[0] == 'normal':\n",
    "#             mask = 2\n",
    "#         elif img_file.split('.')[0] == 'incorrect_mask':\n",
    "#             mask = 1\n",
    "#         else:\n",
    "#             mask = 0\n",
    "\n",
    "#         gender = 0 if row['gender'] == 'male' else 1\n",
    "#         age = set_ages(row['age'])\n",
    "#         data = {\n",
    "#             'path': os.path.join(DirFilePath.train_image_dir, row['path'], img_file),\n",
    "#             'label': mask * 6 + gender * 3 + age\n",
    "#         }\n",
    "\n",
    "#         train_image_file_df = train_image_file_df.append(data, ignore_index=True)\n",
    "# train_image_file_df.to_csv(os.path.join(os.getcwd(), 'labeling.csv'), index=False)"
   ]
  },
  {
   "cell_type": "code",
   "execution_count": 6,
   "id": "5cb8a15c-9c7c-472a-b9f2-395caa98c3e0",
   "metadata": {},
   "outputs": [],
   "source": [
    "train_image_file_df = pd.read_csv(os.path.join(os.getcwd(), 'labeling.csv'))"
   ]
  },
  {
   "cell_type": "code",
   "execution_count": 7,
   "id": "52c645cd-2d36-4ba2-b354-a413c0d3e3a5",
   "metadata": {},
   "outputs": [],
   "source": [
    "config = {\n",
    "    'base_df': train_image_file_df,\n",
    "    'target_col': 'label',\n",
    "    'num_aug_amount': 1000,\n",
    "    'num_combi': 3,\n",
    "}\n",
    "\n",
    "config = Box(config)"
   ]
  },
  {
   "cell_type": "code",
   "execution_count": 8,
   "id": "a3a21ad8-27ba-40ec-bd7e-f66355dde7fa",
   "metadata": {},
   "outputs": [],
   "source": [
    "def coutPlotSetting(ax):\n",
    "    # 사진 테두리를 없앤다\n",
    "    ax.set(frame_on=False)\n",
    "    \n",
    "    # x축 tick을 없애준다.\n",
    "    ax.tick_params(bottom=False)\n",
    "    \n",
    "    # y축 label과 tick을 없앤다.\n",
    "    ax.set_yticks([])\n",
    "    ax.set_ylabel('')\n",
    "    \n",
    "    # x축의 label을 설정한다.\n",
    "    ax.set_xlabel('age', fontsize=13, fontweight='semibold')\n",
    "\n",
    "    return ax\n",
    "\n",
    "\n",
    "def changeWidth(ax, new_width):\n",
    "    # 막대의 넓이를 정해준다.\n",
    "    for patch in ax.patches:\n",
    "        current_width = patch.get_width()\n",
    "        diff = current_width - new_width\n",
    "        patch.set_width(new_width)\n",
    "        patch.set_x(patch.get_x() + diff * .5)\n",
    "        patch.set_linewidth(2.0)\n",
    "\n",
    "\n",
    "def insertValueText(ax, val_height):\n",
    "    # 막대의 값을 text로 넣는다.\n",
    "    for idx, patch in enumerate(ax.patches):\n",
    "        height = patch.get_height()\n",
    "        height = height if np.isnan(height) else int(height)\n",
    "        ax.text(\n",
    "            patch.get_x() + patch.get_width() / 2.,\n",
    "            height + val_height, \n",
    "            height, \n",
    "            ha='center', \n",
    "            size=10)"
   ]
  },
  {
   "cell_type": "code",
   "execution_count": 9,
   "id": "d40a6c07-8bd1-48b7-9a26-db9733bdc01d",
   "metadata": {},
   "outputs": [
    {
     "data": {
      "image/png": "[encoded data removed]",
      "text/plain": [
       "<Figure size 1440x504 with 1 Axes>"
      ]
     },
     "metadata": {
      "needs_background": "light"
     },
     "output_type": "display_data"
    }
   ],
   "source": [
    "fig, ax = plt.subplots(1, 1, figsize=(20, 7))\n",
    "sns.countplot(\n",
    "    x=config.target_col, data=config.base_df,\n",
    "    ax=ax,\n",
    "    dodge=True,\n",
    "    order=sorted(config.base_df[config.target_col].unique()),\n",
    ")\n",
    "ax = coutPlotSetting(ax)\n",
    "insertValueText(ax, 45)\n",
    "changeWidth(ax, 0.3)\n",
    "ax.set_title(\"Count age\", fontsize=15, fontweight='semibold')\n",
    "ax.margins(0.001, 0.25)"
   ]
  },
  {
   "cell_type": "code",
   "execution_count": 10,
   "id": "02711513-7913-441f-833c-364943abd0cc",
   "metadata": {},
   "outputs": [],
   "source": [
    "def splitDataFrame(df: pd.DataFrame, target_col: str, target_data: int) -> Tuple[pd.DataFrame, pd.DataFrame]:\n",
    "    target_list = boolListRowCondition(df, target_col, target_data)\n",
    "    re_target_df = df.iloc[target_list]\n",
    "    \n",
    "    return re_target_df\n",
    "\n",
    "\n",
    "def initDataFrame2OrdereeDict(df: pd.DataFrame):\n",
    "    ret_dict = OrderedDict()\n",
    "    \n",
    "    indices = df.index.tolist()\n",
    "    \n",
    "    for idx in indices:\n",
    "        ret_dict[idx] = 0\n",
    "        \n",
    "    return ret_dict\n",
    "    \n",
    "\n",
    "def createAbnormalImage(df: pd.DataFrame, num_to_create: int, num_combi: int, target_data: int, mix_up_dir: str):\n",
    "    # 순서를 보장함으로써 sort를 할 수 있다.\n",
    "    num_used_image_dict = initDataFrame2OrdereeDict(df)\n",
    "    \n",
    "    \n",
    "    for generated_num in tqdm(range(1, num_to_create + 1), total=num_to_create):        \n",
    "        lists_images_for_avg = []\n",
    "        cnt = 1\n",
    "        \n",
    "        # 사용량이 적은 이미지 3개를 뽑아온다.\n",
    "        for key in num_used_image_dict.keys():\n",
    "            \n",
    "            lists_images_for_avg.append(key)\n",
    "            \n",
    "            num_used_image_dict[key] += 1\n",
    "            if cnt == num_combi:\n",
    "                break\n",
    "            cnt += 1\n",
    "        \n",
    "        # 3개의 이미지의 평균을 구한다.\n",
    "        genereted_image = calImageMean(df, lists_images_for_avg)\n",
    "        \n",
    "        # 이미지를 저장한다.\n",
    "        mix_up_label_dir = os.path.join(mix_up_dir, f'aug_{target_data}')\n",
    "        if not os.path.isdir(mix_up_label_dir):\n",
    "            os.mkdir(mix_up_label_dir)\n",
    "            \n",
    "        Image.fromarray(genereted_image, 'RGB').save(os.path.join(mix_up_label_dir, f'{generated_num}.jpg'))\n",
    "        \n",
    "        # 이지미 사용 횟수에 따라 오름차순으로 정렬한다.\n",
    "        num_used_image_dict = OrderedDict(sorted(num_used_image_dict.items(), key=lambda x: x[1], reverse=False))\n",
    "        \n",
    "\n",
    "def calImageMean(df: pd.DataFrame, idx_lists):\n",
    "    profiles = []\n",
    "    for idx in idx_lists:\n",
    "        path = df.loc[idx]['path']\n",
    "        profile = np.array(Image.open(df.loc[idx]['path']))\n",
    "        profiles.append(profile)\n",
    "    \n",
    "    np_profiles = np.array(profiles)\n",
    "    \n",
    "    return np.mean(np_profiles, axis=0).astype(np.uint8)   \n",
    "        \n",
    "\n",
    "def augImage(df: pd.DataFrame, target_col: str, target_data: int, num_aug_amount: int, num_combi: int) -> None:\n",
    "    re_df = splitDataFrame(df, target_col, target_data)\n",
    "    mix_up_dir = os.path.join(DirFilePath.train_dir, 'aug')\n",
    "    \n",
    "    if not os.path.isdir(mix_up_dir):\n",
    "        os.mkdir(mix_up_dir)\n",
    "    \n",
    "    createAbnormalImage(re_df, num_aug_amount - len(re_df), num_combi, target_data, mix_up_dir)\n",
    "          \n",
    "def boolListRowCondition(df: pd.DataFrame, target_col: str, target_value) -> list:\n",
    "    # 조건에 맞는 index를 list 형태로 반환한다.\n",
    "    return (df[target_col] == target_value).tolist()\n",
    "    "
   ]
  },
  {
   "cell_type": "code",
   "execution_count": 11,
   "id": "9fab8262-d3f4-4769-a9a7-22ce275417c6",
   "metadata": {},
   "outputs": [
    {
     "name": "stderr",
     "output_type": "stream",
     "text": [
      "100%|██████████| 585/585 [00:07<00:00, 74.04it/s]\n",
      "100%|██████████| 455/455 [00:06<00:00, 70.38it/s]\n",
      "100%|██████████| 451/451 [00:07<00:00, 61.11it/s]\n",
      "100%|██████████| 590/590 [00:08<00:00, 70.45it/s]\n",
      "100%|██████████| 917/917 [00:12<00:00, 73.71it/s]\n",
      "100%|██████████| 268/268 [00:03<00:00, 67.15it/s]\n",
      "100%|██████████| 183/183 [00:02<00:00, 71.50it/s]\n",
      "100%|██████████| 891/891 [00:12<00:00, 71.64it/s]\n",
      "100%|██████████| 451/451 [00:07<00:00, 62.68it/s]\n",
      "100%|██████████| 590/590 [00:08<00:00, 73.23it/s]\n",
      "100%|██████████| 917/917 [00:12<00:00, 73.69it/s]\n",
      "100%|██████████| 268/268 [00:03<00:00, 67.68it/s]\n",
      "100%|██████████| 183/183 [00:02<00:00, 71.31it/s]\n",
      "100%|██████████| 891/891 [00:12<00:00, 71.82it/s]\n"
     ]
    }
   ],
   "source": [
    "grouped_df = config.base_df.groupby(config.target_col).count()\n",
    "for label in grouped_df.index.tolist():\n",
    "    if grouped_df.loc[label].values[0] < config.num_aug_amount:\n",
    "        augImage(config.base_df, config.target_col, label, config.num_aug_amount, config.num_combi)"
   ]
  }
 ],
 "metadata": {
  "kernelspec": {
   "display_name": "Python 3 (ipykernel)",
   "language": "python",
   "name": "python3"
  },
  "language_info": {
   "codemirror_mode": {
    "name": "ipython",
    "version": 3
   },
   "file_extension": ".py",
   "mimetype": "text/x-python",
   "name": "python",
   "nbconvert_exporter": "python",
   "pygments_lexer": "ipython3",
   "version": "3.8.5"
  }
 },
 "nbformat": 4,
 "nbformat_minor": 5
}
