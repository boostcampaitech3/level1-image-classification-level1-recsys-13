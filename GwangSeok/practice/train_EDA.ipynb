{
 "cells": [
  {
   "cell_type": "markdown",
   "metadata": {},
   "source": [
    "# 3. Data Analysis\n",
    "\n",
    "> * input이 될 X에 대한 분석\n",
    ">   * 전체 데이터 수:  4,500\n",
    ">   * 이미지 사이즈: (384, 512)\n",
    ">   * 한 사람당 사진의 개수: 7 [마스크 착용 5장, 이상하게 착용(코스크, 턱스크) 1장, 미착용 1장]\n",
    ">   * 분석 대상이 되는 객체의 위치\n",
    ">   * RGB 채너별 통계값\n",
    "> * target이 될 y에 대한 분석 \n",
    ">   * y값의 독립적 분포 \n",
    ">       * ex) y_1의 분포는?\n",
    ">   * y값 들간의 관계 분포 \n",
    ">       * ex) y_1, y_2 정보를 섞은 분포는?\n",
    "> * X, y 관계를 확인할 수 있는 분석\n",
    ">   * X특성과 y의 특성 간의 분포 차이는 어떻게 있을까요??\n",
    ">   * 이미지 사이즈와 y 특성의 관계\n",
    ">   * RGB 통계값과 y 특성의 관계\n",
    ">   * 객체의 위치와 y 특성의 관계\n",
    ">   * 데이터의 노이즈 확인 \n",
    ">       * ex) y 값이 잘못 부여된것이 있을까??"
   ]
  },
  {
   "cell_type": "code",
   "execution_count": null,
   "metadata": {},
   "outputs": [],
   "source": [
    "import os\n",
    "import pandas as pd\n",
    "import matplotlib as mpl\n",
    "import matplotlib.pyplot as plt\n",
    "import seaborn as sns\n",
    "import numpy as np\n",
    "\n",
    "from PIL import Image\n",
    "from tqdm import tqdm\n",
    "\n",
    "os.chdir(\"../../\")"
   ]
  },
  {
   "cell_type": "markdown",
   "metadata": {},
   "source": [
    "## 3.1. Meta info\n",
    "\n",
    "1. 남/녀 비율\n",
    "2. 나이대 비율: `<30`, `>=30 and <60`, `>=60`\n",
    "3. 정확히 labeling 되었는지?\n",
    "4. 중복된 데이터 있는지?"
   ]
  },
  {
   "cell_type": "code",
   "execution_count": null,
   "metadata": {},
   "outputs": [],
   "source": [
    "data_dir = os.path.join(os.getcwd(), 'input', 'data')\n",
    "train_data_dir = os.path.join(data_dir, 'train')\n",
    "train_data_meta_info = pd.read_csv(os.path.join(train_data_dir, 'train.csv'))"
   ]
  },
  {
   "cell_type": "code",
   "execution_count": null,
   "metadata": {},
   "outputs": [],
   "source": [
    "train_data_meta_info.info()"
   ]
  },
  {
   "cell_type": "code",
   "execution_count": null,
   "metadata": {},
   "outputs": [],
   "source": [
    "train_data_meta_info.describe(include='all')"
   ]
  },
  {
   "cell_type": "code",
   "execution_count": null,
   "metadata": {},
   "outputs": [],
   "source": [
    "is_dup_id = train_data_meta_info['id'].duplicated()\n",
    "dup_id = train_data_meta_info[is_dup_id]['id']\n",
    "\n",
    "dup_datas_df = train_data_meta_info.loc[train_data_meta_info['id'] == dup_id.values[0]]\n",
    "print(dup_datas_df)"
   ]
  },
  {
   "cell_type": "markdown",
   "metadata": {},
   "source": [
    "특정 id가 중복되었지만, 나이가 다르다.   \n",
    "id를 기준으로 구분을 하면 안 되겠다."
   ]
  },
  {
   "cell_type": "code",
   "execution_count": null,
   "metadata": {},
   "outputs": [],
   "source": [
    "image_data_dir =  os.path.join(train_data_dir, 'images')\n",
    "\n",
    "dup_datas_paths = dup_datas_df['path'].values\n",
    "fig, axes = plt.subplots(4, 4, figsize=(18, 16))\n",
    "axes = axes.flatten()\n",
    "for i in range(len(axes)): axes[i].axis('off')\n",
    "\n",
    "for path_idx, path in enumerate(dup_datas_paths):\n",
    "    img_data_path = os.path.join(image_data_dir, path)\n",
    "    titles = os.listdir(img_data_path)\n",
    "\n",
    "    title_idx = 0\n",
    "    for title in titles:\n",
    "        if title[0] == '.':\n",
    "            continue\n",
    "\n",
    "        image_file_path = os.path.join(img_data_path, title)\n",
    "        image_pil = Image.open(image_file_path)\n",
    "        image = np.array(image_pil)\n",
    "        axes_index = path_idx * 8 + title_idx\n",
    "        axes[axes_index].imshow(image)\n",
    "        axes[axes_index].set_title(title)\n",
    "        title_idx += 1\n",
    "\n",
    "plt.show()"
   ]
  },
  {
   "cell_type": "code",
   "execution_count": null,
   "metadata": {},
   "outputs": [],
   "source": [
    "train_data_meta_info.head()"
   ]
  },
  {
   "cell_type": "code",
   "execution_count": null,
   "metadata": {},
   "outputs": [],
   "source": [
    "fig, ax = plt.subplots(1, 1, figsize=(10, 7))\n",
    "\n",
    "sns.countplot(\n",
    "    x='gender', data=train_data_meta_info,\n",
    "    ax=ax,\n",
    "    order=sorted(train_data_meta_info['gender'].unique()),\n",
    "    )\n",
    "        \n",
    "# ax.spines['top'].set_visible(False)\n",
    "# ax.spines['right'].set_visible(False)\n",
    "ax.set(frame_on=False)\n",
    "ax.tick_params(bottom=False)\n",
    "ax.set_yticks([])\n",
    "ax.set_ylabel('')\n",
    "ax.set_xlabel('Gender', fontsize=13, fontweight='semibold')\n",
    "\n",
    "def changeWidth(ax, new_width):\n",
    "    for patch in ax.patches:\n",
    "        current_width = patch.get_width()\n",
    "        diff = current_width - new_width\n",
    "        patch.set_width(new_width)\n",
    "        patch.set_x(patch.get_x() + diff * .5)\n",
    "        patch.set_linewidth(2.0)\n",
    "\n",
    "\n",
    "def insertValueText(ax, val_height):\n",
    "    for idx, patch in enumerate(ax.patches):\n",
    "        height = patch.get_height()\n",
    "        ax.text(\n",
    "            patch.get_x() + patch.get_width() / 2.,\n",
    "            height + val_height, \n",
    "            height, \n",
    "            ha='center', \n",
    "            size=10)\n",
    "\n",
    "insertValueText(ax, 95)\n",
    "changeWidth(ax, 0.3)\n",
    "\n",
    "ax.set_title(\"Count Female and Male\", fontsize=15, fontweight='semibold')\n",
    "ax.margins(0.15, 0.25)"
   ]
  },
  {
   "cell_type": "code",
   "execution_count": null,
   "metadata": {},
   "outputs": [],
   "source": [
    "fig, ax = plt.subplots(1, 1, figsize=(10, 7))\n",
    "sns.kdeplot(\n",
    "    x='age',\n",
    "    data=train_data_meta_info,\n",
    "    ax=ax,\n",
    "    hue='gender',\n",
    "    fill=True,\n",
    "    )\n",
    "\n",
    "ax.spines['top'].set_visible(False)\n",
    "ax.spines['right'].set_visible(False)\n"
   ]
  },
  {
   "cell_type": "code",
   "execution_count": null,
   "metadata": {},
   "outputs": [],
   "source": [
    "def set_age_s(age):\n",
    "    if age < 30:\n",
    "        return 0\n",
    "    elif age < 60:\n",
    "        return 1\n",
    "    else:\n",
    "        return 2\n",
    "\n",
    "train_data_meta_info[\"age's\"] = train_data_meta_info['age'].apply(lambda x : set_age_s(x))"
   ]
  },
  {
   "cell_type": "code",
   "execution_count": null,
   "metadata": {},
   "outputs": [],
   "source": [
    "fig, ax = plt.subplots(1, 1, figsize=(10, 7))\n",
    "\n",
    "sns.countplot(\n",
    "    x=\"age's\", data=train_data_meta_info,\n",
    "    ax=ax,\n",
    "    order=sorted(train_data_meta_info[\"age's\"].unique()),\n",
    "    hue='gender',\n",
    "    )\n",
    "        \n",
    "# ax.spines['top'].set_visible(False)\n",
    "# ax.spines['right'].set_visible(False)\n",
    "ax.set(frame_on=False)\n",
    "ax.tick_params(bottom=False)\n",
    "ax.set_xticklabels(['~30', '30~60', '60~'])\n",
    "ax.set_yticks([])\n",
    "ax.set_ylabel('')\n",
    "ax.set_xlabel(\"age's\", fontsize=13, fontweight='semibold')\n",
    "\n",
    "insertValueText(ax, 15)\n",
    "changeWidth(ax, 0.3)\n",
    "\n",
    "ax.set_title(\"Count Age's\", fontsize=15, fontweight='semibold')\n",
    "ax.margins(0.15, 0.15)"
   ]
  },
  {
   "cell_type": "markdown",
   "metadata": {},
   "source": [
    "## 3.2. image data"
   ]
  },
  {
   "cell_type": "code",
   "execution_count": null,
   "metadata": {},
   "outputs": [],
   "source": [
    "# image_path_class = pd.DataFrame(None, columns = ['path', 'label'])\n",
    "\n",
    "# for idx, row in tqdm(train_data_meta_info.iterrows(), total=train_data_meta_info.shape[0]):\n",
    "#     for img_file in os.listdir(os.path.join(image_data_dir, row['path'])):\n",
    "#         if img_file[0] == '.':\n",
    "#             continue\n",
    "        \n",
    "#         if img_file.split('.')[0] == 'normal':\n",
    "#             mask = 2\n",
    "#         elif img_file.split('.')[0] == 'incorrect_mask':\n",
    "#             mask = 1\n",
    "#         else:\n",
    "#             mask = 0\n",
    "\n",
    "#         gender = 0 if row['gender'] == 'male' else 1\n",
    "#         data = {\n",
    "#             'path': os.path.join(image_data_dir, row['path'], img_file),\n",
    "#             'label': mask * 6 + gender * 3 + row[\"age's\"]\n",
    "#         }\n",
    "\n",
    "#         image_path_class = image_path_class.append(data, ignore_index=True)"
   ]
  },
  {
   "cell_type": "code",
   "execution_count": null,
   "metadata": {},
   "outputs": [],
   "source": [
    "# image_path_class.to_csv(os.path.join(train_data_dir, 'labeling.csv'))\n",
    "image_path_class = pd.read_csv(os.path.join(train_data_dir, 'labeling.csv')).drop('Unnamed: 0', axis=1)"
   ]
  },
  {
   "cell_type": "code",
   "execution_count": null,
   "metadata": {},
   "outputs": [],
   "source": [
    "image_path_class.head(5)"
   ]
  },
  {
   "cell_type": "code",
   "execution_count": null,
   "metadata": {},
   "outputs": [],
   "source": [
    "image_path_class.describe(include='all')"
   ]
  },
  {
   "cell_type": "code",
   "execution_count": null,
   "metadata": {},
   "outputs": [],
   "source": [
    "fig, ax = plt.subplots(1, 1, figsize=(10, 7))\n",
    "\n",
    "sns.countplot(\n",
    "    x=\"label\", data=image_path_class,\n",
    "    ax=ax,\n",
    "    order=sorted(image_path_class[\"label\"].unique()),\n",
    "    )\n",
    "        \n",
    "# ax.spines['top'].set_visible(False)\n",
    "# ax.spines['right'].set_visible(False)\n",
    "ax.set(frame_on=False)\n",
    "ax.tick_params(bottom=False)\n",
    "ax.set_yticks([])\n",
    "ax.set_ylabel('')\n",
    "ax.set_xlabel(\"\")\n",
    "\n",
    "insertValueText(ax, 55)\n",
    "changeWidth(ax, 0.3)\n",
    "\n",
    "ax.set_title(\"Count label\", fontsize=15, fontweight='semibold')\n",
    "ax.margins(0.15, 0.15)"
   ]
  },
  {
   "cell_type": "markdown",
   "metadata": {},
   "source": [
    "label의 0-5(wear), 6-11(incorrect), 12-17(normal)의 분포는 같다.\n",
    "\n",
    "나이대별 성별의 분포이다."
   ]
  },
  {
   "cell_type": "code",
   "execution_count": null,
   "metadata": {},
   "outputs": [],
   "source": [
    "num_classes = 18\n",
    "image_pil_list = [[] for _ in range(num_classes)]"
   ]
  },
  {
   "cell_type": "code",
   "execution_count": null,
   "metadata": {},
   "outputs": [],
   "source": [
    "for idx, row in tqdm(image_path_class.iterrows(), total=image_path_class.shape[0]):\n",
    "    image_pil = Image.open(row['path'])\n",
    "    image_label = image_path_class['label'][idx]\n",
    "    image_pil_list[image_label].append(image_pil)"
   ]
  },
  {
   "cell_type": "code",
   "execution_count": null,
   "metadata": {},
   "outputs": [],
   "source": [
    "image_element_np = np.array(Image.open(image_path_class['path'][0]))\n",
    "print(f'image shape: {image_element_np.shape}')"
   ]
  },
  {
   "cell_type": "code",
   "execution_count": null,
   "metadata": {},
   "outputs": [],
   "source": [
    "for label, image_pil_list_label in enumerate(image_pil_list):\n",
    "    print(f\"Convert label {label} image to nd.array\")\n",
    "    for idx, image_pil in tqdm(enumerate(image_pil_list_label), total=len(image_pil_list_label)):\n",
    "        image_pil_list[label][idx] = np.array(image_pil)\n",
    "    image_pil_list[label] = np.array(image_pil_list_label)\n",
    "\n",
    "image_pil_np = np.array(image_pil_list)"
   ]
  },
  {
   "cell_type": "code",
   "execution_count": null,
   "metadata": {},
   "outputs": [],
   "source": [
    "image_pil_np[0].shape"
   ]
  },
  {
   "cell_type": "code",
   "execution_count": null,
   "metadata": {},
   "outputs": [],
   "source": [
    "image_pil_np_avg = [0] * num_classes\n",
    "for label, image_pil_np_label in enumerate(image_pil_np):\n",
    "    print(f\"Calculate label {label} mean\")\n",
    "    image_pil_np_avg[label] = np.mean(image_pil_np_label, axis=0)\n",
    "\n",
    "image_pil_np_avg = np.array(image_pil_np_avg)\n",
    "image_pil_np_avg.shape\n",
    "    "
   ]
  },
  {
   "cell_type": "code",
   "execution_count": null,
   "metadata": {},
   "outputs": [],
   "source": [
    "image_pil_np_avg_int = [0] * num_classes\n",
    "\n",
    "for idx in tqdm(range(num_classes), total=num_classes):\n",
    "    image_pil_np_avg_int[idx] = (image_pil_np_avg[idx]).astype(int)\n",
    "\n",
    "image_pil_np_avg_int = np.array(image_pil_np_avg_int)\n",
    "image_pil_np_avg_int.shape"
   ]
  },
  {
   "cell_type": "code",
   "execution_count": null,
   "metadata": {},
   "outputs": [],
   "source": [
    "fig, axes = plt.subplots(3, 6, figsize=(20, 17))\n",
    "fig.set_facecolor('white')\n",
    "\n",
    "axes = axes.flatten()\n",
    "\n",
    "for idx in tqdm(range(num_classes), total=num_classes):\n",
    "    axes[idx].imshow((image_pil_np_avg_int[idx]))    \n",
    "    axes[idx].tick_params(bottom=False)\n",
    "    axes[idx].set_yticks([])\n",
    "    axes[idx].set_xticks([])\n",
    "    axes[idx].set_ylabel('')\n",
    "    axes[idx].set_xlabel(f'Class - {idx}')\n",
    "\n",
    "plt.show()"
   ]
  },
  {
   "cell_type": "code",
   "execution_count": null,
   "metadata": {},
   "outputs": [],
   "source": [
    "label_0_element_idx = image_path_class.index[image_path_class['label'] == 0][0]\n",
    "label_0_element_path = image_path_class.loc[label_0_element_idx].values[0]"
   ]
  },
  {
   "cell_type": "code",
   "execution_count": null,
   "metadata": {},
   "outputs": [],
   "source": [
    "fig, axes = plt.subplots(4, 4, figsize=(10, 16))\n",
    "fig.set_facecolor('white')\n",
    "\n",
    "origin_image = np.array(Image.open(label_0_element_path))\n",
    "new_image_plus = image_pil_np_avg_int[0] + origin_image\n",
    "new_image_avg = ((image_pil_np_avg_int[0] + np.array(Image.open(label_0_element_path))) / 2).astype(int)\n",
    "new_image_minus = image_pil_np_avg_int[0] - origin_image\n",
    "\n",
    "images = [origin_image, new_image_plus, new_image_avg, new_image_minus]\n",
    "titles = ['origin', 'average+origin', '(origin+average)/2', 'average-origin']\n",
    "\n",
    "for idx in tqdm(range(4), total=4):\n",
    "    axes[idx][0].imshow(images[idx])\n",
    "    axes[idx][0].set_xlabel(titles[idx])\n",
    "\n",
    "    axes[idx][1].imshow(images[idx][:, :, 0])\n",
    "    axes[idx][1].set_xlabel(titles[idx]+'-b')\n",
    "\n",
    "    axes[idx][2].imshow(images[idx][:, :, 1])\n",
    "    axes[idx][2].set_xlabel(titles[idx]+'-g')\n",
    "\n",
    "    axes[idx][3].imshow(images[idx][:, :, 2])\n",
    "    axes[idx][3].set_xlabel(titles[idx]+'-r')\n",
    "\n",
    "axes = axes.flatten()\n",
    "for ax in axes:\n",
    "    ax.tick_params(bottom=False)\n",
    "    ax.set_yticks([])\n",
    "    ax.set_xticks([])\n",
    "    ax.set_ylabel('')\n",
    "\n",
    "plt.show()"
   ]
  },
  {
   "cell_type": "code",
   "execution_count": null,
   "metadata": {},
   "outputs": [],
   "source": [
    "reshape_image_pil_np_avg_int = image_pil_np_avg_int.transpose((0, 3, 1, 2))\n",
    "reshape_image_pil_np_avg_int.shape"
   ]
  },
  {
   "cell_type": "code",
   "execution_count": null,
   "metadata": {},
   "outputs": [],
   "source": [
    "image_pil_label_np_avg_int = [0] * num_classes\n",
    "\n",
    "for idx in tqdm(range(num_classes), total=num_classes):\n",
    "    image_pil_label_np_avg_int[idx] = np.mean(image_pil_np_avg_int[idx], axis=2).astype(int)\n",
    "\n",
    "image_pil_label_np_avg_int[0].shape"
   ]
  },
  {
   "cell_type": "code",
   "execution_count": null,
   "metadata": {},
   "outputs": [],
   "source": [
    "fig, axes = plt.subplots(6, 3, figsize=(20, 34))\n",
    "fig.set_facecolor('white')\n",
    "axes = axes.flatten()\n",
    "\n",
    "for idx in tqdm(range(num_classes), total=num_classes):\n",
    "    axes[idx].hist(\n",
    "        image_pil_label_np_avg_int[idx].ravel(),\n",
    "        bins=256,\n",
    "        range=(0,256),\n",
    "    )\n",
    "    axes[idx].set_xlabel(f'Class - {idx}')\n",
    "    axes[idx].set_ylim(0, 13000)\n",
    "\n",
    "    colors = ('blue', 'green', 'red')\n",
    "    for channel_idx, color in enumerate(colors):\n",
    "        hist_value, _ = np.histogram(\n",
    "            reshape_image_pil_np_avg_int[idx][channel_idx].ravel(),\n",
    "            bins=256,\n",
    "            range=(0,256),\n",
    "            )\n",
    "        axes[idx].plot(\n",
    "            hist_value,\n",
    "            color=color,\n",
    "            alpha=0.5,\n",
    "        )\n",
    "\n",
    "plt.show()"
   ]
  }
 ],
 "metadata": {
  "interpreter": {
   "hash": "d4d1e4263499bec80672ea0156c357c1ee493ec2b1c70f0acce89fc37c4a6abe"
  },
  "kernelspec": {
   "display_name": "Python 3 (ipykernel)",
   "language": "python",
   "name": "python3"
  },
  "language_info": {
   "codemirror_mode": {
    "name": "ipython",
    "version": 3
   },
   "file_extension": ".py",
   "mimetype": "text/x-python",
   "name": "python",
   "nbconvert_exporter": "python",
   "pygments_lexer": "ipython3",
   "version": "3.8.5"
  }
 },
 "nbformat": 4,
 "nbformat_minor": 4
}
